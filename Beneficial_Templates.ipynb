{
 "cells": [
  {
   "cell_type": "code",
   "execution_count": null,
   "metadata": {},
   "outputs": [
    {
     "data": {
      "text/html": [
       "<pre style=\"white-space:pre;overflow-x:auto;line-height:normal;font-family:Menlo,'DejaVu Sans Mono',consolas,'Courier New',monospace\">sk-proj-Cg\n",
       "</pre>\n"
      ],
      "text/plain": [
       "sk-proj-Cg\n"
      ]
     },
     "metadata": {},
     "output_type": "display_data"
    }
   ],
   "source": [
    "from openai import OpenAI\n",
    "from rich import print\n",
    "import dotenv\n",
    "import os\n",
    "\n",
    "dotenv.load_dotenv()\n",
    "print(os.environ.get(\"OPENAI_API_KEY\")[:10])\n",
    "\n",
    "client = OpenAI()\n",
    "def invoke(prompt):\n",
    "    response = client.chat.completions.create(\n",
    "        model=\"gpt-3.5-turbo\",\n",
    "        messages=[{\"role\": \"user\", \"content\": prompt}]\n",
    "    )\n",
    "    return response.choices[0].message.content"
   ]
  },
  {
   "cell_type": "markdown",
   "metadata": {},
   "source": [
    "Go over @ sign usage"
   ]
  },
  {
   "cell_type": "markdown",
   "metadata": {},
   "source": [
    "Write a small calculator app using agent"
   ]
  },
  {
   "cell_type": "markdown",
   "metadata": {},
   "source": [
    "write a hangman app @todo.md"
   ]
  },
  {
   "cell_type": "markdown",
   "metadata": {},
   "source": [
    "write a hangman app @stepwise COT.md"
   ]
  },
  {
   "cell_type": "markdown",
   "metadata": {},
   "source": [
    "write a realtime trading platform @Q&A.md"
   ]
  },
  {
   "cell_type": "markdown",
   "metadata": {},
   "source": [
    "write a realtime trading platfomr @pros and cons.md"
   ]
  }
 ],
 "metadata": {
  "language_info": {
   "name": "python"
  }
 },
 "nbformat": 4,
 "nbformat_minor": 2
}
