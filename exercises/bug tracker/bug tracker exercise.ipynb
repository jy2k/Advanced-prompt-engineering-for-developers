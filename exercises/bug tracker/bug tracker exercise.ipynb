{
 "cells": [
  {
   "cell_type": "markdown",
   "id": "6aadf2d5",
   "metadata": {},
   "source": [
    "# 🏋️ RESPCT Practice Exercise — AI-Powered Bug Tracker Assistant\n",
    "Scenario:\n",
    "You are building a prompt-driven assistant that helps triage bug reports in a software engineering team. This assistant should read bug descriptions and classify them, extract key information, and suggest initial remediation steps."
   ]
  },
  {
   "cell_type": "markdown",
   "id": "25fb2dc4",
   "metadata": {},
   "source": [
    "## 🧩 Your Task\n",
    "\n",
    "Build a command line app to help Triage Bug Reports using the RESPCT framework.\n",
    "The app should communicate with an LLM to.\n",
    " Use the beneficial templates and Workflow concepts to build that app.\n",
    "1. Learn and plan what you intend to use and do with ask.\n",
    "2. Define rules / instructions.\n",
    "3. create a todo.md file.\n",
    "4. create tests.\n",
    "5. leverage stepwise CoT to own the code.\n",
    "6. leverage context from the web or internal source code as you progress.\n",
    "7. Jump ahead but if you get stuck, git discard and start over.\n",
    "---\n",
    "\n",
    "### ✅ Step-by-Step Instructions (One for Each RESPCT Letter)\n",
    "\n",
    "#### **(R) Role**\n",
    "Craft a prompt that sets the model’s role to give it the right expertise and tone.\n",
    "\n",
    "> _e.g., “You are a senior software engineer on a platform team…”_\n",
    "\n",
    "---\n",
    "\n",
    "#### **(E) Example**\n",
    "Provide a few example bug reports and show how they should be classified or triaged.\n",
    "\n",
    "> _e.g., Classify: Critical, Functional, Cosmetic._\n",
    "\n",
    "---\n",
    "\n",
    "#### **(S) Structure**\n",
    "Ask the model to output its results in a specific format.\n",
    "\n",
    "> _e.g., “Respond using the following format: Severity: ..., Module: ..., Suggested Fix: ...”_\n",
    "\n",
    "---\n",
    "\n",
    "#### **(P) Pipeline**\n",
    "Break the prompt into logical subtasks:\n",
    "- Extract affected module\n",
    "- Classify severity\n",
    "- Suggest possible cause\n",
    "- Recommend first fix\n",
    "\n",
    "> _Bonus: Chain them together with inputs/outputs or use LangChain._\n",
    "\n",
    "---\n",
    "\n",
    "#### **(C) Constraints**\n",
    "Add rules:\n",
    "- Output must be JSON\n",
    "- Severity must be one of: Critical, Major, Minor\n",
    "- Don’t suggest deleting production code\n",
    "\n",
    "---\n",
    "\n",
    "#### **(T) Task**\n",
    "Frame the task clearly in a single line.\n",
    "\n",
    "> _e.g., “Given a user-submitted bug report, triage it by extracting relevant information and recommending a fix.”_\n"
   ]
  },
  {
   "metadata": {},
   "cell_type": "code",
   "outputs": [],
   "execution_count": null,
   "source": "",
   "id": "acb8240049daf543"
  }
 ],
 "metadata": {
  "language_info": {
   "name": "python"
  }
 },
 "nbformat": 4,
 "nbformat_minor": 5
}
