{
 "cells": [
  {
   "cell_type": "markdown",
   "metadata": {},
   "source": [
    "# Guards Scheduler\n",
    "<span style=\"color:orange\">\n",
    "\n",
    "Note: It can get really complicated to build a working scheduler with all constraints (P!=NP 😆)\n",
    "\n",
    "Descope: 1 guard post 1 day makes things simpler.\n",
    "\n",
    "Challenge yourself: X guard posts, Y number of days.\n",
    "</span>\n",
    "\n",
    "\n",
    "<span style=\"color:blue\">\n",
    "\n",
    "Task: build a system that takes as input a list of guards and their qualifications, number of days, and translates it into a guarding schedule.\n",
    "\n",
    "</span>\n",
    "\n",
    "<span style=\"color:white\">\n",
    "\n",
    "Steps to take (Please invent more):\n",
    "- Start with a mega prompt but aim to break it down.\n",
    "- Make up constraints for a guard system (consult with chatGPT if you want)\n",
    "- Use delimeters to control structure (<delimeters>)\n",
    "- Start small - 1 day 1 post\n",
    "- Chain of thought coupled with Sketchpad goes a long way.\n",
    "- Output format - create a readable one and force the LLM to use it.\n",
    "- LLM as a judge for evaluating results\n",
    "- Scale the app from 1 day to 2 or more.\n",
    "- Scale the app from 1 post to 2 or more.\n",
    "\n",
    "</span>"
   ]
  },
  {
   "cell_type": "markdown",
   "metadata": {},
   "source": [
    "<span style=\"color:orange\">\n",
    "\n",
    "# Task\n",
    "build a system that takes as input a list of guards and their qualifications, number of days, and translates it into a guarding schedule.\n",
    "\n",
    "</span>"
   ]
  },
  {
   "cell_type": "code",
   "execution_count": 18,
   "metadata": {},
   "outputs": [
    {
     "name": "stdout",
     "output_type": "stream",
     "text": [
      "Requirement already satisfied: openai in /Users/jonathan_yarkoni/Projects/workshops/.venv/lib/python3.12/site-packages (1.35.3)\n",
      "Requirement already satisfied: langchain in /Users/jonathan_yarkoni/Projects/workshops/.venv/lib/python3.12/site-packages (0.2.5)\n",
      "Requirement already satisfied: langchain_community in /Users/jonathan_yarkoni/Projects/workshops/.venv/lib/python3.12/site-packages (0.2.5)\n",
      "Requirement already satisfied: langchain-mistralai in /Users/jonathan_yarkoni/Projects/workshops/.venv/lib/python3.12/site-packages (0.1.13)\n",
      "Requirement already satisfied: anyio<5,>=3.5.0 in /Users/jonathan_yarkoni/Projects/workshops/.venv/lib/python3.12/site-packages (from openai) (4.4.0)\n",
      "Requirement already satisfied: distro<2,>=1.7.0 in /Users/jonathan_yarkoni/Projects/workshops/.venv/lib/python3.12/site-packages (from openai) (1.9.0)\n",
      "Requirement already satisfied: httpx<1,>=0.23.0 in /Users/jonathan_yarkoni/Projects/workshops/.venv/lib/python3.12/site-packages (from openai) (0.27.0)\n",
      "Requirement already satisfied: pydantic<3,>=1.9.0 in /Users/jonathan_yarkoni/Projects/workshops/.venv/lib/python3.12/site-packages (from openai) (2.7.4)\n",
      "Requirement already satisfied: sniffio in /Users/jonathan_yarkoni/Projects/workshops/.venv/lib/python3.12/site-packages (from openai) (1.3.1)\n",
      "Requirement already satisfied: tqdm>4 in /Users/jonathan_yarkoni/Projects/workshops/.venv/lib/python3.12/site-packages (from openai) (4.66.4)\n",
      "Requirement already satisfied: typing-extensions<5,>=4.7 in /Users/jonathan_yarkoni/Projects/workshops/.venv/lib/python3.12/site-packages (from openai) (4.12.2)\n",
      "Requirement already satisfied: PyYAML>=5.3 in /Users/jonathan_yarkoni/Projects/workshops/.venv/lib/python3.12/site-packages (from langchain) (6.0.1)\n",
      "Requirement already satisfied: SQLAlchemy<3,>=1.4 in /Users/jonathan_yarkoni/Projects/workshops/.venv/lib/python3.12/site-packages (from langchain) (2.0.31)\n",
      "Requirement already satisfied: aiohttp<4.0.0,>=3.8.3 in /Users/jonathan_yarkoni/Projects/workshops/.venv/lib/python3.12/site-packages (from langchain) (3.9.5)\n",
      "Requirement already satisfied: langchain-core<0.3.0,>=0.2.7 in /Users/jonathan_yarkoni/Projects/workshops/.venv/lib/python3.12/site-packages (from langchain) (0.2.43)\n",
      "Requirement already satisfied: langchain-text-splitters<0.3.0,>=0.2.0 in /Users/jonathan_yarkoni/Projects/workshops/.venv/lib/python3.12/site-packages (from langchain) (0.2.1)\n",
      "Requirement already satisfied: langsmith<0.2.0,>=0.1.17 in /Users/jonathan_yarkoni/Projects/workshops/.venv/lib/python3.12/site-packages (from langchain) (0.1.142)\n",
      "Requirement already satisfied: numpy<2.0.0,>=1.26.0 in /Users/jonathan_yarkoni/Projects/workshops/.venv/lib/python3.12/site-packages (from langchain) (1.26.4)\n",
      "Requirement already satisfied: requests<3,>=2 in /Users/jonathan_yarkoni/Projects/workshops/.venv/lib/python3.12/site-packages (from langchain) (2.32.3)\n",
      "Requirement already satisfied: tenacity<9.0.0,>=8.1.0 in /Users/jonathan_yarkoni/Projects/workshops/.venv/lib/python3.12/site-packages (from langchain) (8.4.1)\n",
      "Requirement already satisfied: dataclasses-json<0.7,>=0.5.7 in /Users/jonathan_yarkoni/Projects/workshops/.venv/lib/python3.12/site-packages (from langchain_community) (0.6.7)\n",
      "Requirement already satisfied: httpx-sse<1,>=0.3.1 in /Users/jonathan_yarkoni/Projects/workshops/.venv/lib/python3.12/site-packages (from langchain-mistralai) (0.4.0)\n",
      "Requirement already satisfied: tokenizers<1,>=0.15.1 in /Users/jonathan_yarkoni/Projects/workshops/.venv/lib/python3.12/site-packages (from langchain-mistralai) (0.19.1)\n",
      "Requirement already satisfied: aiosignal>=1.1.2 in /Users/jonathan_yarkoni/Projects/workshops/.venv/lib/python3.12/site-packages (from aiohttp<4.0.0,>=3.8.3->langchain) (1.3.1)\n",
      "Requirement already satisfied: attrs>=17.3.0 in /Users/jonathan_yarkoni/Projects/workshops/.venv/lib/python3.12/site-packages (from aiohttp<4.0.0,>=3.8.3->langchain) (23.2.0)\n",
      "Requirement already satisfied: frozenlist>=1.1.1 in /Users/jonathan_yarkoni/Projects/workshops/.venv/lib/python3.12/site-packages (from aiohttp<4.0.0,>=3.8.3->langchain) (1.4.1)\n",
      "Requirement already satisfied: multidict<7.0,>=4.5 in /Users/jonathan_yarkoni/Projects/workshops/.venv/lib/python3.12/site-packages (from aiohttp<4.0.0,>=3.8.3->langchain) (6.0.5)\n",
      "Requirement already satisfied: yarl<2.0,>=1.0 in /Users/jonathan_yarkoni/Projects/workshops/.venv/lib/python3.12/site-packages (from aiohttp<4.0.0,>=3.8.3->langchain) (1.9.4)\n",
      "Requirement already satisfied: idna>=2.8 in /Users/jonathan_yarkoni/Projects/workshops/.venv/lib/python3.12/site-packages (from anyio<5,>=3.5.0->openai) (3.7)\n",
      "Requirement already satisfied: marshmallow<4.0.0,>=3.18.0 in /Users/jonathan_yarkoni/Projects/workshops/.venv/lib/python3.12/site-packages (from dataclasses-json<0.7,>=0.5.7->langchain_community) (3.21.3)\n",
      "Requirement already satisfied: typing-inspect<1,>=0.4.0 in /Users/jonathan_yarkoni/Projects/workshops/.venv/lib/python3.12/site-packages (from dataclasses-json<0.7,>=0.5.7->langchain_community) (0.9.0)\n",
      "Requirement already satisfied: certifi in /Users/jonathan_yarkoni/Projects/workshops/.venv/lib/python3.12/site-packages (from httpx<1,>=0.23.0->openai) (2024.6.2)\n",
      "Requirement already satisfied: httpcore==1.* in /Users/jonathan_yarkoni/Projects/workshops/.venv/lib/python3.12/site-packages (from httpx<1,>=0.23.0->openai) (1.0.5)\n",
      "Requirement already satisfied: h11<0.15,>=0.13 in /Users/jonathan_yarkoni/Projects/workshops/.venv/lib/python3.12/site-packages (from httpcore==1.*->httpx<1,>=0.23.0->openai) (0.14.0)\n",
      "Requirement already satisfied: jsonpatch<2.0,>=1.33 in /Users/jonathan_yarkoni/Projects/workshops/.venv/lib/python3.12/site-packages (from langchain-core<0.3.0,>=0.2.7->langchain) (1.33)\n",
      "Requirement already satisfied: packaging<25,>=23.2 in /Users/jonathan_yarkoni/Projects/workshops/.venv/lib/python3.12/site-packages (from langchain-core<0.3.0,>=0.2.7->langchain) (24.1)\n",
      "Requirement already satisfied: orjson<4.0.0,>=3.9.14 in /Users/jonathan_yarkoni/Projects/workshops/.venv/lib/python3.12/site-packages (from langsmith<0.2.0,>=0.1.17->langchain) (3.10.5)\n",
      "Requirement already satisfied: requests-toolbelt<2.0.0,>=1.0.0 in /Users/jonathan_yarkoni/Projects/workshops/.venv/lib/python3.12/site-packages (from langsmith<0.2.0,>=0.1.17->langchain) (1.0.0)\n",
      "Requirement already satisfied: annotated-types>=0.4.0 in /Users/jonathan_yarkoni/Projects/workshops/.venv/lib/python3.12/site-packages (from pydantic<3,>=1.9.0->openai) (0.7.0)\n",
      "Requirement already satisfied: pydantic-core==2.18.4 in /Users/jonathan_yarkoni/Projects/workshops/.venv/lib/python3.12/site-packages (from pydantic<3,>=1.9.0->openai) (2.18.4)\n",
      "Requirement already satisfied: charset-normalizer<4,>=2 in /Users/jonathan_yarkoni/Projects/workshops/.venv/lib/python3.12/site-packages (from requests<3,>=2->langchain) (3.3.2)\n",
      "Requirement already satisfied: urllib3<3,>=1.21.1 in /Users/jonathan_yarkoni/Projects/workshops/.venv/lib/python3.12/site-packages (from requests<3,>=2->langchain) (2.2.2)\n",
      "Requirement already satisfied: huggingface-hub<1.0,>=0.16.4 in /Users/jonathan_yarkoni/Projects/workshops/.venv/lib/python3.12/site-packages (from tokenizers<1,>=0.15.1->langchain-mistralai) (0.23.4)\n",
      "Requirement already satisfied: filelock in /Users/jonathan_yarkoni/Projects/workshops/.venv/lib/python3.12/site-packages (from huggingface-hub<1.0,>=0.16.4->tokenizers<1,>=0.15.1->langchain-mistralai) (3.15.3)\n",
      "Requirement already satisfied: fsspec>=2023.5.0 in /Users/jonathan_yarkoni/Projects/workshops/.venv/lib/python3.12/site-packages (from huggingface-hub<1.0,>=0.16.4->tokenizers<1,>=0.15.1->langchain-mistralai) (2024.5.0)\n",
      "Requirement already satisfied: jsonpointer>=1.9 in /Users/jonathan_yarkoni/Projects/workshops/.venv/lib/python3.12/site-packages (from jsonpatch<2.0,>=1.33->langchain-core<0.3.0,>=0.2.7->langchain) (3.0.0)\n",
      "Requirement already satisfied: mypy-extensions>=0.3.0 in /Users/jonathan_yarkoni/Projects/workshops/.venv/lib/python3.12/site-packages (from typing-inspect<1,>=0.4.0->dataclasses-json<0.7,>=0.5.7->langchain_community) (1.0.0)\n",
      "\n",
      "\u001b[1m[\u001b[0m\u001b[34;49mnotice\u001b[0m\u001b[1;39;49m]\u001b[0m\u001b[39;49m A new release of pip is available: \u001b[0m\u001b[31;49m24.1\u001b[0m\u001b[39;49m -> \u001b[0m\u001b[32;49m24.3.1\u001b[0m\n",
      "\u001b[1m[\u001b[0m\u001b[34;49mnotice\u001b[0m\u001b[1;39;49m]\u001b[0m\u001b[39;49m To update, run: \u001b[0m\u001b[32;49mpip install --upgrade pip\u001b[0m\n"
     ]
    }
   ],
   "source": [
    "!pip install openai langchain langchain_community langchain-mistralai"
   ]
  },
  {
   "cell_type": "code",
   "execution_count": null,
   "metadata": {},
   "outputs": [
    {
     "data": {
      "text/html": [
       "<pre style=\"white-space:pre;overflow-x:auto;line-height:normal;font-family:Menlo,'DejaVu Sans Mono',consolas,'Courier New',monospace\">sk-proj-RD\n",
       "</pre>\n"
      ],
      "text/plain": [
       "sk-proj-RD\n"
      ]
     },
     "metadata": {},
     "output_type": "display_data"
    }
   ],
   "source": [
    "from openai import OpenAI\n",
    "from rich import print\n",
    "import os\n",
    "USING_DOTENV = True\n",
    "\n",
    "if(USING_DOTENV):\n",
    "    import dotenv\n",
    "    dotenv.load_dotenv()\n",
    "else:\n",
    "    print(\"hard coded\")\n",
    "    os.environ[\"OPENAI_API_KEY\"] = 'skh-asdfgsadgasdgasdga' # replace with your API key\n",
    "\n",
    "print(os.environ.get(\"OPENAI_API_KEY\")[:10])\n",
    "\n",
    "client = OpenAI()"
   ]
  },
  {
   "cell_type": "code",
   "execution_count": 2,
   "metadata": {},
   "outputs": [],
   "source": [
    "def invoke(prompt):\n",
    "    response = client.chat.completions.create(\n",
    "        model=\"gpt-3.5-turbo\",\n",
    "        messages=[{\"role\": \"user\", \"content\": prompt}]\n",
    "    )\n",
    "    return response.choices[0].message.content"
   ]
  },
  {
   "cell_type": "markdown",
   "metadata": {},
   "source": [
    "<span style=\"color:orange\">\n",
    "\n",
    "\n",
    "RES-LTB framework:\n",
    "- (R) Role: Capture more and better semantic relationships\n",
    "- (E) Example: Additional context in output format\n",
    "- (S) Structure: Desired output to structure\n",
    "- (L) Limitations: Remind the model of the constraints\n",
    "- (T) Task: Instructing the model what you want it to do\n",
    "- (B) Break: Break the mega prompt to a pipeline\n",
    "- (S) Specificity: Don't be ambiguous\n",
    "\n",
    "\n",
    "</span>"
   ]
  },
  {
   "cell_type": "code",
   "execution_count": null,
   "metadata": {},
   "outputs": [
    {
     "data": {
      "text/html": [
       "<pre style=\"white-space:pre;overflow-x:auto;line-height:normal;font-family:Menlo,'DejaVu Sans Mono',consolas,'Courier New',monospace\">| Post     | Guard name | Time slot    | Guard experience |\n",
       "|----------|------------|--------------|------------------|\n",
       "| Left     | Tim        | <span style=\"color: #00ff00; text-decoration-color: #00ff00; font-weight: bold\">00:00</span> - <span style=\"color: #00ff00; text-decoration-color: #00ff00; font-weight: bold\">06:00</span> | <span style=\"color: #008080; text-decoration-color: #008080; font-weight: bold\">2</span> years          |\n",
       "| Right    | Allen      | <span style=\"color: #00ff00; text-decoration-color: #00ff00; font-weight: bold\">06:00</span> - <span style=\"color: #00ff00; text-decoration-color: #00ff00; font-weight: bold\">12:00</span> | <span style=\"color: #008080; text-decoration-color: #008080; font-weight: bold\">3</span> years          |\n",
       "| Left     | Jacob      | <span style=\"color: #00ff00; text-decoration-color: #00ff00; font-weight: bold\">12:00</span> - <span style=\"color: #00ff00; text-decoration-color: #00ff00; font-weight: bold\">18:00</span> | <span style=\"color: #008080; text-decoration-color: #008080; font-weight: bold\">4</span> years          |\n",
       "| Right    | Tim        | <span style=\"color: #00ff00; text-decoration-color: #00ff00; font-weight: bold\">18:00</span> - <span style=\"color: #00ff00; text-decoration-color: #00ff00; font-weight: bold\">24:00</span> | <span style=\"color: #008080; text-decoration-color: #008080; font-weight: bold\">2</span> years          |\n",
       "</pre>\n"
      ],
      "text/plain": [
       "| Post     | Guard name | Time slot    | Guard experience |\n",
       "|----------|------------|--------------|------------------|\n",
       "| Left     | Tim        | \u001b[1;92m00:00\u001b[0m - \u001b[1;92m06:00\u001b[0m | \u001b[1;36m2\u001b[0m years          |\n",
       "| Right    | Allen      | \u001b[1;92m06:00\u001b[0m - \u001b[1;92m12:00\u001b[0m | \u001b[1;36m3\u001b[0m years          |\n",
       "| Left     | Jacob      | \u001b[1;92m12:00\u001b[0m - \u001b[1;92m18:00\u001b[0m | \u001b[1;36m4\u001b[0m years          |\n",
       "| Right    | Tim        | \u001b[1;92m18:00\u001b[0m - \u001b[1;92m24:00\u001b[0m | \u001b[1;36m2\u001b[0m years          |\n"
      ]
     },
     "metadata": {},
     "output_type": "display_data"
    }
   ],
   "source": [
    "create_output_template = \"\"\"\n",
    "Give me an output example ....\n",
    "\"\"\"\n",
    "print(invoke(create_output_template))"
   ]
  },
  {
   "cell_type": "code",
   "execution_count": null,
   "metadata": {},
   "outputs": [
    {
     "data": {
      "text/html": [
       "<pre style=\"white-space:pre;overflow-x:auto;line-height:normal;font-family:Menlo,'DejaVu Sans Mono',consolas,'Courier New',monospace\"><span style=\"color: #008080; text-decoration-color: #008080; font-weight: bold\">5</span>. Each guard can only be scheduled for a maximum of <span style=\"color: #008080; text-decoration-color: #008080; font-weight: bold\">12</span> hours per day.\n",
       "<span style=\"color: #008080; text-decoration-color: #008080; font-weight: bold\">6</span>. Guards cannot work more than <span style=\"color: #008080; text-decoration-color: #008080; font-weight: bold\">5</span> consecutive days in a row.\n",
       "<span style=\"color: #008080; text-decoration-color: #008080; font-weight: bold\">7</span>. There must be at least one guard scheduled for each time slot at each post.\n",
       "<span style=\"color: #008080; text-decoration-color: #008080; font-weight: bold\">8</span>. Guard names must be spelled correctly and consistently throughout the table.\n",
       "<span style=\"color: #008080; text-decoration-color: #008080; font-weight: bold\">9</span>. Each guard must have at least one day off per week.\n",
       "<span style=\"color: #008080; text-decoration-color: #008080; font-weight: bold\">10</span>. Guards are not allowed to switch shifts with each other without prior approval.\n",
       "<span style=\"color: #008080; text-decoration-color: #008080; font-weight: bold\">11</span>. Guard experience can only be integers and must accurately reflect their years of service.\n",
       "<span style=\"color: #008080; text-decoration-color: #008080; font-weight: bold\">12</span>. The scheduling table must be updated and approved by a supervisor before being finalized.\n",
       "<span style=\"color: #008080; text-decoration-color: #008080; font-weight: bold\">13</span>. Guards cannot have overlapping shifts at different posts.\n",
       "<span style=\"color: #008080; text-decoration-color: #008080; font-weight: bold\">14</span>. The scheduling table must account for any holidays or special events that may require additional coverage.\n",
       "</pre>\n"
      ],
      "text/plain": [
       "\u001b[1;36m5\u001b[0m. Each guard can only be scheduled for a maximum of \u001b[1;36m12\u001b[0m hours per day.\n",
       "\u001b[1;36m6\u001b[0m. Guards cannot work more than \u001b[1;36m5\u001b[0m consecutive days in a row.\n",
       "\u001b[1;36m7\u001b[0m. There must be at least one guard scheduled for each time slot at each post.\n",
       "\u001b[1;36m8\u001b[0m. Guard names must be spelled correctly and consistently throughout the table.\n",
       "\u001b[1;36m9\u001b[0m. Each guard must have at least one day off per week.\n",
       "\u001b[1;36m10\u001b[0m. Guards are not allowed to switch shifts with each other without prior approval.\n",
       "\u001b[1;36m11\u001b[0m. Guard experience can only be integers and must accurately reflect their years of service.\n",
       "\u001b[1;36m12\u001b[0m. The scheduling table must be updated and approved by a supervisor before being finalized.\n",
       "\u001b[1;36m13\u001b[0m. Guards cannot have overlapping shifts at different posts.\n",
       "\u001b[1;36m14\u001b[0m. The scheduling table must account for any holidays or special events that may require additional coverage.\n"
      ]
     },
     "metadata": {},
     "output_type": "display_data"
    }
   ],
   "source": [
    "create_limitations = \"\"\"\n",
    "<task>Give me an output example of a guard scheduling table .... </task>\n",
    "<limiations>\n",
    "1. Guard name ....\n",
    "Suggest X .... more limitations\n",
    "\"\"\"\n",
    "print(invoke(create_limitations))"
   ]
  },
  {
   "cell_type": "code",
   "execution_count": null,
   "metadata": {},
   "outputs": [],
   "source": [
    "examples = \"\"\"\n",
    "\n",
    "....\n",
    "\n",
    "*********************************************************\n",
    "\n",
    "....\n",
    "\n",
    "*********************************************************\n",
    "\"\"\"\n",
    "\n",
    "names = \n",
    "\n",
    "posts = [\"front\", \"back\"]\n"
   ]
  },
  {
   "cell_type": "code",
   "execution_count": null,
   "metadata": {},
   "outputs": [
    {
     "data": {
      "text/html": [
       "<pre style=\"white-space:pre;overflow-x:auto;line-height:normal;font-family:Menlo,'DejaVu Sans Mono',consolas,'Courier New',monospace\">| Post  | Guard name | Time slot    | Guard experience |\n",
       "|-------|------------|--------------|------------------|\n",
       "| Front | Tom        | <span style=\"color: #00ff00; text-decoration-color: #00ff00; font-weight: bold\">00:00</span> - <span style=\"color: #00ff00; text-decoration-color: #00ff00; font-weight: bold\">06:00</span> | <span style=\"color: #008080; text-decoration-color: #008080; font-weight: bold\">2</span> years          |\n",
       "| Front | Ron        | <span style=\"color: #00ff00; text-decoration-color: #00ff00; font-weight: bold\">06:00</span> - <span style=\"color: #00ff00; text-decoration-color: #00ff00; font-weight: bold\">12:00</span> | <span style=\"color: #008080; text-decoration-color: #008080; font-weight: bold\">4</span> years          |\n",
       "| Front | Jon        | <span style=\"color: #00ff00; text-decoration-color: #00ff00; font-weight: bold\">12:00</span> - <span style=\"color: #00ff00; text-decoration-color: #00ff00; font-weight: bold\">18:00</span> | <span style=\"color: #008080; text-decoration-color: #008080; font-weight: bold\">2</span> years          |\n",
       "| Front | Tom        | <span style=\"color: #00ff00; text-decoration-color: #00ff00; font-weight: bold\">18:00</span> - <span style=\"color: #00ff00; text-decoration-color: #00ff00; font-weight: bold\">24:00</span> | <span style=\"color: #008080; text-decoration-color: #008080; font-weight: bold\">2</span> years          |\n",
       "| Back  | Ron        | <span style=\"color: #00ff00; text-decoration-color: #00ff00; font-weight: bold\">00:00</span> - <span style=\"color: #00ff00; text-decoration-color: #00ff00; font-weight: bold\">06:00</span> | <span style=\"color: #008080; text-decoration-color: #008080; font-weight: bold\">4</span> years          |\n",
       "| Back  | Jon        | <span style=\"color: #00ff00; text-decoration-color: #00ff00; font-weight: bold\">06:00</span> - <span style=\"color: #00ff00; text-decoration-color: #00ff00; font-weight: bold\">12:00</span> | <span style=\"color: #008080; text-decoration-color: #008080; font-weight: bold\">2</span> years          |\n",
       "| Back  | Tom        | <span style=\"color: #00ff00; text-decoration-color: #00ff00; font-weight: bold\">12:00</span> - <span style=\"color: #00ff00; text-decoration-color: #00ff00; font-weight: bold\">18:00</span> | <span style=\"color: #008080; text-decoration-color: #008080; font-weight: bold\">2</span> years          |\n",
       "| Back  | Ron        | <span style=\"color: #00ff00; text-decoration-color: #00ff00; font-weight: bold\">18:00</span> - <span style=\"color: #00ff00; text-decoration-color: #00ff00; font-weight: bold\">24:00</span> | <span style=\"color: #008080; text-decoration-color: #008080; font-weight: bold\">4</span> years          |\n",
       "</pre>\n"
      ],
      "text/plain": [
       "| Post  | Guard name | Time slot    | Guard experience |\n",
       "|-------|------------|--------------|------------------|\n",
       "| Front | Tom        | \u001b[1;92m00:00\u001b[0m - \u001b[1;92m06:00\u001b[0m | \u001b[1;36m2\u001b[0m years          |\n",
       "| Front | Ron        | \u001b[1;92m06:00\u001b[0m - \u001b[1;92m12:00\u001b[0m | \u001b[1;36m4\u001b[0m years          |\n",
       "| Front | Jon        | \u001b[1;92m12:00\u001b[0m - \u001b[1;92m18:00\u001b[0m | \u001b[1;36m2\u001b[0m years          |\n",
       "| Front | Tom        | \u001b[1;92m18:00\u001b[0m - \u001b[1;92m24:00\u001b[0m | \u001b[1;36m2\u001b[0m years          |\n",
       "| Back  | Ron        | \u001b[1;92m00:00\u001b[0m - \u001b[1;92m06:00\u001b[0m | \u001b[1;36m4\u001b[0m years          |\n",
       "| Back  | Jon        | \u001b[1;92m06:00\u001b[0m - \u001b[1;92m12:00\u001b[0m | \u001b[1;36m2\u001b[0m years          |\n",
       "| Back  | Tom        | \u001b[1;92m12:00\u001b[0m - \u001b[1;92m18:00\u001b[0m | \u001b[1;36m2\u001b[0m years          |\n",
       "| Back  | Ron        | \u001b[1;92m18:00\u001b[0m - \u001b[1;92m24:00\u001b[0m | \u001b[1;36m4\u001b[0m years          |\n"
      ]
     },
     "metadata": {},
     "output_type": "display_data"
    }
   ],
   "source": [
    "# Change the mega prompt\n",
    "mega_prompt = f\"\"\"\n",
    "<role>  ... </role>\n",
    "<examples>\n",
    "...\n",
    "</examples>\n",
    "<structure>\n",
    "output format:\n",
    "...\n",
    "</structure>\n",
    "\n",
    "<limitations>\n",
    "...\n",
    "</limitations>\n",
    "\n",
    "<task>\n",
    "...\n",
    "</task>\n",
    "\"\"\"\n",
    "response = invoke(mega_prompt)\n",
    "print(response)"
   ]
  },
  {
   "cell_type": "code",
   "execution_count": 44,
   "metadata": {},
   "outputs": [
    {
     "data": {
      "text/html": [
       "<pre style=\"white-space:pre;overflow-x:auto;line-height:normal;font-family:Menlo,'DejaVu Sans Mono',consolas,'Courier New',monospace\">Yes.\n",
       "\n",
       "Looking at the Guard Allocation Schedule provided, we can see that no guard is assigned to the same post twice in a\n",
       "row. In Week <span style=\"color: #008080; text-decoration-color: #008080; font-weight: bold\">1</span>, Danny and Tommy alternate between days, and the same pattern continues in Week <span style=\"color: #008080; text-decoration-color: #008080; font-weight: bold\">2</span> and subsequent \n",
       "weeks. Therefore, the condition is met.\n",
       "</pre>\n"
      ],
      "text/plain": [
       "Yes.\n",
       "\n",
       "Looking at the Guard Allocation Schedule provided, we can see that no guard is assigned to the same post twice in a\n",
       "row. In Week \u001b[1;36m1\u001b[0m, Danny and Tommy alternate between days, and the same pattern continues in Week \u001b[1;36m2\u001b[0m and subsequent \n",
       "weeks. Therefore, the condition is met.\n"
      ]
     },
     "metadata": {},
     "output_type": "display_data"
    }
   ],
   "source": [
    "# You don't have to use the second pormpt. Start with one mega prompt.\n",
    "# The second prompt takes as input the mega_prompt response\n",
    "condition = \"4. No guard is assigned to the same post twice in a row.\"\n",
    "\n",
    "validation_prompt = f\"\"\"\n",
    "Validate the following condition is met: \n",
    "{condition}\n",
    "\n",
    "in \n",
    "\n",
    "{response}\n",
    "\n",
    "answer in yes or no, and provide a reason with reference to the table.\n",
    "\"\"\"\n",
    "\n",
    "print(invoke(validation_prompt))"
   ]
  }
 ],
 "metadata": {
  "kernelspec": {
   "display_name": ".venv",
   "language": "python",
   "name": "python3"
  },
  "language_info": {
   "codemirror_mode": {
    "name": "ipython",
    "version": 3
   },
   "file_extension": ".py",
   "mimetype": "text/x-python",
   "name": "python",
   "nbconvert_exporter": "python",
   "pygments_lexer": "ipython3",
   "version": "3.12.9"
  }
 },
 "nbformat": 4,
 "nbformat_minor": 2
}
