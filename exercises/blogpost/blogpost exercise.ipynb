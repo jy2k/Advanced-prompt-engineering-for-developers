{
 "cells": [
  {
   "cell_type": "markdown",
   "metadata": {},
   "source": [
    "\n",
    "<div style=\"text-align: left; margin-top: 40px; margin-bottom: 40px;\">\n",
    "\n",
    "<img src=\"https://drive.google.com/thumbnail?id=1u9SWgjdTQ68zvulpOF25gMAQ7Otwx53P\" alt=\"Description of Image\">\n",
    "</div>\n",
    "<span style=\"color:#eb323c\">\n",
    "\n",
    "\n",
    "- Notebook property of: LATENT Engineering Firm ltd.\n",
    "\n",
    "- Website: www.reachlatent.com\n",
    "\n",
    "- For similar talks / workshops reach out to: info@reachlatent.com\n",
    "</span>"
   ]
  },
  {
   "cell_type": "markdown",
   "metadata": {},
   "source": [
    "# Blogpost Exercise\n",
    "\n",
    "<span style=\"color:orange\">\n",
    "TASK: create a mega prompt that receives a topic and creates blogpost\n",
    "<br>\n",
    "</span>\n",
    "<br>\n",
    "\n",
    "<span style=\"color:pink\">\n",
    "Try to solve based on the prompting lesson. <br> <br>\n",
    "1. List out what makes a good blogpost. <br>\n",
    "2. Employ methods for creating a better prompt.<br>\n",
    "3. Remeber, it's an iterative process. Run -> examine results -> change prompt -> repeat <br>\n",
    "<br>\n",
    "If you are struggling. At the bottom there are hints.\n",
    "\n",
    "</span>"
   ]
  },
  {
   "cell_type": "markdown",
   "metadata": {},
   "source": [
    "<span style=\"color:orange\">\n",
    "\n",
    "\n",
    "RES-LTB framework:\n",
    "- (R) Role: Capture more and better semantic relationships\n",
    "- (E) Example: Additional context in output format\n",
    "- (S) Structure: Desired output to structure\n",
    "- (L) Limitations: Remind the model of the constraints\n",
    "- (T) Task: Instructing the model what you want it to do\n",
    "- (B) Break: Break the mega prompt to a pipeline\n",
    "- (S) Specificity: Don't be ambiguous\n",
    "\n",
    "\n",
    "</span>"
   ]
  },
  {
   "cell_type": "code",
   "execution_count": 1,
   "metadata": {},
   "outputs": [
    {
     "name": "stdout",
     "output_type": "stream",
     "text": [
      "Requirement already satisfied: openai in /Users/jonathan_yarkoni/Projects/workshops/.venv/lib/python3.12/site-packages (1.35.3)\n",
      "Requirement already satisfied: anyio<5,>=3.5.0 in /Users/jonathan_yarkoni/Projects/workshops/.venv/lib/python3.12/site-packages (from openai) (4.4.0)\n",
      "Requirement already satisfied: distro<2,>=1.7.0 in /Users/jonathan_yarkoni/Projects/workshops/.venv/lib/python3.12/site-packages (from openai) (1.9.0)\n",
      "Requirement already satisfied: httpx<1,>=0.23.0 in /Users/jonathan_yarkoni/Projects/workshops/.venv/lib/python3.12/site-packages (from openai) (0.27.0)\n",
      "Requirement already satisfied: pydantic<3,>=1.9.0 in /Users/jonathan_yarkoni/Projects/workshops/.venv/lib/python3.12/site-packages (from openai) (2.7.4)\n",
      "Requirement already satisfied: sniffio in /Users/jonathan_yarkoni/Projects/workshops/.venv/lib/python3.12/site-packages (from openai) (1.3.1)\n",
      "Requirement already satisfied: tqdm>4 in /Users/jonathan_yarkoni/Projects/workshops/.venv/lib/python3.12/site-packages (from openai) (4.66.4)\n",
      "Requirement already satisfied: typing-extensions<5,>=4.7 in /Users/jonathan_yarkoni/Projects/workshops/.venv/lib/python3.12/site-packages (from openai) (4.12.2)\n",
      "Requirement already satisfied: idna>=2.8 in /Users/jonathan_yarkoni/Projects/workshops/.venv/lib/python3.12/site-packages (from anyio<5,>=3.5.0->openai) (3.7)\n",
      "Requirement already satisfied: certifi in /Users/jonathan_yarkoni/Projects/workshops/.venv/lib/python3.12/site-packages (from httpx<1,>=0.23.0->openai) (2024.6.2)\n",
      "Requirement already satisfied: httpcore==1.* in /Users/jonathan_yarkoni/Projects/workshops/.venv/lib/python3.12/site-packages (from httpx<1,>=0.23.0->openai) (1.0.5)\n",
      "Requirement already satisfied: h11<0.15,>=0.13 in /Users/jonathan_yarkoni/Projects/workshops/.venv/lib/python3.12/site-packages (from httpcore==1.*->httpx<1,>=0.23.0->openai) (0.14.0)\n",
      "Requirement already satisfied: annotated-types>=0.4.0 in /Users/jonathan_yarkoni/Projects/workshops/.venv/lib/python3.12/site-packages (from pydantic<3,>=1.9.0->openai) (0.7.0)\n",
      "Requirement already satisfied: pydantic-core==2.18.4 in /Users/jonathan_yarkoni/Projects/workshops/.venv/lib/python3.12/site-packages (from pydantic<3,>=1.9.0->openai) (2.18.4)\n",
      "\n",
      "\u001b[1m[\u001b[0m\u001b[34;49mnotice\u001b[0m\u001b[1;39;49m]\u001b[0m\u001b[39;49m A new release of pip is available: \u001b[0m\u001b[31;49m24.1\u001b[0m\u001b[39;49m -> \u001b[0m\u001b[32;49m24.3.1\u001b[0m\n",
      "\u001b[1m[\u001b[0m\u001b[34;49mnotice\u001b[0m\u001b[1;39;49m]\u001b[0m\u001b[39;49m To update, run: \u001b[0m\u001b[32;49mpip install --upgrade pip\u001b[0m\n"
     ]
    }
   ],
   "source": [
    "!pip install openai"
   ]
  },
  {
   "cell_type": "code",
   "execution_count": null,
   "metadata": {},
   "outputs": [
    {
     "data": {
      "text/html": [
       "<pre style=\"white-space:pre;overflow-x:auto;line-height:normal;font-family:Menlo,'DejaVu Sans Mono',consolas,'Courier New',monospace\">sk-proj-RD\n",
       "</pre>\n"
      ],
      "text/plain": [
       "sk-proj-RD\n"
      ]
     },
     "metadata": {},
     "output_type": "display_data"
    }
   ],
   "source": [
    "from openai import OpenAI\n",
    "from rich import print\n",
    "import os\n",
    "USING_DOTENV = True\n",
    "\n",
    "if(USING_DOTENV):\n",
    "    import dotenv\n",
    "    dotenv.load_dotenv()\n",
    "else:\n",
    "    print(\"hard coded\")\n",
    "    os.environ[\"OPENAI_API_KEY\"] = 'skh-asdfgsadgasdgasdga' # replace with your API key\n",
    "\n",
    "print(os.environ.get(\"OPENAI_API_KEY\")[:10])\n",
    "\n",
    "client = OpenAI()"
   ]
  },
  {
   "cell_type": "code",
   "execution_count": 3,
   "metadata": {},
   "outputs": [],
   "source": [
    "def invoke(prompt):\n",
    "    response = client.chat.completions.create(\n",
    "        model=\"gpt-3.5-turbo\",\n",
    "        messages=[{\"role\": \"user\", \"content\": prompt}]\n",
    "    )\n",
    "    return response.choices[0].message.content"
   ]
  },
  {
   "cell_type": "code",
   "execution_count": null,
   "metadata": {},
   "outputs": [],
   "source": [
    "# https://www.tonyrobbins.com/blog/passive-income\n",
    "tony_robbins_blogpost_example= \"\"\"\n",
    "\n",
    "\"\"\""
   ]
  },
  {
   "cell_type": "code",
   "execution_count": null,
   "metadata": {},
   "outputs": [
    {
     "data": {
      "text/html": [
       "<pre style=\"white-space:pre;overflow-x:auto;line-height:normal;font-family:Menlo,'DejaVu Sans Mono',consolas,'Courier New',monospace\">- Introduction:\n",
       "Inflation is a term that has been on everyone's lips post Covid-<span style=\"color: #008080; text-decoration-color: #008080; font-weight: bold\">19</span> as economies around the world struggle to \n",
       "recover from the impact of the pandemic. In the United States, the effects of inflation have been felt by \n",
       "individuals and businesses alike. In this blogpost, we will explore the concept of inflation post Covid-<span style=\"color: #008080; text-decoration-color: #008080; font-weight: bold\">19</span> and how \n",
       "individuals can navigate these uncertain times by exploring passive income opportunities.\n",
       "\n",
       "- Body:\n",
       "Passive income has been touted as a way for individuals to take control of their finances and add to their income \n",
       "with minimal effort. This type of income can provide financial stability and security, especially during times of \n",
       "economic uncertainty. There are various types of passive income, including real estate investment trusts <span style=\"font-weight: bold\">(</span>REITs<span style=\"font-weight: bold\">)</span>, \n",
       "real estate rentals, money market accounts, index funds, dividend stocks, business investments, using expertise to \n",
       "create and sell content, creative pursuits, affiliate marketing, and renting out assets like homes or cars.\n",
       "\n",
       "Passive income can be a reliable source of income, allowing individuals to earn money without having to actively \n",
       "work for it on a daily basis. It is essential to match your initial time and energy investment to your risk \n",
       "tolerance level and do thorough research before making any investment decisions.\n",
       "\n",
       "- Facts:\n",
       "According to recent statistics in the United States, inflation has been on the rise post Covid-<span style=\"color: #008080; text-decoration-color: #008080; font-weight: bold\">19</span>, with consumer \n",
       "prices increasing by X% in the past year. This has led to higher costs for goods and services, putting a strain on \n",
       "individuals' finances. Inflation is expected to continue to impact the economy in the coming months, making it \n",
       "crucial for individuals to explore alternative income sources like passive income to offset the effects of rising \n",
       "prices.\n",
       "\n",
       "- Conclusion:\n",
       "Inflation post Covid-<span style=\"color: #008080; text-decoration-color: #008080; font-weight: bold\">19</span> has presented challenges for individuals and businesses alike, but it has also created \n",
       "opportunities for those willing to explore passive income avenues. By diversifying income streams and investing in \n",
       "passive income opportunities, individuals can take control of their financial future and weather the uncertainties \n",
       "of inflation. Whether it's through real estate investments, affiliate marketing, or leveraging creative talents, \n",
       "there are plenty of ways to build passive income and thrive in the new economic landscape.\n",
       "</pre>\n"
      ],
      "text/plain": [
       "- Introduction:\n",
       "Inflation is a term that has been on everyone's lips post Covid-\u001b[1;36m19\u001b[0m as economies around the world struggle to \n",
       "recover from the impact of the pandemic. In the United States, the effects of inflation have been felt by \n",
       "individuals and businesses alike. In this blogpost, we will explore the concept of inflation post Covid-\u001b[1;36m19\u001b[0m and how \n",
       "individuals can navigate these uncertain times by exploring passive income opportunities.\n",
       "\n",
       "- Body:\n",
       "Passive income has been touted as a way for individuals to take control of their finances and add to their income \n",
       "with minimal effort. This type of income can provide financial stability and security, especially during times of \n",
       "economic uncertainty. There are various types of passive income, including real estate investment trusts \u001b[1m(\u001b[0mREITs\u001b[1m)\u001b[0m, \n",
       "real estate rentals, money market accounts, index funds, dividend stocks, business investments, using expertise to \n",
       "create and sell content, creative pursuits, affiliate marketing, and renting out assets like homes or cars.\n",
       "\n",
       "Passive income can be a reliable source of income, allowing individuals to earn money without having to actively \n",
       "work for it on a daily basis. It is essential to match your initial time and energy investment to your risk \n",
       "tolerance level and do thorough research before making any investment decisions.\n",
       "\n",
       "- Facts:\n",
       "According to recent statistics in the United States, inflation has been on the rise post Covid-\u001b[1;36m19\u001b[0m, with consumer \n",
       "prices increasing by X% in the past year. This has led to higher costs for goods and services, putting a strain on \n",
       "individuals' finances. Inflation is expected to continue to impact the economy in the coming months, making it \n",
       "crucial for individuals to explore alternative income sources like passive income to offset the effects of rising \n",
       "prices.\n",
       "\n",
       "- Conclusion:\n",
       "Inflation post Covid-\u001b[1;36m19\u001b[0m has presented challenges for individuals and businesses alike, but it has also created \n",
       "opportunities for those willing to explore passive income avenues. By diversifying income streams and investing in \n",
       "passive income opportunities, individuals can take control of their financial future and weather the uncertainties \n",
       "of inflation. Whether it's through real estate investments, affiliate marketing, or leveraging creative talents, \n",
       "there are plenty of ways to build passive income and thrive in the new economic landscape.\n"
      ]
     },
     "metadata": {},
     "output_type": "display_data"
    }
   ],
   "source": [
    "#Change the topic to whatever you want\n",
    "topic = \"\"\"\"\n",
    "quantum computing\n",
    "\"\"\"\n",
    "#Change teh mega prompt to whatever you want\n",
    "mega_prompt = f\"\"\"\n",
    "<role> You are...... </role>\n",
    "<task> Write a blogpost about {topic} </task>\n",
    "<examples>\n",
    "{your_many_examples_from_writers_you_like}\n",
    "<examples>\n",
    "<limitations>\n",
    "1. Do this\n",
    "2. Do that\n",
    "3. Really do these\n",
    "</limitations>\n",
    "The output structure should be.....\n",
    "The blogpost should contain no more than 35993 characters....\n",
    "\"\"\"\n",
    "response = invoke(mega_prompt)\n",
    "print(response)"
   ]
  },
  {
   "cell_type": "code",
   "execution_count": null,
   "metadata": {},
   "outputs": [
    {
     "data": {
      "text/html": [
       "<pre style=\"white-space:pre;overflow-x:auto;line-height:normal;font-family:Menlo,'DejaVu Sans Mono',consolas,'Courier New',monospace\">- Inflation post Covid-<span style=\"color: #008080; text-decoration-color: #008080; font-weight: bold\">19</span> is impacting the economy, with consumer prices rising by X% in the US, leading to higher \n",
       "costs for goods and services.\n",
       "- Passive income is seen as a way for individuals to navigate economic uncertainty, with options like real estate \n",
       "investments, affiliate marketing, and creative pursuits.\n",
       "- Diversifying income streams through passive income opportunities can help individuals take control of their \n",
       "financial future and offset the effects of inflation.\n",
       "</pre>\n"
      ],
      "text/plain": [
       "- Inflation post Covid-\u001b[1;36m19\u001b[0m is impacting the economy, with consumer prices rising by X% in the US, leading to higher \n",
       "costs for goods and services.\n",
       "- Passive income is seen as a way for individuals to navigate economic uncertainty, with options like real estate \n",
       "investments, affiliate marketing, and creative pursuits.\n",
       "- Diversifying income streams through passive income opportunities can help individuals take control of their \n",
       "financial future and offset the effects of inflation.\n"
      ]
     },
     "metadata": {},
     "output_type": "display_data"
    }
   ],
   "source": [
    "# You don't have to use the second pormpt. Start with one mega prompt.\n",
    "validation_prompt = f\"\"\"\n",
    "validate ........ on the following text:\n",
    "{response}\n",
    "\"\"\"\n",
    "\n",
    "print(invoke(validation_prompt))"
   ]
  },
  {
   "cell_type": "markdown",
   "metadata": {},
   "source": [
    "# Hints (steps to take):\n",
    "- Build a mega prompt and then break is down.\n",
    "- Generate knowledge - Don't assume the model remembers everything it knows. Generate it in a prompt and then use it in the next.\n",
    "- Tone - how do you want the blogpost to sound?\n",
    "- Length - Will it be 5 lines or 5 paragraphs?\n",
    "- What makkes a good blogpost from a company prespective? example: SEO rules - don’t know what SEO rules are, ask ChatGPT\n",
    "- Examples: give the prompt blogposts of writers or articles you like\n",
    "- Structure - Have it tell a “success story” / “an analysis of X” / “<your idea>” what is the story\n",
    "- Sketchpad - give it time to think\n",
    "- output - control the format. Remove chatiness (example of removing chatiness: answer with \"yes\" or \"no\")\n",
    "- Validate things - “were my main points discussed?”"
   ]
  },
  {
   "cell_type": "markdown",
   "metadata": {},
   "source": []
  }
 ],
 "metadata": {
  "kernelspec": {
   "display_name": ".venv",
   "language": "python",
   "name": "python3"
  },
  "language_info": {
   "codemirror_mode": {
    "name": "ipython",
    "version": 3
   },
   "file_extension": ".py",
   "mimetype": "text/x-python",
   "name": "python",
   "nbconvert_exporter": "python",
   "pygments_lexer": "ipython3",
   "version": "3.12.9"
  }
 },
 "nbformat": 4,
 "nbformat_minor": 2
}
