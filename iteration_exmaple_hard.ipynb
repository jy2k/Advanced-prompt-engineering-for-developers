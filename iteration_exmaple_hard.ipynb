{
 "cells": [
  {
   "cell_type": "code",
   "execution_count": null,
   "metadata": {},
   "outputs": [
    {
     "data": {
      "text/html": [
       "<pre style=\"white-space:pre;overflow-x:auto;line-height:normal;font-family:Menlo,'DejaVu Sans Mono',consolas,'Courier New',monospace\">sk-proj-Cg\n",
       "</pre>\n"
      ],
      "text/plain": [
       "sk-proj-Cg\n"
      ]
     },
     "metadata": {},
     "output_type": "display_data"
    }
   ],
   "source": [
    "from openai import OpenAI\n",
    "from rich import print\n",
    "import dotenv\n",
    "import os\n",
    "\n",
    "dotenv.load_dotenv()\n",
    "print(os.environ.get(\"OPENAI_API_KEY\")[:10])\n",
    "\n",
    "client = OpenAI()\n",
    "def invoke(prompt):\n",
    "    response = client.chat.completions.create(\n",
    "        model=\"gpt-3.5-turbo\",\n",
    "        messages=[{\"role\": \"user\", \"content\": prompt}]\n",
    "    )\n",
    "    return response.choices[0].message.content"
   ]
  },
  {
   "cell_type": "markdown",
   "metadata": {},
   "source": [
    "# Iterating prompts - Hard\n",
    "<span style=\"color:orange\">\n",
    "\n",
    "To illlustrate that prompting is an iterative process we will solve the following problem:\n",
    "\n",
    "<span style=\"color:green\">\n",
    "\n",
    "\"You are the manager of a mall and have to create an around the clock guard allocation shift for the next week. People need to guard according to qualifications.\"\n",
    "\n",
    "</span>\n",
    "</span>"
   ]
  },
  {
   "cell_type": "code",
   "execution_count": null,
   "metadata": {},
   "outputs": [
    {
     "data": {
      "text/html": [
       "<pre style=\"white-space:pre;overflow-x:auto;line-height:normal;font-family:Menlo,'DejaVu Sans Mono',consolas,'Courier New',monospace\">Here is the around-the-clock guard allocation shift for the next week:\n",
       "\n",
       "**Monday:**\n",
       "- <span style=\"color: #00ff00; text-decoration-color: #00ff00; font-weight: bold\">12:00a</span>m-<span style=\"color: #00ff00; text-decoration-color: #00ff00; font-weight: bold\">8:00a</span>m: Security Guard A <span style=\"font-weight: bold\">(</span>qualified to handle emergency situations<span style=\"font-weight: bold\">)</span>\n",
       "- <span style=\"color: #00ff00; text-decoration-color: #00ff00; font-weight: bold\">8:00a</span>m-<span style=\"color: #00ff00; text-decoration-color: #00ff00; font-weight: bold\">4:00</span>pm: Security Guard B <span style=\"font-weight: bold\">(</span>qualified with strong observation and communication skills<span style=\"font-weight: bold\">)</span>\n",
       "- <span style=\"color: #00ff00; text-decoration-color: #00ff00; font-weight: bold\">4:00</span>pm-<span style=\"color: #00ff00; text-decoration-color: #00ff00; font-weight: bold\">12:00a</span>m: Security Guard C <span style=\"font-weight: bold\">(</span>qualified with strong customer service skills<span style=\"font-weight: bold\">)</span>\n",
       "\n",
       "**Tuesday:**\n",
       "- <span style=\"color: #00ff00; text-decoration-color: #00ff00; font-weight: bold\">12:00a</span>m-<span style=\"color: #00ff00; text-decoration-color: #00ff00; font-weight: bold\">8:00a</span>m: Security Guard D <span style=\"font-weight: bold\">(</span>qualified with experience in surveillance and monitoring<span style=\"font-weight: bold\">)</span>\n",
       "- <span style=\"color: #00ff00; text-decoration-color: #00ff00; font-weight: bold\">8:00a</span>m-<span style=\"color: #00ff00; text-decoration-color: #00ff00; font-weight: bold\">4:00</span>pm: Security Guard A\n",
       "- <span style=\"color: #00ff00; text-decoration-color: #00ff00; font-weight: bold\">4:00</span>pm-<span style=\"color: #00ff00; text-decoration-color: #00ff00; font-weight: bold\">12:00a</span>m: Security Guard B\n",
       "\n",
       "**Wednesday:**\n",
       "- <span style=\"color: #00ff00; text-decoration-color: #00ff00; font-weight: bold\">12:00a</span>m-<span style=\"color: #00ff00; text-decoration-color: #00ff00; font-weight: bold\">8:00a</span>m: Security Guard C\n",
       "- <span style=\"color: #00ff00; text-decoration-color: #00ff00; font-weight: bold\">8:00a</span>m-<span style=\"color: #00ff00; text-decoration-color: #00ff00; font-weight: bold\">4:00</span>pm: Security Guard D\n",
       "- <span style=\"color: #00ff00; text-decoration-color: #00ff00; font-weight: bold\">4:00</span>pm-<span style=\"color: #00ff00; text-decoration-color: #00ff00; font-weight: bold\">12:00a</span>m: Security Guard A\n",
       "\n",
       "**Thursday:**\n",
       "- <span style=\"color: #00ff00; text-decoration-color: #00ff00; font-weight: bold\">12:00a</span>m-<span style=\"color: #00ff00; text-decoration-color: #00ff00; font-weight: bold\">8:00a</span>m: Security Guard B\n",
       "- <span style=\"color: #00ff00; text-decoration-color: #00ff00; font-weight: bold\">8:00a</span>m-<span style=\"color: #00ff00; text-decoration-color: #00ff00; font-weight: bold\">4:00</span>pm: Security Guard C\n",
       "- <span style=\"color: #00ff00; text-decoration-color: #00ff00; font-weight: bold\">4:00</span>pm-<span style=\"color: #00ff00; text-decoration-color: #00ff00; font-weight: bold\">12:00a</span>m: Security Guard D\n",
       "\n",
       "**Friday:**\n",
       "- <span style=\"color: #00ff00; text-decoration-color: #00ff00; font-weight: bold\">12:00a</span>m-<span style=\"color: #00ff00; text-decoration-color: #00ff00; font-weight: bold\">8:00a</span>m: Security Guard A\n",
       "- <span style=\"color: #00ff00; text-decoration-color: #00ff00; font-weight: bold\">8:00a</span>m-<span style=\"color: #00ff00; text-decoration-color: #00ff00; font-weight: bold\">4:00</span>pm: Security Guard B\n",
       "- <span style=\"color: #00ff00; text-decoration-color: #00ff00; font-weight: bold\">4:00</span>pm-<span style=\"color: #00ff00; text-decoration-color: #00ff00; font-weight: bold\">12:00a</span>m: Security Guard C\n",
       "\n",
       "**Saturday:**\n",
       "- <span style=\"color: #00ff00; text-decoration-color: #00ff00; font-weight: bold\">12:00a</span>m-<span style=\"color: #00ff00; text-decoration-color: #00ff00; font-weight: bold\">8:00a</span>m: Security Guard D\n",
       "- <span style=\"color: #00ff00; text-decoration-color: #00ff00; font-weight: bold\">8:00a</span>m-<span style=\"color: #00ff00; text-decoration-color: #00ff00; font-weight: bold\">4:00</span>pm: Security Guard A\n",
       "- <span style=\"color: #00ff00; text-decoration-color: #00ff00; font-weight: bold\">4:00</span>pm-<span style=\"color: #00ff00; text-decoration-color: #00ff00; font-weight: bold\">12:00a</span>m: Security Guard B\n",
       "\n",
       "**Sunday:**\n",
       "- <span style=\"color: #00ff00; text-decoration-color: #00ff00; font-weight: bold\">12:00a</span>m-<span style=\"color: #00ff00; text-decoration-color: #00ff00; font-weight: bold\">8:00a</span>m: Security Guard C\n",
       "- <span style=\"color: #00ff00; text-decoration-color: #00ff00; font-weight: bold\">8:00a</span>m-<span style=\"color: #00ff00; text-decoration-color: #00ff00; font-weight: bold\">4:00</span>pm: Security Guard D\n",
       "- <span style=\"color: #00ff00; text-decoration-color: #00ff00; font-weight: bold\">4:00</span>pm-<span style=\"color: #00ff00; text-decoration-color: #00ff00; font-weight: bold\">12:00a</span>m: Security Guard A\n",
       "\n",
       "This schedule ensures that the mall is guarded around the clock by security guards with different qualifications to\n",
       "handle various situations that may arise.\n",
       "</pre>\n"
      ],
      "text/plain": [
       "Here is the around-the-clock guard allocation shift for the next week:\n",
       "\n",
       "**Monday:**\n",
       "- \u001b[1;92m12:00a\u001b[0mm-\u001b[1;92m8:00a\u001b[0mm: Security Guard A \u001b[1m(\u001b[0mqualified to handle emergency situations\u001b[1m)\u001b[0m\n",
       "- \u001b[1;92m8:00a\u001b[0mm-\u001b[1;92m4:00\u001b[0mpm: Security Guard B \u001b[1m(\u001b[0mqualified with strong observation and communication skills\u001b[1m)\u001b[0m\n",
       "- \u001b[1;92m4:00\u001b[0mpm-\u001b[1;92m12:00a\u001b[0mm: Security Guard C \u001b[1m(\u001b[0mqualified with strong customer service skills\u001b[1m)\u001b[0m\n",
       "\n",
       "**Tuesday:**\n",
       "- \u001b[1;92m12:00a\u001b[0mm-\u001b[1;92m8:00a\u001b[0mm: Security Guard D \u001b[1m(\u001b[0mqualified with experience in surveillance and monitoring\u001b[1m)\u001b[0m\n",
       "- \u001b[1;92m8:00a\u001b[0mm-\u001b[1;92m4:00\u001b[0mpm: Security Guard A\n",
       "- \u001b[1;92m4:00\u001b[0mpm-\u001b[1;92m12:00a\u001b[0mm: Security Guard B\n",
       "\n",
       "**Wednesday:**\n",
       "- \u001b[1;92m12:00a\u001b[0mm-\u001b[1;92m8:00a\u001b[0mm: Security Guard C\n",
       "- \u001b[1;92m8:00a\u001b[0mm-\u001b[1;92m4:00\u001b[0mpm: Security Guard D\n",
       "- \u001b[1;92m4:00\u001b[0mpm-\u001b[1;92m12:00a\u001b[0mm: Security Guard A\n",
       "\n",
       "**Thursday:**\n",
       "- \u001b[1;92m12:00a\u001b[0mm-\u001b[1;92m8:00a\u001b[0mm: Security Guard B\n",
       "- \u001b[1;92m8:00a\u001b[0mm-\u001b[1;92m4:00\u001b[0mpm: Security Guard C\n",
       "- \u001b[1;92m4:00\u001b[0mpm-\u001b[1;92m12:00a\u001b[0mm: Security Guard D\n",
       "\n",
       "**Friday:**\n",
       "- \u001b[1;92m12:00a\u001b[0mm-\u001b[1;92m8:00a\u001b[0mm: Security Guard A\n",
       "- \u001b[1;92m8:00a\u001b[0mm-\u001b[1;92m4:00\u001b[0mpm: Security Guard B\n",
       "- \u001b[1;92m4:00\u001b[0mpm-\u001b[1;92m12:00a\u001b[0mm: Security Guard C\n",
       "\n",
       "**Saturday:**\n",
       "- \u001b[1;92m12:00a\u001b[0mm-\u001b[1;92m8:00a\u001b[0mm: Security Guard D\n",
       "- \u001b[1;92m8:00a\u001b[0mm-\u001b[1;92m4:00\u001b[0mpm: Security Guard A\n",
       "- \u001b[1;92m4:00\u001b[0mpm-\u001b[1;92m12:00a\u001b[0mm: Security Guard B\n",
       "\n",
       "**Sunday:**\n",
       "- \u001b[1;92m12:00a\u001b[0mm-\u001b[1;92m8:00a\u001b[0mm: Security Guard C\n",
       "- \u001b[1;92m8:00a\u001b[0mm-\u001b[1;92m4:00\u001b[0mpm: Security Guard D\n",
       "- \u001b[1;92m4:00\u001b[0mpm-\u001b[1;92m12:00a\u001b[0mm: Security Guard A\n",
       "\n",
       "This schedule ensures that the mall is guarded around the clock by security guards with different qualifications to\n",
       "handle various situations that may arise.\n"
      ]
     },
     "metadata": {},
     "output_type": "display_data"
    }
   ],
   "source": [
    "prompt = \"You are the manager of a mall and have to create an around the clock guard allocation shift for the next week. People need to guard according to qualifications.\"\n",
    "\n",
    "print(invoke(prompt))"
   ]
  },
  {
   "cell_type": "markdown",
   "metadata": {},
   "source": [
    "<span style=\"color:orange\">\n",
    "Self reflection:\n",
    "\n",
    "1. Everyone is qualified\n",
    "2. Shift times are wrong\n",
    "3. No mention of posts\n",
    "4. Security guards are numbers not names\n",
    "5. There is no order <\\tags>\n",
    "\n",
    "Corrections:\n",
    "Let's temporarly descope a bit and solve this for 1 day with 1 post and 3 people.\n",
    "Also we will take the approach of:\n",
    " \n",
    "1. strongest model\n",
    "2. Mega prompt.\n",
    "</span>"
   ]
  },
  {
   "cell_type": "code",
   "execution_count": null,
   "metadata": {},
   "outputs": [],
   "source": [
    "def invoke(prompt):\n",
    "    response = client.chat.completions.create(\n",
    "        model=\"gpt-4o\",\n",
    "        messages=[{\"role\": \"user\", \"content\": prompt}]\n",
    "    )\n",
    "    return response.choices[0].message.content"
   ]
  },
  {
   "cell_type": "code",
   "execution_count": null,
   "metadata": {},
   "outputs": [
    {
     "data": {
      "text/html": [
       "<pre style=\"white-space:pre;overflow-x:auto;line-height:normal;font-family:Menlo,'DejaVu Sans Mono',consolas,'Courier New',monospace\">To allocate the guards to the guarding post shifts, we need to ensure that each shift is covered by a qualified \n",
       "guard based on the provided constraints. However, the task does not specify the qualifications of each guard, so we\n",
       "will assume that all guards are equally qualified for simplicity. Here’s a possible allocation for the day:\n",
       "\n",
       "### Shift Allocation:\n",
       "<span style=\"color: #008080; text-decoration-color: #008080; font-weight: bold\">1</span>. **6am-12pm**\n",
       "   - **Guard**: Isaac\n",
       "\n",
       "<span style=\"color: #008080; text-decoration-color: #008080; font-weight: bold\">2</span>. **12pm-6pm**\n",
       "   - **Guard**: Stern\n",
       "\n",
       "<span style=\"color: #008080; text-decoration-color: #008080; font-weight: bold\">3</span>. **6pm-9pm**\n",
       "   - **Guard**: Alibaba\n",
       "\n",
       "### Justification:\n",
       "<span style=\"color: #008080; text-decoration-color: #008080; font-weight: bold\">1</span>. Each guard works one shift to ensure they are not overworked and have sufficient rest.\n",
       "<span style=\"color: #008080; text-decoration-color: #008080; font-weight: bold\">2</span>. The shifts are evenly distributed between the guards, allowing equal workload.\n",
       "  \n",
       "If there are specific qualifications necessary for each shift, or if there are any preferences or restrictions on \n",
       "the guards' availability, please provide that information to refine the allocation.\n",
       "</pre>\n"
      ],
      "text/plain": [
       "To allocate the guards to the guarding post shifts, we need to ensure that each shift is covered by a qualified \n",
       "guard based on the provided constraints. However, the task does not specify the qualifications of each guard, so we\n",
       "will assume that all guards are equally qualified for simplicity. Here’s a possible allocation for the day:\n",
       "\n",
       "### Shift Allocation:\n",
       "\u001b[1;36m1\u001b[0m. **6am-12pm**\n",
       "   - **Guard**: Isaac\n",
       "\n",
       "\u001b[1;36m2\u001b[0m. **12pm-6pm**\n",
       "   - **Guard**: Stern\n",
       "\n",
       "\u001b[1;36m3\u001b[0m. **6pm-9pm**\n",
       "   - **Guard**: Alibaba\n",
       "\n",
       "### Justification:\n",
       "\u001b[1;36m1\u001b[0m. Each guard works one shift to ensure they are not overworked and have sufficient rest.\n",
       "\u001b[1;36m2\u001b[0m. The shifts are evenly distributed between the guards, allowing equal workload.\n",
       "  \n",
       "If there are specific qualifications necessary for each shift, or if there are any preferences or restrictions on \n",
       "the guards' availability, please provide that information to refine the allocation.\n"
      ]
     },
     "metadata": {},
     "output_type": "display_data"
    }
   ],
   "source": [
    "prompt = '<task> You are the manager of a mall your task is to allocate guards into guarding post shifts for 1 day </task> \\\n",
    "            <constraints> Guards must be allocated according to their qualifications. </constraints>\\\n",
    "            <shifts> 6am-12am, 12am-18pm, 18pm-21pm </shifts>\\\n",
    "            <guards> Isaac, Stern, Alibaba </guards> \\\n",
    "            <posts> Post 1 </posts>'\n",
    "\n",
    "print(invoke(prompt))"
   ]
  },
  {
   "cell_type": "markdown",
   "metadata": {},
   "source": [
    "<span style=\"color:orange\">\n",
    "Self reflection:\n",
    "\n",
    "1. Everyone is qualified\n",
    "2. If you run this several times you see the output widely varies.\n",
    "3. No mention of posts\n",
    "4. The model tell us we forgot to mention qualifications\n",
    "\n",
    "</span>\n"
   ]
  },
  {
   "cell_type": "code",
   "execution_count": null,
   "metadata": {},
   "outputs": [
    {
     "data": {
      "text/html": [
       "<pre style=\"white-space:pre;overflow-x:auto;line-height:normal;font-family:Menlo,'DejaVu Sans Mono',consolas,'Courier New',monospace\">To allocate guards to the guarding post shifts according to their qualifications, we need to ensure that guards \n",
       "with the necessary qualifications are assigned to each shift. Here, Post <span style=\"color: #008080; text-decoration-color: #008080; font-weight: bold\">1</span> requires a guard qualified with a knife.\n",
       "\n",
       "### Shifts Allocation:\n",
       "\n",
       "<span style=\"color: #008080; text-decoration-color: #008080; font-weight: bold\">1</span>. **6am-12pm Shift:**\n",
       "   - Since Post <span style=\"color: #008080; text-decoration-color: #008080; font-weight: bold\">1</span> requires a guard with a knife, and we have two available guards qualified with a knife <span style=\"font-weight: bold\">(</span>Stern and\n",
       "Alibaba<span style=\"font-weight: bold\">)</span>, we can assign **Stern** to this shift.\n",
       "   \n",
       "<span style=\"color: #008080; text-decoration-color: #008080; font-weight: bold\">2</span>. **12pm-6pm Shift:**\n",
       "   - For this shift, we can assign the other available guard with a knife qualification, **Alibaba**.\n",
       "   \n",
       "<span style=\"color: #008080; text-decoration-color: #008080; font-weight: bold\">3</span>. **6pm-9pm Shift:**\n",
       "   - Either Stern or Alibaba can cover this shift. Assuming they alternate, assigning **Stern** to ensure each \n",
       "guard has an equal number of shifts, or adjust based on their availability or other factors.\n",
       "\n",
       "### Summary Schedule:\n",
       "\n",
       "- **6am-12pm:** Stern <span style=\"font-weight: bold\">(</span>qualified with knife<span style=\"font-weight: bold\">)</span>\n",
       "- **12pm-6pm:** Alibaba <span style=\"font-weight: bold\">(</span>qualified with knife<span style=\"font-weight: bold\">)</span>\n",
       "- **6pm-9pm:** Stern <span style=\"font-weight: bold\">(</span>qualified with knife<span style=\"font-weight: bold\">)</span> \n",
       "\n",
       "This allocation ensures that each shift for Post <span style=\"color: #008080; text-decoration-color: #008080; font-weight: bold\">1</span>, which requires a knife, is covered by a suitably qualified \n",
       "guard.\n",
       "</pre>\n"
      ],
      "text/plain": [
       "To allocate guards to the guarding post shifts according to their qualifications, we need to ensure that guards \n",
       "with the necessary qualifications are assigned to each shift. Here, Post \u001b[1;36m1\u001b[0m requires a guard qualified with a knife.\n",
       "\n",
       "### Shifts Allocation:\n",
       "\n",
       "\u001b[1;36m1\u001b[0m. **6am-12pm Shift:**\n",
       "   - Since Post \u001b[1;36m1\u001b[0m requires a guard with a knife, and we have two available guards qualified with a knife \u001b[1m(\u001b[0mStern and\n",
       "Alibaba\u001b[1m)\u001b[0m, we can assign **Stern** to this shift.\n",
       "   \n",
       "\u001b[1;36m2\u001b[0m. **12pm-6pm Shift:**\n",
       "   - For this shift, we can assign the other available guard with a knife qualification, **Alibaba**.\n",
       "   \n",
       "\u001b[1;36m3\u001b[0m. **6pm-9pm Shift:**\n",
       "   - Either Stern or Alibaba can cover this shift. Assuming they alternate, assigning **Stern** to ensure each \n",
       "guard has an equal number of shifts, or adjust based on their availability or other factors.\n",
       "\n",
       "### Summary Schedule:\n",
       "\n",
       "- **6am-12pm:** Stern \u001b[1m(\u001b[0mqualified with knife\u001b[1m)\u001b[0m\n",
       "- **12pm-6pm:** Alibaba \u001b[1m(\u001b[0mqualified with knife\u001b[1m)\u001b[0m\n",
       "- **6pm-9pm:** Stern \u001b[1m(\u001b[0mqualified with knife\u001b[1m)\u001b[0m \n",
       "\n",
       "This allocation ensures that each shift for Post \u001b[1;36m1\u001b[0m, which requires a knife, is covered by a suitably qualified \n",
       "guard.\n"
      ]
     },
     "metadata": {},
     "output_type": "display_data"
    }
   ],
   "source": [
    "prompt = '<task> You are the manager of a mall your task is to allocate guards into guarding post shifts. </task> \\\n",
    "            <constraints> Guards must be allocated according to their qualifications. </constraints>\\\n",
    "            <shifts> 6am-12am, 12am-18pm, 18pm-21pm </shifts>\\\n",
    "            <guards> Isaac (qualified with gun), Stern (qualified with knife), Alibaba (qualified with knife) </guards> \\\n",
    "            <posts> Post 1 (requires a knife) </posts>'\n",
    "\n",
    "print(invoke(prompt))"
   ]
  }
 ],
 "metadata": {
  "language_info": {
   "name": "python"
  }
 },
 "nbformat": 4,
 "nbformat_minor": 2
}
