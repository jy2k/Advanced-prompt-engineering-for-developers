{
 "cells": [
  {
   "cell_type": "code",
   "execution_count": 26,
   "metadata": {},
   "outputs": [
    {
     "name": "stdout",
     "output_type": "stream",
     "text": [
      "Requirement already satisfied: openai in ./.venv/lib/python3.13/site-packages (from -r requirements.txt (line 1)) (1.78.1)\n",
      "Requirement already satisfied: rich in ./.venv/lib/python3.13/site-packages (from -r requirements.txt (line 2)) (14.0.0)\n",
      "Requirement already satisfied: dotenv in ./.venv/lib/python3.13/site-packages (from -r requirements.txt (line 3)) (0.9.9)\n",
      "Requirement already satisfied: langchain in ./.venv/lib/python3.13/site-packages (from -r requirements.txt (line 4)) (0.3.25)\n",
      "Requirement already satisfied: langchain_community in ./.venv/lib/python3.13/site-packages (from -r requirements.txt (line 5)) (0.3.24)\n",
      "Requirement already satisfied: langchain_core in ./.venv/lib/python3.13/site-packages (from -r requirements.txt (line 6)) (0.3.59)\n",
      "Collecting langchain_openai (from -r requirements.txt (line 7))\n",
      "  Downloading langchain_openai-0.3.16-py3-none-any.whl.metadata (2.3 kB)\n",
      "Requirement already satisfied: anyio<5,>=3.5.0 in ./.venv/lib/python3.13/site-packages (from openai->-r requirements.txt (line 1)) (4.9.0)\n",
      "Requirement already satisfied: distro<2,>=1.7.0 in ./.venv/lib/python3.13/site-packages (from openai->-r requirements.txt (line 1)) (1.9.0)\n",
      "Requirement already satisfied: httpx<1,>=0.23.0 in ./.venv/lib/python3.13/site-packages (from openai->-r requirements.txt (line 1)) (0.28.1)\n",
      "Requirement already satisfied: jiter<1,>=0.4.0 in ./.venv/lib/python3.13/site-packages (from openai->-r requirements.txt (line 1)) (0.9.0)\n",
      "Requirement already satisfied: pydantic<3,>=1.9.0 in ./.venv/lib/python3.13/site-packages (from openai->-r requirements.txt (line 1)) (2.11.4)\n",
      "Requirement already satisfied: sniffio in ./.venv/lib/python3.13/site-packages (from openai->-r requirements.txt (line 1)) (1.3.1)\n",
      "Requirement already satisfied: tqdm>4 in ./.venv/lib/python3.13/site-packages (from openai->-r requirements.txt (line 1)) (4.67.1)\n",
      "Requirement already satisfied: typing-extensions<5,>=4.11 in ./.venv/lib/python3.13/site-packages (from openai->-r requirements.txt (line 1)) (4.13.2)\n",
      "Requirement already satisfied: markdown-it-py>=2.2.0 in ./.venv/lib/python3.13/site-packages (from rich->-r requirements.txt (line 2)) (3.0.0)\n",
      "Requirement already satisfied: pygments<3.0.0,>=2.13.0 in ./.venv/lib/python3.13/site-packages (from rich->-r requirements.txt (line 2)) (2.19.1)\n",
      "Requirement already satisfied: python-dotenv in ./.venv/lib/python3.13/site-packages (from dotenv->-r requirements.txt (line 3)) (1.1.0)\n",
      "Requirement already satisfied: langchain-text-splitters<1.0.0,>=0.3.8 in ./.venv/lib/python3.13/site-packages (from langchain->-r requirements.txt (line 4)) (0.3.8)\n",
      "Requirement already satisfied: langsmith<0.4,>=0.1.17 in ./.venv/lib/python3.13/site-packages (from langchain->-r requirements.txt (line 4)) (0.3.42)\n",
      "Requirement already satisfied: SQLAlchemy<3,>=1.4 in ./.venv/lib/python3.13/site-packages (from langchain->-r requirements.txt (line 4)) (2.0.40)\n",
      "Requirement already satisfied: requests<3,>=2 in ./.venv/lib/python3.13/site-packages (from langchain->-r requirements.txt (line 4)) (2.32.3)\n",
      "Requirement already satisfied: PyYAML>=5.3 in ./.venv/lib/python3.13/site-packages (from langchain->-r requirements.txt (line 4)) (6.0.2)\n",
      "Requirement already satisfied: aiohttp<4.0.0,>=3.8.3 in ./.venv/lib/python3.13/site-packages (from langchain_community->-r requirements.txt (line 5)) (3.11.18)\n",
      "Requirement already satisfied: tenacity!=8.4.0,<10,>=8.1.0 in ./.venv/lib/python3.13/site-packages (from langchain_community->-r requirements.txt (line 5)) (9.1.2)\n",
      "Requirement already satisfied: dataclasses-json<0.7,>=0.5.7 in ./.venv/lib/python3.13/site-packages (from langchain_community->-r requirements.txt (line 5)) (0.6.7)\n",
      "Requirement already satisfied: pydantic-settings<3.0.0,>=2.4.0 in ./.venv/lib/python3.13/site-packages (from langchain_community->-r requirements.txt (line 5)) (2.9.1)\n",
      "Requirement already satisfied: httpx-sse<1.0.0,>=0.4.0 in ./.venv/lib/python3.13/site-packages (from langchain_community->-r requirements.txt (line 5)) (0.4.0)\n",
      "Requirement already satisfied: numpy>=2.1.0 in ./.venv/lib/python3.13/site-packages (from langchain_community->-r requirements.txt (line 5)) (2.2.5)\n",
      "Requirement already satisfied: jsonpatch<2.0,>=1.33 in ./.venv/lib/python3.13/site-packages (from langchain_core->-r requirements.txt (line 6)) (1.33)\n",
      "Requirement already satisfied: packaging<25,>=23.2 in ./.venv/lib/python3.13/site-packages (from langchain_core->-r requirements.txt (line 6)) (24.2)\n",
      "Collecting tiktoken<1,>=0.7 (from langchain_openai->-r requirements.txt (line 7))\n",
      "  Downloading tiktoken-0.9.0-cp313-cp313-macosx_11_0_arm64.whl.metadata (6.7 kB)\n",
      "Requirement already satisfied: aiohappyeyeballs>=2.3.0 in ./.venv/lib/python3.13/site-packages (from aiohttp<4.0.0,>=3.8.3->langchain_community->-r requirements.txt (line 5)) (2.6.1)\n",
      "Requirement already satisfied: aiosignal>=1.1.2 in ./.venv/lib/python3.13/site-packages (from aiohttp<4.0.0,>=3.8.3->langchain_community->-r requirements.txt (line 5)) (1.3.2)\n",
      "Requirement already satisfied: attrs>=17.3.0 in ./.venv/lib/python3.13/site-packages (from aiohttp<4.0.0,>=3.8.3->langchain_community->-r requirements.txt (line 5)) (25.3.0)\n",
      "Requirement already satisfied: frozenlist>=1.1.1 in ./.venv/lib/python3.13/site-packages (from aiohttp<4.0.0,>=3.8.3->langchain_community->-r requirements.txt (line 5)) (1.6.0)\n",
      "Requirement already satisfied: multidict<7.0,>=4.5 in ./.venv/lib/python3.13/site-packages (from aiohttp<4.0.0,>=3.8.3->langchain_community->-r requirements.txt (line 5)) (6.4.3)\n",
      "Requirement already satisfied: propcache>=0.2.0 in ./.venv/lib/python3.13/site-packages (from aiohttp<4.0.0,>=3.8.3->langchain_community->-r requirements.txt (line 5)) (0.3.1)\n",
      "Requirement already satisfied: yarl<2.0,>=1.17.0 in ./.venv/lib/python3.13/site-packages (from aiohttp<4.0.0,>=3.8.3->langchain_community->-r requirements.txt (line 5)) (1.20.0)\n",
      "Requirement already satisfied: idna>=2.8 in ./.venv/lib/python3.13/site-packages (from anyio<5,>=3.5.0->openai->-r requirements.txt (line 1)) (3.10)\n",
      "Requirement already satisfied: marshmallow<4.0.0,>=3.18.0 in ./.venv/lib/python3.13/site-packages (from dataclasses-json<0.7,>=0.5.7->langchain_community->-r requirements.txt (line 5)) (3.26.1)\n",
      "Requirement already satisfied: typing-inspect<1,>=0.4.0 in ./.venv/lib/python3.13/site-packages (from dataclasses-json<0.7,>=0.5.7->langchain_community->-r requirements.txt (line 5)) (0.9.0)\n",
      "Requirement already satisfied: certifi in ./.venv/lib/python3.13/site-packages (from httpx<1,>=0.23.0->openai->-r requirements.txt (line 1)) (2025.4.26)\n",
      "Requirement already satisfied: httpcore==1.* in ./.venv/lib/python3.13/site-packages (from httpx<1,>=0.23.0->openai->-r requirements.txt (line 1)) (1.0.9)\n",
      "Requirement already satisfied: h11>=0.16 in ./.venv/lib/python3.13/site-packages (from httpcore==1.*->httpx<1,>=0.23.0->openai->-r requirements.txt (line 1)) (0.16.0)\n",
      "Requirement already satisfied: jsonpointer>=1.9 in ./.venv/lib/python3.13/site-packages (from jsonpatch<2.0,>=1.33->langchain_core->-r requirements.txt (line 6)) (3.0.0)\n",
      "Requirement already satisfied: orjson<4.0.0,>=3.9.14 in ./.venv/lib/python3.13/site-packages (from langsmith<0.4,>=0.1.17->langchain->-r requirements.txt (line 4)) (3.10.18)\n",
      "Requirement already satisfied: requests-toolbelt<2.0.0,>=1.0.0 in ./.venv/lib/python3.13/site-packages (from langsmith<0.4,>=0.1.17->langchain->-r requirements.txt (line 4)) (1.0.0)\n",
      "Requirement already satisfied: zstandard<0.24.0,>=0.23.0 in ./.venv/lib/python3.13/site-packages (from langsmith<0.4,>=0.1.17->langchain->-r requirements.txt (line 4)) (0.23.0)\n",
      "Requirement already satisfied: mdurl~=0.1 in ./.venv/lib/python3.13/site-packages (from markdown-it-py>=2.2.0->rich->-r requirements.txt (line 2)) (0.1.2)\n",
      "Requirement already satisfied: annotated-types>=0.6.0 in ./.venv/lib/python3.13/site-packages (from pydantic<3,>=1.9.0->openai->-r requirements.txt (line 1)) (0.7.0)\n",
      "Requirement already satisfied: pydantic-core==2.33.2 in ./.venv/lib/python3.13/site-packages (from pydantic<3,>=1.9.0->openai->-r requirements.txt (line 1)) (2.33.2)\n",
      "Requirement already satisfied: typing-inspection>=0.4.0 in ./.venv/lib/python3.13/site-packages (from pydantic<3,>=1.9.0->openai->-r requirements.txt (line 1)) (0.4.0)\n",
      "Requirement already satisfied: charset-normalizer<4,>=2 in ./.venv/lib/python3.13/site-packages (from requests<3,>=2->langchain->-r requirements.txt (line 4)) (3.4.2)\n",
      "Requirement already satisfied: urllib3<3,>=1.21.1 in ./.venv/lib/python3.13/site-packages (from requests<3,>=2->langchain->-r requirements.txt (line 4)) (2.4.0)\n",
      "Collecting regex>=2022.1.18 (from tiktoken<1,>=0.7->langchain_openai->-r requirements.txt (line 7))\n",
      "  Downloading regex-2024.11.6-cp313-cp313-macosx_11_0_arm64.whl.metadata (40 kB)\n",
      "Requirement already satisfied: mypy-extensions>=0.3.0 in ./.venv/lib/python3.13/site-packages (from typing-inspect<1,>=0.4.0->dataclasses-json<0.7,>=0.5.7->langchain_community->-r requirements.txt (line 5)) (1.1.0)\n",
      "Downloading langchain_openai-0.3.16-py3-none-any.whl (62 kB)\n",
      "Downloading tiktoken-0.9.0-cp313-cp313-macosx_11_0_arm64.whl (1.0 MB)\n",
      "\u001b[2K   \u001b[90m━━━━━━━━━━━━━━━━━━━━━━━━━━━━━━━━━━━━━━━━\u001b[0m \u001b[32m1.0/1.0 MB\u001b[0m \u001b[31m7.8 MB/s\u001b[0m eta \u001b[36m0:00:00\u001b[0m\n",
      "\u001b[?25hDownloading regex-2024.11.6-cp313-cp313-macosx_11_0_arm64.whl (284 kB)\n",
      "Installing collected packages: regex, tiktoken, langchain_openai\n",
      "Successfully installed langchain_openai-0.3.16 regex-2024.11.6 tiktoken-0.9.0\n",
      "\n",
      "\u001b[1m[\u001b[0m\u001b[34;49mnotice\u001b[0m\u001b[1;39;49m]\u001b[0m\u001b[39;49m A new release of pip is available: \u001b[0m\u001b[31;49m25.0\u001b[0m\u001b[39;49m -> \u001b[0m\u001b[32;49m25.1.1\u001b[0m\n",
      "\u001b[1m[\u001b[0m\u001b[34;49mnotice\u001b[0m\u001b[1;39;49m]\u001b[0m\u001b[39;49m To update, run: \u001b[0m\u001b[32;49mpip install --upgrade pip\u001b[0m\n",
      "Note: you may need to restart the kernel to use updated packages.\n"
     ]
    }
   ],
   "source": [
    "%pip install -r requirements.txt"
   ]
  },
  {
   "cell_type": "code",
   "execution_count": 1,
   "metadata": {},
   "outputs": [
    {
     "data": {
      "text/html": [
       "<pre style=\"white-space:pre;overflow-x:auto;line-height:normal;font-family:Menlo,'DejaVu Sans Mono',consolas,'Courier New',monospace\">sk-proj-RD\n",
       "</pre>\n"
      ],
      "text/plain": [
       "sk-proj-RD\n"
      ]
     },
     "metadata": {},
     "output_type": "display_data"
    }
   ],
   "source": [
    "from openai import OpenAI\n",
    "from rich import print\n",
    "import os\n",
    "USING_DOTENV = True\n",
    "\n",
    "if(USING_DOTENV):\n",
    "    import dotenv\n",
    "    dotenv.load_dotenv()\n",
    "else:\n",
    "    print(\"hard coded\")\n",
    "    os.environ[\"OPENAI_API_KEY\"] = 'skh-asdfgsadgasdgasdga' # replace with your API key\n",
    "\n",
    "print(os.environ.get(\"OPENAI_API_KEY\")[:10])\n",
    "\n",
    "client = OpenAI()"
   ]
  },
  {
   "cell_type": "code",
   "execution_count": 2,
   "metadata": {},
   "outputs": [],
   "source": [
    "def invoke(prompt):\n",
    "    response = client.chat.completions.create(\n",
    "        model=\"gpt-3.5-turbo\",\n",
    "        messages=[{\"role\": \"user\", \"content\": prompt}]\n",
    "    )\n",
    "    return response.choices[0].message.content"
   ]
  },
  {
   "cell_type": "markdown",
   "metadata": {},
   "source": [
    "# Prompt Engineering"
   ]
  },
  {
   "cell_type": "markdown",
   "metadata": {},
   "source": [
    "\n",
    "<div style=\"text-align: left; margin-top: 40px; margin-bottom: 40px;\">\n",
    "\n",
    "<img src=\"https://drive.google.com/thumbnail?id=1u9SWgjdTQ68zvulpOF25gMAQ7Otwx53P\" alt=\"Description of Image\">\n",
    "</div>\n",
    "<span style=\"color:#eb323c\">\n",
    "\n",
    "\n",
    "- Notebook property of: LATENT Engineering Firm ltd.\n",
    "\n",
    "- Website: www.reachlatent.com\n",
    "\n",
    "- For similar talks / workshops reach out to: info@reachlatent.com\n",
    "</span>"
   ]
  },
  {
   "cell_type": "markdown",
   "metadata": {},
   "source": [
    "# LLMs are simply a \"Next Token Predictor\""
   ]
  },
  {
   "cell_type": "code",
   "execution_count": 4,
   "metadata": {},
   "outputs": [
    {
     "data": {
      "text/plain": [
       "'Three!'"
      ]
     },
     "execution_count": 4,
     "metadata": {},
     "output_type": "execute_result"
    }
   ],
   "source": [
    "invoke(\"one, two, \")"
   ]
  },
  {
   "cell_type": "code",
   "execution_count": 9,
   "metadata": {},
   "outputs": [],
   "source": [
    "prompt_1 = 'current'\n",
    "prompt_2 = 'current sea'\n",
    "prompt_3 = 'current electric'\n",
    "prompt_4 = 'current times'"
   ]
  },
  {
   "cell_type": "code",
   "execution_count": 10,
   "metadata": {},
   "outputs": [
    {
     "data": {
      "text/html": [
       "<pre style=\"white-space:pre;overflow-x:auto;line-height:normal;font-family:Menlo,'DejaVu Sans Mono',consolas,'Courier New',monospace\">Current refers to something that is happening now or at the present moment. It can also refer to something that is \n",
       "up to date or the most recent.\n",
       "</pre>\n"
      ],
      "text/plain": [
       "Current refers to something that is happening now or at the present moment. It can also refer to something that is \n",
       "up to date or the most recent.\n"
      ]
     },
     "metadata": {},
     "output_type": "display_data"
    },
    {
     "data": {
      "text/html": [
       "<pre style=\"white-space:pre;overflow-x:auto;line-height:normal;font-family:Menlo,'DejaVu Sans Mono',consolas,'Courier New',monospace\">The current sea conditions vary depending on the location and time of year. In general, the sea may be calm with \n",
       "gentle waves or rough with strong currents and high swells. It is important to check local weather and sea \n",
       "condition reports before venturing out onto the water to ensure a safe and enjoyable experience.\n",
       "</pre>\n"
      ],
      "text/plain": [
       "The current sea conditions vary depending on the location and time of year. In general, the sea may be calm with \n",
       "gentle waves or rough with strong currents and high swells. It is important to check local weather and sea \n",
       "condition reports before venturing out onto the water to ensure a safe and enjoyable experience.\n"
      ]
     },
     "metadata": {},
     "output_type": "display_data"
    },
    {
     "data": {
      "text/html": [
       "<pre style=\"white-space:pre;overflow-x:auto;line-height:normal;font-family:Menlo,'DejaVu Sans Mono',consolas,'Courier New',monospace\">Electricity is the flow of electric charge through a conductor, typically in the form of a current. The current \n",
       "electric refers to the amount of electric charge passing through a given point in a circuit per unit of time, \n",
       "typically measured in amperes <span style=\"font-weight: bold\">(</span>A<span style=\"font-weight: bold\">)</span>. The current electric is an essential parameter in electrical systems and is used\n",
       "to determine the power consumption, voltage drop, and overall performance of an electrical circuit.\n",
       "</pre>\n"
      ],
      "text/plain": [
       "Electricity is the flow of electric charge through a conductor, typically in the form of a current. The current \n",
       "electric refers to the amount of electric charge passing through a given point in a circuit per unit of time, \n",
       "typically measured in amperes \u001b[1m(\u001b[0mA\u001b[1m)\u001b[0m. The current electric is an essential parameter in electrical systems and is used\n",
       "to determine the power consumption, voltage drop, and overall performance of an electrical circuit.\n"
      ]
     },
     "metadata": {},
     "output_type": "display_data"
    },
    {
     "data": {
      "text/html": [
       "<pre style=\"white-space:pre;overflow-x:auto;line-height:normal;font-family:Menlo,'DejaVu Sans Mono',consolas,'Courier New',monospace\">Current times refer to the present era or period in history. It could also refer to the current period of life or \n",
       "events happening in the world at a specific moment.\n",
       "</pre>\n"
      ],
      "text/plain": [
       "Current times refer to the present era or period in history. It could also refer to the current period of life or \n",
       "events happening in the world at a specific moment.\n"
      ]
     },
     "metadata": {},
     "output_type": "display_data"
    }
   ],
   "source": [
    "print(invoke(prompt_1))\n",
    "print(invoke(prompt_2))\n",
    "print(invoke(prompt_3))\n",
    "print(invoke(prompt_4))"
   ]
  },
  {
   "cell_type": "code",
   "execution_count": 11,
   "metadata": {},
   "outputs": [],
   "source": [
    "complicated_murder_plot = \"The story takes place in the grand estate of a renowned business tycoon, Malcolm Hargrove. His sprawling mansion sits on the outskirts of a small, quiet town, far from prying eyes. It's the night of his annual charity gala, where the town's elite have gathered to celebrate the success of Hargrove Industries, a tech empire that dominates the market.As the evening unfolds, a series of strange occurrences begins to unfold. Guests whisper about Malcolm's deteriorating health; some say he's been acting strangely in the days leading up to the event, while others notice a certain tension in his interactions with a few of the attendees. The air is thick with the unspoken secrets of his past, but no one dares to voice them aloud.At midnight, a shrill scream echoes through the halls of the mansion. The guests rush to the source, finding Malcolm Hargrove’s lifeless body in his study, a single gunshot wound to his chest. The room is chaotic—papers scattered across his desk, a broken vase, and an open drawer suggest a struggle.The police are immediately called, but the guests are told to remain for questioning. Everyone is a suspect, but clues begin to emerge, each pointing to a different person, all subtly connected to Mr. Hargrove.Mrs. Hargrove, his wife, is found with a tear-streaked face, clutching a diamond bracelet. She claims she was in the garden when the murder occurred, but the bracelet was discovered on a table beside Malcolm’s body. She insists that she didn’t place it there, but the security footage shows her entering the study just minutes before the shot was heard.Detective Jenkins, a local investigator, was invited as a guest and initially takes control of the investigation. His presence seems odd to some, especially considering his long-standing feud with the Hargroves over a shady deal that once soured. He seems to know too much about the layout of the mansion and the timing of the crime, making some guests uneasy.Catherine Moore, Hargrove's former business partner, is visibly agitated, her fingers trembling when she’s asked where she was. She claims to have been in the ballroom, but witnesses report seeing her near the study moments before the gunshot rang out. Additionally, she and Malcolm had been seen arguing intensely just days before, their rivalry rooted in a bitter financial disagreement.Mr. Bradley, the charming but secretive tech consultant, appears calm and composed. He had been in the library throughout the evening, speaking with a few of the guests, but his demeanor is a stark contrast to the tense atmosphere in the house. His alibi is rock-solid, though his sharp eyes and analytical mind seem to always be observing everyone, picking up details others might miss.The detectives work tirelessly to piece together the puzzle. The murder weapon—a silver revolver—was found in the study, wiped clean of fingerprints. Oddly, it was registered to Mr. Bradley, a detail that throws suspicion on him. But, oddly enough, Mr. Bradley had only recently sold it to Malcolm Hargrove after a series of troubling encounters with it. No one can explain why it was so clean, and the fact that Bradley had been in the library does not seem to hold much weight.The breakthrough comes when an old ledger belonging to Malcolm is found in the study, showing irregular transactions—money funneled into a mysterious offshore account. The account is linked to a company run by Mr. Bradley’s long-lost cousin, a name not many knew but one that had been tied to shady dealings. Further inspection reveals that the transactions began after a heated conversation between Mr. Bradley and Malcolm over a failed project.A final, chilling clue is uncovered when a set of fingerprints—distinct and matching only Mr. Bradley's—is found on the broken vase. The vase had been shattered, its pieces scattered near the desk. The fingerprints on the shards suggest Mr. Bradley had been there long before the police arrived, though he denied ever touching the vase.All the clues lead back to Mr. Bradley—the bracelet, the gun, the fingerprints, the ledger, and the troubling financial connection. The police had already theorized that the murder was a result of a long-standing grudge over a failed business deal, but the evidence was too damning to ignore. \"\n",
    "complicated_murder_plot_missing_solution = \"The story takes place in the grand estate of a renowned business tycoon, Malcolm Hargrove. His sprawling mansion sits on the outskirts of a small, quiet town, far from prying eyes. It's the night of his annual charity gala, where the town's elite have gathered to celebrate the success of Hargrove Industries, a tech empire that dominates the market.As the evening unfolds, a series of strange occurrences begins to unfold. Guests whisper about Malcolm's deteriorating health; some say he's been acting strangely in the days leading up to the event, while others notice a certain tension in his interactions with a few of the attendees. The air is thick with the unspoken secrets of his past, but no one dares to voice them aloud.At midnight, a shrill scream echoes through the halls of the mansion. The guests rush to the source, finding Malcolm Hargrove’s lifeless body in his study, a single gunshot wound to his chest. The room is chaotic—papers scattered across his desk, a broken vase, and an open drawer suggest a struggle.The police are immediately called, but the guests are told to remain for questioning. Everyone is a suspect, but clues begin to emerge, each pointing to a different person, all subtly connected to Mr. Hargrove.Mrs. Hargrove, his wife, is found with a tear-streaked face, clutching a diamond bracelet. She claims she was in the garden when the murder occurred, but the bracelet was discovered on a table beside Malcolm’s body. She insists that she didn’t place it there, but the security footage shows her entering the study just minutes before the shot was heard.Detective Jenkins, a local investigator, was invited as a guest and initially takes control of the investigation. His presence seems odd to some, especially considering his long-standing feud with the Hargroves over a shady deal that once soured. He seems to know too much about the layout of the mansion and the timing of the crime, making some guests uneasy.Catherine Moore, Hargrove's former business partner, is visibly agitated, her fingers trembling when she’s asked where she was. She claims to have been in the ballroom, but witnesses report seeing her near the study moments before the gunshot rang out. Additionally, she and Malcolm had been seen arguing intensely just days before, their rivalry rooted in a bitter financial disagreement.Mr. Bradley, the charming but secretive tech consultant, appears calm and composed. He had been in the library throughout the evening, speaking with a few of the guests, but his demeanor is a stark contrast to the tense atmosphere in the house. His alibi is rock-solid, though his sharp eyes and analytical mind seem to always be observing everyone, picking up details others might miss.The detectives work tirelessly to piece together the puzzle. The murder weapon—a silver revolver—was found in the study, wiped clean of fingerprints. Oddly, it was registered to Mr. Bradley, a detail that throws suspicion on him. But, oddly enough, Mr. Bradley had only recently sold it to Malcolm Hargrove after a series of troubling encounters with it. No one can explain why it was so clean, and the fact that Bradley had been in the library does not seem to hold much weight.The breakthrough comes when an old ledger belonging to Malcolm is found in the study, showing irregular transactions—money funneled into a mysterious offshore account. The account is linked to a company run by Mr. Bradley’s long-lost cousin, a name not many knew but one that had been tied to shady dealings. Further inspection reveals that the transactions began after a heated conversation between Mr. Bradley and Malcolm over a failed project.A final, chilling clue is uncovered when a set of fingerprints—distinct and matching only Mr. Bradley's—is found on the broken vase. The vase had been shattered, its pieces scattered near the desk. The fingerprints on the shards suggest Mr. Bradley had been there long before the police arrived, though he denied ever touching the vase.All the clues lead back to Mr. Bradley—the bracelet, the gun, the fingerprints, the ledger, and the troubling financial connection. The police had already theorized that the murder was a result of a long-standing grudge over a failed business deal, but the evidence was too damning to ignore. State the murderer name only:  \""
   ]
  },
  {
   "cell_type": "code",
   "execution_count": 12,
   "metadata": {},
   "outputs": [
    {
     "data": {
      "text/html": [
       "<pre style=\"white-space:pre;overflow-x:auto;line-height:normal;font-family:Menlo,'DejaVu Sans Mono',consolas,'Courier New',monospace\">In a shocking turn of events, Mr. Bradley breaks down under the intense scrutiny, confessing to the murder. He \n",
       "reveals that he had discovered Malcolm's embezzlement scheme and had confronted him about it, leading to a violent \n",
       "confrontation in the study. In a fit of anger and betrayal, he had grabbed the gun and fired the fatal shot.\n",
       "\n",
       "As he is led away in handcuffs, the guests are left stunned by the revelation. The night had started off as a \n",
       "glamorous affair, but it had ended in tragedy and betrayal. The grand mansion now feels like a haunted house, \n",
       "filled with the lingering echoes of a man's dark secrets.\n",
       "\n",
       "As the police finish their investigation and the guests slowly disperse, the grand estate falls into silence once \n",
       "more. Malcolm Hargrove may have been a successful business tycoon, but in death, his true nature had been laid bare\n",
       "for all to see. And in the end, it was a combination of greed, betrayal, and revenge that had ultimately led to his\n",
       "downfall.\n",
       "</pre>\n"
      ],
      "text/plain": [
       "In a shocking turn of events, Mr. Bradley breaks down under the intense scrutiny, confessing to the murder. He \n",
       "reveals that he had discovered Malcolm's embezzlement scheme and had confronted him about it, leading to a violent \n",
       "confrontation in the study. In a fit of anger and betrayal, he had grabbed the gun and fired the fatal shot.\n",
       "\n",
       "As he is led away in handcuffs, the guests are left stunned by the revelation. The night had started off as a \n",
       "glamorous affair, but it had ended in tragedy and betrayal. The grand mansion now feels like a haunted house, \n",
       "filled with the lingering echoes of a man's dark secrets.\n",
       "\n",
       "As the police finish their investigation and the guests slowly disperse, the grand estate falls into silence once \n",
       "more. Malcolm Hargrove may have been a successful business tycoon, but in death, his true nature had been laid bare\n",
       "for all to see. And in the end, it was a combination of greed, betrayal, and revenge that had ultimately led to his\n",
       "downfall.\n"
      ]
     },
     "metadata": {},
     "output_type": "display_data"
    }
   ],
   "source": [
    "print(invoke(complicated_murder_plot))"
   ]
  },
  {
   "cell_type": "code",
   "execution_count": 13,
   "metadata": {},
   "outputs": [
    {
     "data": {
      "text/html": [
       "<pre style=\"white-space:pre;overflow-x:auto;line-height:normal;font-family:Menlo,'DejaVu Sans Mono',consolas,'Courier New',monospace\">Mr. Bradley\n",
       "</pre>\n"
      ],
      "text/plain": [
       "Mr. Bradley\n"
      ]
     },
     "metadata": {},
     "output_type": "display_data"
    }
   ],
   "source": [
    "print(invoke(complicated_murder_plot_missing_solution))"
   ]
  },
  {
   "cell_type": "markdown",
   "metadata": {},
   "source": [
    "# Basic structure\n"
   ]
  },
  {
   "cell_type": "markdown",
   "metadata": {},
   "source": [
    "<span style=\"color:orange\">\n",
    "\n",
    "RESPCT framework:\n",
    "- (R) Role: Better Semantic Relationships\n",
    "- (E) Example: Additional context\n",
    "- (S) Structure: Contorl input/output to structure\n",
    "- (P) Pipeline: Break the mega prompt\n",
    "- (C) Constraints: Limit the model\n",
    "- (T) Task: Instructing the model what you want it to do\n",
    "\n",
    "</span>"
   ]
  },
  {
   "cell_type": "markdown",
   "metadata": {},
   "source": [
    "# Role\n"
   ]
  },
  {
   "cell_type": "code",
   "execution_count": 14,
   "metadata": {},
   "outputs": [
    {
     "data": {
      "text/html": [
       "<pre style=\"white-space:pre;overflow-x:auto;line-height:normal;font-family:Menlo,'DejaVu Sans Mono',consolas,'Courier New',monospace\">Overall, I think the code changes in this pull request are a good start, but there are a few areas that could be \n",
       "improved:\n",
       "\n",
       "<span style=\"color: #008080; text-decoration-color: #008080; font-weight: bold\">1</span>. Naming conventions: It's important to follow consistent naming conventions to make the code more readable and \n",
       "maintainable. I noticed that some variable names are ambiguous or not descriptive enough. Please consider using \n",
       "more meaningful names that convey the purpose of the variable.\n",
       "\n",
       "<span style=\"color: #008080; text-decoration-color: #008080; font-weight: bold\">2</span>. Comments: While the code is generally clean and easy to follow, adding comments to explain complex logic or \n",
       "algorithms can be very helpful for other developers <span style=\"font-weight: bold\">(</span>and your future self<span style=\"font-weight: bold\">)</span> who will work on this code. Please \n",
       "consider adding comments for any particularly tricky sections.\n",
       "\n",
       "<span style=\"color: #008080; text-decoration-color: #008080; font-weight: bold\">3</span>. Error handling: I noticed that there are some missing error handling mechanisms in the code. It's important to \n",
       "anticipate potential errors and handle them gracefully, either by logging them, throwing exceptions, or displaying \n",
       "user-friendly error messages.\n",
       "\n",
       "<span style=\"color: #008080; text-decoration-color: #008080; font-weight: bold\">4</span>. Unit tests: It looks like there are no unit tests for the new code changes. Writing tests is crucial to ensure \n",
       "the stability and reliability of the codebase. Please add unit tests to cover the new functionality and ensure that\n",
       "future changes do not introduce regressions.\n",
       "\n",
       "<span style=\"color: #008080; text-decoration-color: #008080; font-weight: bold\">5</span>. Code duplication: I noticed that there are some repeated code snippets in the changes. It's a good practice to \n",
       "refactor duplicated code into reusable functions or classes to keep the code DRY <span style=\"font-weight: bold\">(</span>Don't Repeat Yourself<span style=\"font-weight: bold\">)</span> and easier\n",
       "to maintain.\n",
       "\n",
       "Overall, I appreciate the effort you put into this pull request. Please address the above suggestions and feel free\n",
       "to reach out if you have any questions or need further guidance. Keep up the good work!\n",
       "</pre>\n"
      ],
      "text/plain": [
       "Overall, I think the code changes in this pull request are a good start, but there are a few areas that could be \n",
       "improved:\n",
       "\n",
       "\u001b[1;36m1\u001b[0m. Naming conventions: It's important to follow consistent naming conventions to make the code more readable and \n",
       "maintainable. I noticed that some variable names are ambiguous or not descriptive enough. Please consider using \n",
       "more meaningful names that convey the purpose of the variable.\n",
       "\n",
       "\u001b[1;36m2\u001b[0m. Comments: While the code is generally clean and easy to follow, adding comments to explain complex logic or \n",
       "algorithms can be very helpful for other developers \u001b[1m(\u001b[0mand your future self\u001b[1m)\u001b[0m who will work on this code. Please \n",
       "consider adding comments for any particularly tricky sections.\n",
       "\n",
       "\u001b[1;36m3\u001b[0m. Error handling: I noticed that there are some missing error handling mechanisms in the code. It's important to \n",
       "anticipate potential errors and handle them gracefully, either by logging them, throwing exceptions, or displaying \n",
       "user-friendly error messages.\n",
       "\n",
       "\u001b[1;36m4\u001b[0m. Unit tests: It looks like there are no unit tests for the new code changes. Writing tests is crucial to ensure \n",
       "the stability and reliability of the codebase. Please add unit tests to cover the new functionality and ensure that\n",
       "future changes do not introduce regressions.\n",
       "\n",
       "\u001b[1;36m5\u001b[0m. Code duplication: I noticed that there are some repeated code snippets in the changes. It's a good practice to \n",
       "refactor duplicated code into reusable functions or classes to keep the code DRY \u001b[1m(\u001b[0mDon't Repeat Yourself\u001b[1m)\u001b[0m and easier\n",
       "to maintain.\n",
       "\n",
       "Overall, I appreciate the effort you put into this pull request. Please address the above suggestions and feel free\n",
       "to reach out if you have any questions or need further guidance. Keep up the good work!\n"
      ]
     },
     "metadata": {},
     "output_type": "display_data"
    }
   ],
   "source": [
    "role = 'tech lead evaluating junior developer code'\n",
    "\n",
    "print(invoke(f'You are a {role}, provide constructive feedback and suggestions on this pull request'))"
   ]
  },
  {
   "cell_type": "code",
   "execution_count": 15,
   "metadata": {},
   "outputs": [
    {
     "data": {
      "text/html": [
       "<pre style=\"white-space:pre;overflow-x:auto;line-height:normal;font-family:Menlo,'DejaVu Sans Mono',consolas,'Courier New',monospace\">As a hobo, I may not have much technical expertise, but I can still offer some feedback on this pull request. \n",
       "\n",
       "Firstly, I appreciate the effort put into making the changes and improvements outlined in the pull request. \n",
       "However, it would be helpful to have more detailed explanations of the changes made and the reasons behind them. \n",
       "This will make it easier for others to understand and review the code.\n",
       "\n",
       "Additionally, it's important to ensure that the code is well-documented and follows best practices. This will make \n",
       "it easier to maintain and contribute to in the future.\n",
       "\n",
       "Lastly, it's always a good idea to test the code thoroughly before submitting a pull request to catch any potential\n",
       "bugs or issues.\n",
       "\n",
       "Overall, keep up the good work and continue to collaborate with others to improve the project!\n",
       "</pre>\n"
      ],
      "text/plain": [
       "As a hobo, I may not have much technical expertise, but I can still offer some feedback on this pull request. \n",
       "\n",
       "Firstly, I appreciate the effort put into making the changes and improvements outlined in the pull request. \n",
       "However, it would be helpful to have more detailed explanations of the changes made and the reasons behind them. \n",
       "This will make it easier for others to understand and review the code.\n",
       "\n",
       "Additionally, it's important to ensure that the code is well-documented and follows best practices. This will make \n",
       "it easier to maintain and contribute to in the future.\n",
       "\n",
       "Lastly, it's always a good idea to test the code thoroughly before submitting a pull request to catch any potential\n",
       "bugs or issues.\n",
       "\n",
       "Overall, keep up the good work and continue to collaborate with others to improve the project!\n"
      ]
     },
     "metadata": {},
     "output_type": "display_data"
    }
   ],
   "source": [
    "role = 'hobo'\n",
    "\n",
    "print(invoke(f'You are a {role}, provide constructive feedback and suggestions on this pull request'))"
   ]
  },
  {
   "cell_type": "markdown",
   "metadata": {},
   "source": [
    "# Examples \n",
    "\n",
    "1. Teach the model patterns\n",
    "2. Add information for solving\n",
    "\n",
    "### Zero shot:"
   ]
  },
  {
   "cell_type": "code",
   "execution_count": 16,
   "metadata": {},
   "outputs": [
    {
     "data": {
      "text/html": [
       "<pre style=\"white-space:pre;overflow-x:auto;line-height:normal;font-family:Menlo,'DejaVu Sans Mono',consolas,'Courier New',monospace\">C\n",
       "</pre>\n"
      ],
      "text/plain": [
       "C\n"
      ]
     },
     "metadata": {},
     "output_type": "display_data"
    }
   ],
   "source": [
    "#Here:\n",
    "#A = Normal operation\n",
    "#B = System/application error\n",
    "#C = Performance/health alert\n",
    "#But the model is not told that — it must infer the logic based on patterns.\n",
    "\n",
    "prompt = \"\"\"<task>Your task is to classify log entries into A, B, or C.<task>\n",
    "        Log: 'Authentication failure for user admin'\n",
    "        Class: \"\"\"\n",
    "#Correct answer is B\n",
    "\n",
    "print(invoke(prompt))"
   ]
  },
  {
   "cell_type": "markdown",
   "metadata": {},
   "source": [
    "### Few Shot:\n"
   ]
  },
  {
   "cell_type": "code",
   "execution_count": 17,
   "metadata": {},
   "outputs": [
    {
     "data": {
      "text/html": [
       "<pre style=\"white-space:pre;overflow-x:auto;line-height:normal;font-family:Menlo,'DejaVu Sans Mono',consolas,'Courier New',monospace\">B\n",
       "</pre>\n"
      ],
      "text/plain": [
       "B\n"
      ]
     },
     "metadata": {},
     "output_type": "display_data"
    }
   ],
   "source": [
    "#Here:\n",
    "#A = Normal operation\n",
    "#B = System/application error\n",
    "#C = Performance/health alert\n",
    "#But the model is not told that — it must infer the logic based on patterns.\n",
    "\n",
    "prompt = \"\"\"<task>Your task is to classify log entries into A, B, or C.<task>\n",
    "        Log: 'CPU temperature high'\n",
    "        Class: C\n",
    "\n",
    "        Log: 'User logged in successfully'\n",
    "        Class: A\n",
    "\n",
    "        Log: 'Database connection failed'\n",
    "        Class: B\n",
    "\n",
    "        Log: 'Memory usage at 85%'\n",
    "        Class: C\n",
    "\n",
    "        Log: 'New user registered'\n",
    "        Class: A\n",
    "\n",
    "        Log: 'Disk I/O error on /dev/sda1'\n",
    "        Class: B\n",
    "\n",
    "        Log: 'Password changed successfully'\n",
    "        Class: A\n",
    "\n",
    "        Log: 'Timeout while waiting for response from service X'\n",
    "        Class: B\n",
    "\n",
    "        Log: 'RAM usage exceeds threshold'\n",
    "        Class: C\n",
    "\n",
    "        Log: 'Authentication failure for user admin'\n",
    "        Class: \"\"\"\n",
    "\n",
    "print(invoke(prompt))"
   ]
  },
  {
   "cell_type": "markdown",
   "metadata": {},
   "source": [
    "# Structure with \\<\\tags>\n",
    "\n",
    "1. Control output format\n",
    "2. Reference internals\n"
   ]
  },
  {
   "cell_type": "code",
   "execution_count": 18,
   "metadata": {},
   "outputs": [
    {
     "data": {
      "text/html": [
       "<pre style=\"white-space:pre;overflow-x:auto;line-height:normal;font-family:Menlo,'DejaVu Sans Mono',consolas,'Courier New',monospace\">Platform: Android <span style=\"color: #008080; text-decoration-color: #008080; font-weight: bold\">13</span>\n",
       "____\n",
       "Trigger: Switching from dark mode to light mode\n",
       "Impact: Settings screen stays dark, requiring app restart\n",
       "Workaround: Restarting the app to resolve the issue\n",
       "</pre>\n"
      ],
      "text/plain": [
       "Platform: Android \u001b[1;36m13\u001b[0m\n",
       "____\n",
       "Trigger: Switching from dark mode to light mode\n",
       "Impact: Settings screen stays dark, requiring app restart\n",
       "Workaround: Restarting the app to resolve the issue\n"
      ]
     },
     "metadata": {},
     "output_type": "display_data"
    }
   ],
   "source": [
    "input = \"\"\"\n",
    "            <bug_report>\n",
    "            When switching from dark mode to light mode, the settings screen sometimes stays dark. \n",
    "            This happens on Android 13 only and does not occur on iOS. Users must restart the app \n",
    "            to resolve it. Logs show an unhandled UI thread exception.\n",
    "            </bug_report>\n",
    "\n",
    "            Extract the <platform>, <trigger>, <impact>, and <workaround> from the <bug_report>.\n",
    "\n",
    "            In the answer use the following format:\n",
    "            Platform: <platform>\n",
    "            ____\n",
    "            Trigger: <trigger>\n",
    "            Impact: <impact>\n",
    "            Workaround: <workaround>\n",
    "            \"\"\"\n",
    "\n",
    "\n",
    "print(invoke(input))"
   ]
  },
  {
   "cell_type": "code",
   "execution_count": 19,
   "metadata": {},
   "outputs": [
    {
     "data": {
      "text/html": [
       "<pre style=\"white-space:pre;overflow-x:auto;line-height:normal;font-family:Menlo,'DejaVu Sans Mono',consolas,'Courier New',monospace\">Platform: Android <span style=\"color: #008080; text-decoration-color: #008080; font-weight: bold\">13</span>\n",
       "____\n",
       "Workaround: Users must restart the app to resolve the issue.\n",
       "</pre>\n"
      ],
      "text/plain": [
       "Platform: Android \u001b[1;36m13\u001b[0m\n",
       "____\n",
       "Workaround: Users must restart the app to resolve the issue.\n"
      ]
     },
     "metadata": {},
     "output_type": "display_data"
    }
   ],
   "source": [
    "input = \"\"\"\n",
    "            <bug_report>\n",
    "            When switching from dark mode to light mode, the settings screen sometimes stays dark. \n",
    "            This happens on Android 13 only and does not occur on iOS. Users must restart the app \n",
    "            to resolve it. Logs show an unhandled UI thread exception.\n",
    "            </bug_report>\n",
    "\n",
    "            Extract the <platform>, <trigger>, <impact>, and <workaround> from the <bug_report>.\n",
    "\n",
    "            In the answer use the following format:\n",
    "            Platform: <platform>\n",
    "            ____\n",
    "            Workaround: <workaround>\n",
    "            \"\"\"\n",
    "\n",
    "\n",
    "print(invoke(input))"
   ]
  },
  {
   "cell_type": "markdown",
   "metadata": {},
   "source": [
    "# Pipeline"
   ]
  },
  {
   "cell_type": "code",
   "execution_count": 20,
   "metadata": {},
   "outputs": [
    {
     "data": {
      "text/html": [
       "<pre style=\"white-space:pre;overflow-x:auto;line-height:normal;font-family:Menlo,'DejaVu Sans Mono',consolas,'Courier New',monospace\">Here is the data model for a user in Python using pydantic:\n",
       "\n",
       "```python\n",
       "from pydantic import BaseModel, EmailStr\n",
       "\n",
       "class <span style=\"color: #800080; text-decoration-color: #800080; font-weight: bold\">User</span><span style=\"font-weight: bold\">(</span>BaseModel<span style=\"font-weight: bold\">)</span>:\n",
       "    id: int\n",
       "    name: str\n",
       "    email: EmailStr\n",
       "    password: str\n",
       "```\n",
       "\n",
       "To add validation rules for email and password, you can modify the User class as follows:\n",
       "\n",
       "```python\n",
       "from pydantic import BaseModel, EmailStr, validator\n",
       "\n",
       "class <span style=\"color: #800080; text-decoration-color: #800080; font-weight: bold\">User</span><span style=\"font-weight: bold\">(</span>BaseModel<span style=\"font-weight: bold\">)</span>:\n",
       "    id: int\n",
       "    name: str\n",
       "    email: EmailStr\n",
       "    password: str\n",
       "\n",
       "    @<span style=\"color: #800080; text-decoration-color: #800080; font-weight: bold\">validator</span><span style=\"font-weight: bold\">(</span><span style=\"color: #008000; text-decoration-color: #008000\">'email'</span><span style=\"font-weight: bold\">)</span>\n",
       "    def <span style=\"color: #800080; text-decoration-color: #800080; font-weight: bold\">email_must_be_valid</span><span style=\"font-weight: bold\">(</span>cls, v<span style=\"font-weight: bold\">)</span>:\n",
       "        if not <span style=\"color: #800080; text-decoration-color: #800080; font-weight: bold\">v.endswith</span><span style=\"font-weight: bold\">(</span><span style=\"color: #008000; text-decoration-color: #008000\">'@example.com'</span><span style=\"font-weight: bold\">)</span>:\n",
       "            raise <span style=\"color: #800080; text-decoration-color: #800080; font-weight: bold\">ValueError</span><span style=\"font-weight: bold\">(</span><span style=\"color: #008000; text-decoration-color: #008000\">'Invalid email format. Must end with @example.com'</span><span style=\"font-weight: bold\">)</span>\n",
       "        return v\n",
       "\n",
       "    @<span style=\"color: #800080; text-decoration-color: #800080; font-weight: bold\">validator</span><span style=\"font-weight: bold\">(</span><span style=\"color: #008000; text-decoration-color: #008000\">'password'</span><span style=\"font-weight: bold\">)</span>\n",
       "    def <span style=\"color: #800080; text-decoration-color: #800080; font-weight: bold\">password_min_length</span><span style=\"font-weight: bold\">(</span>cls, v<span style=\"font-weight: bold\">)</span>:\n",
       "        if <span style=\"color: #800080; text-decoration-color: #800080; font-weight: bold\">len</span><span style=\"font-weight: bold\">(</span>v<span style=\"font-weight: bold\">)</span> &lt; <span style=\"color: #008080; text-decoration-color: #008080; font-weight: bold\">8</span>:\n",
       "            raise <span style=\"color: #800080; text-decoration-color: #800080; font-weight: bold\">ValueError</span><span style=\"font-weight: bold\">(</span><span style=\"color: #008000; text-decoration-color: #008000\">'Password must be at least 8 characters long'</span><span style=\"font-weight: bold\">)</span>\n",
       "        return v\n",
       "```\n",
       "\n",
       "Now, let's create a Flask endpoint that receives a JSON payload, validates it with the pydantic model, and returns \n",
       "the appropriate response:\n",
       "\n",
       "```python\n",
       "from flask import Flask, request, jsonify\n",
       "from pydantic import ValidationError\n",
       "\n",
       "app = <span style=\"color: #800080; text-decoration-color: #800080; font-weight: bold\">Flask</span><span style=\"font-weight: bold\">(</span>__name__<span style=\"font-weight: bold\">)</span>\n",
       "\n",
       "@<span style=\"color: #800080; text-decoration-color: #800080; font-weight: bold\">app.route</span><span style=\"font-weight: bold\">(</span><span style=\"color: #008000; text-decoration-color: #008000\">'/users'</span>, <span style=\"color: #808000; text-decoration-color: #808000\">methods</span>=<span style=\"font-weight: bold\">[</span><span style=\"color: #008000; text-decoration-color: #008000\">'POST'</span><span style=\"font-weight: bold\">])</span>\n",
       "def <span style=\"color: #800080; text-decoration-color: #800080; font-weight: bold\">create_user</span><span style=\"font-weight: bold\">()</span>:\n",
       "    try:\n",
       "        user_data = <span style=\"color: #800080; text-decoration-color: #800080; font-weight: bold\">request.get_json</span><span style=\"font-weight: bold\">()</span>\n",
       "        user = <span style=\"color: #800080; text-decoration-color: #800080; font-weight: bold\">User</span><span style=\"font-weight: bold\">(</span>**user_data<span style=\"font-weight: bold\">)</span>\n",
       "        # Check for duplicate emails here\n",
       "\n",
       "        # Save user to database\n",
       "\n",
       "        return <span style=\"color: #800080; text-decoration-color: #800080; font-weight: bold\">jsonify</span><span style=\"font-weight: bold\">({</span><span style=\"color: #008000; text-decoration-color: #008000\">'message'</span>: <span style=\"color: #008000; text-decoration-color: #008000\">'User created successfully'</span><span style=\"font-weight: bold\">})</span>, <span style=\"color: #008080; text-decoration-color: #008080; font-weight: bold\">201</span>\n",
       "    except ValidationError as e:\n",
       "        return <span style=\"color: #800080; text-decoration-color: #800080; font-weight: bold\">jsonify</span><span style=\"font-weight: bold\">({</span><span style=\"color: #008000; text-decoration-color: #008000\">'error'</span>: <span style=\"color: #800080; text-decoration-color: #800080; font-weight: bold\">str</span><span style=\"font-weight: bold\">(</span>e<span style=\"font-weight: bold\">)})</span>, <span style=\"color: #008080; text-decoration-color: #008080; font-weight: bold\">400</span>\n",
       "\n",
       "if __name__ == <span style=\"color: #008000; text-decoration-color: #008000\">'__main__'</span>:\n",
       "    <span style=\"color: #800080; text-decoration-color: #800080; font-weight: bold\">app.run</span><span style=\"font-weight: bold\">()</span>\n",
       "```\n",
       "\n",
       "To handle duplicate email errors, you can check if the email already exists in your database before creating a new \n",
       "user. If the email is already in use, return an appropriate error message:\n",
       "\n",
       "```python\n",
       "@<span style=\"color: #800080; text-decoration-color: #800080; font-weight: bold\">app.route</span><span style=\"font-weight: bold\">(</span><span style=\"color: #008000; text-decoration-color: #008000\">'/users'</span>, <span style=\"color: #808000; text-decoration-color: #808000\">methods</span>=<span style=\"font-weight: bold\">[</span><span style=\"color: #008000; text-decoration-color: #008000\">'POST'</span><span style=\"font-weight: bold\">])</span>\n",
       "def <span style=\"color: #800080; text-decoration-color: #800080; font-weight: bold\">create_user</span><span style=\"font-weight: bold\">()</span>:\n",
       "    try:\n",
       "        user_data = <span style=\"color: #800080; text-decoration-color: #800080; font-weight: bold\">request.get_json</span><span style=\"font-weight: bold\">()</span>\n",
       "        email = <span style=\"color: #800080; text-decoration-color: #800080; font-weight: bold\">user_data.get</span><span style=\"font-weight: bold\">(</span><span style=\"color: #008000; text-decoration-color: #008000\">'email'</span><span style=\"font-weight: bold\">)</span>\n",
       "        \n",
       "        # Check if email already exists in database\n",
       "        if <span style=\"color: #800080; text-decoration-color: #800080; font-weight: bold\">email_already_exists</span><span style=\"font-weight: bold\">(</span>email<span style=\"font-weight: bold\">)</span>:\n",
       "            return <span style=\"color: #800080; text-decoration-color: #800080; font-weight: bold\">jsonify</span><span style=\"font-weight: bold\">({</span><span style=\"color: #008000; text-decoration-color: #008000\">'error'</span>: <span style=\"color: #008000; text-decoration-color: #008000\">'Email already in use. Please use a different email.'</span><span style=\"font-weight: bold\">})</span>, <span style=\"color: #008080; text-decoration-color: #008080; font-weight: bold\">400</span>\n",
       "\n",
       "        user = <span style=\"color: #800080; text-decoration-color: #800080; font-weight: bold\">User</span><span style=\"font-weight: bold\">(</span>**user_data<span style=\"font-weight: bold\">)</span>\n",
       "        \n",
       "        # Save user to database\n",
       "\n",
       "        return <span style=\"color: #800080; text-decoration-color: #800080; font-weight: bold\">jsonify</span><span style=\"font-weight: bold\">({</span><span style=\"color: #008000; text-decoration-color: #008000\">'message'</span>: <span style=\"color: #008000; text-decoration-color: #008000\">'User created successfully'</span><span style=\"font-weight: bold\">})</span>, <span style=\"color: #008080; text-decoration-color: #008080; font-weight: bold\">201</span>\n",
       "    except ValidationError as e:\n",
       "        return <span style=\"color: #800080; text-decoration-color: #800080; font-weight: bold\">jsonify</span><span style=\"font-weight: bold\">({</span><span style=\"color: #008000; text-decoration-color: #008000\">'error'</span>: <span style=\"color: #800080; text-decoration-color: #800080; font-weight: bold\">str</span><span style=\"font-weight: bold\">(</span>e<span style=\"font-weight: bold\">)})</span>, <span style=\"color: #008080; text-decoration-color: #008080; font-weight: bold\">400</span>\n",
       "```\n",
       "\n",
       "This endpoint now handles validation errors, duplicate email errors, and returns the appropriate response messages.\n",
       "</pre>\n"
      ],
      "text/plain": [
       "Here is the data model for a user in Python using pydantic:\n",
       "\n",
       "```python\n",
       "from pydantic import BaseModel, EmailStr\n",
       "\n",
       "class \u001b[1;35mUser\u001b[0m\u001b[1m(\u001b[0mBaseModel\u001b[1m)\u001b[0m:\n",
       "    id: int\n",
       "    name: str\n",
       "    email: EmailStr\n",
       "    password: str\n",
       "```\n",
       "\n",
       "To add validation rules for email and password, you can modify the User class as follows:\n",
       "\n",
       "```python\n",
       "from pydantic import BaseModel, EmailStr, validator\n",
       "\n",
       "class \u001b[1;35mUser\u001b[0m\u001b[1m(\u001b[0mBaseModel\u001b[1m)\u001b[0m:\n",
       "    id: int\n",
       "    name: str\n",
       "    email: EmailStr\n",
       "    password: str\n",
       "\n",
       "    @\u001b[1;35mvalidator\u001b[0m\u001b[1m(\u001b[0m\u001b[32m'email'\u001b[0m\u001b[1m)\u001b[0m\n",
       "    def \u001b[1;35memail_must_be_valid\u001b[0m\u001b[1m(\u001b[0mcls, v\u001b[1m)\u001b[0m:\n",
       "        if not \u001b[1;35mv.endswith\u001b[0m\u001b[1m(\u001b[0m\u001b[32m'@example.com'\u001b[0m\u001b[1m)\u001b[0m:\n",
       "            raise \u001b[1;35mValueError\u001b[0m\u001b[1m(\u001b[0m\u001b[32m'Invalid email format. Must end with @example.com'\u001b[0m\u001b[1m)\u001b[0m\n",
       "        return v\n",
       "\n",
       "    @\u001b[1;35mvalidator\u001b[0m\u001b[1m(\u001b[0m\u001b[32m'password'\u001b[0m\u001b[1m)\u001b[0m\n",
       "    def \u001b[1;35mpassword_min_length\u001b[0m\u001b[1m(\u001b[0mcls, v\u001b[1m)\u001b[0m:\n",
       "        if \u001b[1;35mlen\u001b[0m\u001b[1m(\u001b[0mv\u001b[1m)\u001b[0m < \u001b[1;36m8\u001b[0m:\n",
       "            raise \u001b[1;35mValueError\u001b[0m\u001b[1m(\u001b[0m\u001b[32m'Password must be at least 8 characters long'\u001b[0m\u001b[1m)\u001b[0m\n",
       "        return v\n",
       "```\n",
       "\n",
       "Now, let's create a Flask endpoint that receives a JSON payload, validates it with the pydantic model, and returns \n",
       "the appropriate response:\n",
       "\n",
       "```python\n",
       "from flask import Flask, request, jsonify\n",
       "from pydantic import ValidationError\n",
       "\n",
       "app = \u001b[1;35mFlask\u001b[0m\u001b[1m(\u001b[0m__name__\u001b[1m)\u001b[0m\n",
       "\n",
       "@\u001b[1;35mapp.route\u001b[0m\u001b[1m(\u001b[0m\u001b[32m'/users'\u001b[0m, \u001b[33mmethods\u001b[0m=\u001b[1m[\u001b[0m\u001b[32m'POST'\u001b[0m\u001b[1m]\u001b[0m\u001b[1m)\u001b[0m\n",
       "def \u001b[1;35mcreate_user\u001b[0m\u001b[1m(\u001b[0m\u001b[1m)\u001b[0m:\n",
       "    try:\n",
       "        user_data = \u001b[1;35mrequest.get_json\u001b[0m\u001b[1m(\u001b[0m\u001b[1m)\u001b[0m\n",
       "        user = \u001b[1;35mUser\u001b[0m\u001b[1m(\u001b[0m**user_data\u001b[1m)\u001b[0m\n",
       "        # Check for duplicate emails here\n",
       "\n",
       "        # Save user to database\n",
       "\n",
       "        return \u001b[1;35mjsonify\u001b[0m\u001b[1m(\u001b[0m\u001b[1m{\u001b[0m\u001b[32m'message'\u001b[0m: \u001b[32m'User created successfully'\u001b[0m\u001b[1m}\u001b[0m\u001b[1m)\u001b[0m, \u001b[1;36m201\u001b[0m\n",
       "    except ValidationError as e:\n",
       "        return \u001b[1;35mjsonify\u001b[0m\u001b[1m(\u001b[0m\u001b[1m{\u001b[0m\u001b[32m'error'\u001b[0m: \u001b[1;35mstr\u001b[0m\u001b[1m(\u001b[0me\u001b[1m)\u001b[0m\u001b[1m}\u001b[0m\u001b[1m)\u001b[0m, \u001b[1;36m400\u001b[0m\n",
       "\n",
       "if __name__ == \u001b[32m'__main__'\u001b[0m:\n",
       "    \u001b[1;35mapp.run\u001b[0m\u001b[1m(\u001b[0m\u001b[1m)\u001b[0m\n",
       "```\n",
       "\n",
       "To handle duplicate email errors, you can check if the email already exists in your database before creating a new \n",
       "user. If the email is already in use, return an appropriate error message:\n",
       "\n",
       "```python\n",
       "@\u001b[1;35mapp.route\u001b[0m\u001b[1m(\u001b[0m\u001b[32m'/users'\u001b[0m, \u001b[33mmethods\u001b[0m=\u001b[1m[\u001b[0m\u001b[32m'POST'\u001b[0m\u001b[1m]\u001b[0m\u001b[1m)\u001b[0m\n",
       "def \u001b[1;35mcreate_user\u001b[0m\u001b[1m(\u001b[0m\u001b[1m)\u001b[0m:\n",
       "    try:\n",
       "        user_data = \u001b[1;35mrequest.get_json\u001b[0m\u001b[1m(\u001b[0m\u001b[1m)\u001b[0m\n",
       "        email = \u001b[1;35muser_data.get\u001b[0m\u001b[1m(\u001b[0m\u001b[32m'email'\u001b[0m\u001b[1m)\u001b[0m\n",
       "        \n",
       "        # Check if email already exists in database\n",
       "        if \u001b[1;35memail_already_exists\u001b[0m\u001b[1m(\u001b[0memail\u001b[1m)\u001b[0m:\n",
       "            return \u001b[1;35mjsonify\u001b[0m\u001b[1m(\u001b[0m\u001b[1m{\u001b[0m\u001b[32m'error'\u001b[0m: \u001b[32m'Email already in use. Please use a different email.'\u001b[0m\u001b[1m}\u001b[0m\u001b[1m)\u001b[0m, \u001b[1;36m400\u001b[0m\n",
       "\n",
       "        user = \u001b[1;35mUser\u001b[0m\u001b[1m(\u001b[0m**user_data\u001b[1m)\u001b[0m\n",
       "        \n",
       "        # Save user to database\n",
       "\n",
       "        return \u001b[1;35mjsonify\u001b[0m\u001b[1m(\u001b[0m\u001b[1m{\u001b[0m\u001b[32m'message'\u001b[0m: \u001b[32m'User created successfully'\u001b[0m\u001b[1m}\u001b[0m\u001b[1m)\u001b[0m, \u001b[1;36m201\u001b[0m\n",
       "    except ValidationError as e:\n",
       "        return \u001b[1;35mjsonify\u001b[0m\u001b[1m(\u001b[0m\u001b[1m{\u001b[0m\u001b[32m'error'\u001b[0m: \u001b[1;35mstr\u001b[0m\u001b[1m(\u001b[0me\u001b[1m)\u001b[0m\u001b[1m}\u001b[0m\u001b[1m)\u001b[0m, \u001b[1;36m400\u001b[0m\n",
       "```\n",
       "\n",
       "This endpoint now handles validation errors, duplicate email errors, and returns the appropriate response messages.\n"
      ]
     },
     "metadata": {},
     "output_type": "display_data"
    }
   ],
   "source": [
    "prompt = \"\"\"\n",
    "Define the data model for a user in Python using pydantic. Fields: id, name, email, password (hashed).\n",
    "Given the user model defined with pydantic, write validation rules to ensure email is valid and password is at least 8 characters.\n",
    "Using Flask, write a POST /users endpoint that receives a JSON payload, validates it with the pydantic model, and returns 201 on success or 400 on validation error.\n",
    "Improve the /users endpoint by handling duplicate email errors and returning appropriate messages.\n",
    "\"\"\"\n",
    "print(invoke(prompt))\n"
   ]
  },
  {
   "cell_type": "code",
   "execution_count": 21,
   "metadata": {},
   "outputs": [
    {
     "data": {
      "text/html": [
       "<pre style=\"white-space:pre;overflow-x:auto;line-height:normal;font-family:Menlo,'DejaVu Sans Mono',consolas,'Courier New',monospace\">```python\n",
       "from pydantic import BaseModel\n",
       "from pydantic import EmailStr\n",
       "\n",
       "class <span style=\"color: #800080; text-decoration-color: #800080; font-weight: bold\">User</span><span style=\"font-weight: bold\">(</span>BaseModel<span style=\"font-weight: bold\">)</span>:\n",
       "    id: int\n",
       "    name: str\n",
       "    email: EmailStr\n",
       "    password: str\n",
       "```\n",
       "</pre>\n"
      ],
      "text/plain": [
       "```python\n",
       "from pydantic import BaseModel\n",
       "from pydantic import EmailStr\n",
       "\n",
       "class \u001b[1;35mUser\u001b[0m\u001b[1m(\u001b[0mBaseModel\u001b[1m)\u001b[0m:\n",
       "    id: int\n",
       "    name: str\n",
       "    email: EmailStr\n",
       "    password: str\n",
       "```\n"
      ]
     },
     "metadata": {},
     "output_type": "display_data"
    },
    {
     "data": {
      "text/html": [
       "<pre style=\"white-space:pre;overflow-x:auto;line-height:normal;font-family:Menlo,'DejaVu Sans Mono',consolas,'Courier New',monospace\">Here is an example code snippet that defines a user model with validation rules for email and password using \n",
       "Pydantic:\n",
       "\n",
       "```python\n",
       "from pydantic import BaseModel, EmailStr, constr\n",
       "\n",
       "class <span style=\"color: #800080; text-decoration-color: #800080; font-weight: bold\">User</span><span style=\"font-weight: bold\">(</span>BaseModel<span style=\"font-weight: bold\">)</span>:\n",
       "    email: EmailStr\n",
       "    password: <span style=\"color: #800080; text-decoration-color: #800080; font-weight: bold\">constr</span><span style=\"font-weight: bold\">(</span><span style=\"color: #808000; text-decoration-color: #808000\">min_length</span>=<span style=\"color: #008080; text-decoration-color: #008080; font-weight: bold\">8</span><span style=\"font-weight: bold\">)</span>\n",
       "\n",
       "# Usage example\n",
       "user_data = <span style=\"font-weight: bold\">{</span>\n",
       "    <span style=\"color: #008000; text-decoration-color: #008000\">'email'</span>: <span style=\"color: #008000; text-decoration-color: #008000\">'test@example.com'</span>,\n",
       "    <span style=\"color: #008000; text-decoration-color: #008000\">'password'</span>: <span style=\"color: #008000; text-decoration-color: #008000\">'password123'</span>\n",
       "<span style=\"font-weight: bold\">}</span>\n",
       "\n",
       "user = <span style=\"color: #800080; text-decoration-color: #800080; font-weight: bold\">User</span><span style=\"font-weight: bold\">(</span>**user_data<span style=\"font-weight: bold\">)</span>\n",
       "<span style=\"color: #800080; text-decoration-color: #800080; font-weight: bold\">print</span><span style=\"font-weight: bold\">(</span>user<span style=\"font-weight: bold\">)</span>\n",
       "```\n",
       "\n",
       "In this code snippet, the `User` model is defined with two fields: `email` with type `EmailStr` which ensures the \n",
       "email is in a valid format, and `password` with type `constr` and `<span style=\"color: #808000; text-decoration-color: #808000\">min_length</span>=<span style=\"color: #008080; text-decoration-color: #008080; font-weight: bold\">8</span>` which ensures that the password is\n",
       "at least <span style=\"color: #008080; text-decoration-color: #008080; font-weight: bold\">8</span> characters long. When instantiating the `User` model with the provided data, Pydantic will automatically\n",
       "validate the input data against these rules.\n",
       "</pre>\n"
      ],
      "text/plain": [
       "Here is an example code snippet that defines a user model with validation rules for email and password using \n",
       "Pydantic:\n",
       "\n",
       "```python\n",
       "from pydantic import BaseModel, EmailStr, constr\n",
       "\n",
       "class \u001b[1;35mUser\u001b[0m\u001b[1m(\u001b[0mBaseModel\u001b[1m)\u001b[0m:\n",
       "    email: EmailStr\n",
       "    password: \u001b[1;35mconstr\u001b[0m\u001b[1m(\u001b[0m\u001b[33mmin_length\u001b[0m=\u001b[1;36m8\u001b[0m\u001b[1m)\u001b[0m\n",
       "\n",
       "# Usage example\n",
       "user_data = \u001b[1m{\u001b[0m\n",
       "    \u001b[32m'email'\u001b[0m: \u001b[32m'test@example.com'\u001b[0m,\n",
       "    \u001b[32m'password'\u001b[0m: \u001b[32m'password123'\u001b[0m\n",
       "\u001b[1m}\u001b[0m\n",
       "\n",
       "user = \u001b[1;35mUser\u001b[0m\u001b[1m(\u001b[0m**user_data\u001b[1m)\u001b[0m\n",
       "\u001b[1;35mprint\u001b[0m\u001b[1m(\u001b[0muser\u001b[1m)\u001b[0m\n",
       "```\n",
       "\n",
       "In this code snippet, the `User` model is defined with two fields: `email` with type `EmailStr` which ensures the \n",
       "email is in a valid format, and `password` with type `constr` and `\u001b[33mmin_length\u001b[0m=\u001b[1;36m8\u001b[0m` which ensures that the password is\n",
       "at least \u001b[1;36m8\u001b[0m characters long. When instantiating the `User` model with the provided data, Pydantic will automatically\n",
       "validate the input data against these rules.\n"
      ]
     },
     "metadata": {},
     "output_type": "display_data"
    },
    {
     "data": {
      "text/html": [
       "<pre style=\"white-space:pre;overflow-x:auto;line-height:normal;font-family:Menlo,'DejaVu Sans Mono',consolas,'Courier New',monospace\">Here's an example implementation using Flask and pydantic:\n",
       "\n",
       "```python\n",
       "from flask import Flask, request, jsonify\n",
       "from pydantic import BaseModel, ValidationError\n",
       "\n",
       "app = <span style=\"color: #800080; text-decoration-color: #800080; font-weight: bold\">Flask</span><span style=\"font-weight: bold\">(</span>__name__<span style=\"font-weight: bold\">)</span>\n",
       "\n",
       "# Define pydantic user model\n",
       "class <span style=\"color: #800080; text-decoration-color: #800080; font-weight: bold\">User</span><span style=\"font-weight: bold\">(</span>BaseModel<span style=\"font-weight: bold\">)</span>:\n",
       "    name: str\n",
       "    email: str\n",
       "\n",
       "# POST <span style=\"color: #800080; text-decoration-color: #800080\">/</span><span style=\"color: #ff00ff; text-decoration-color: #ff00ff\">users</span> endpoint\n",
       "@<span style=\"color: #800080; text-decoration-color: #800080; font-weight: bold\">app.route</span><span style=\"font-weight: bold\">(</span><span style=\"color: #008000; text-decoration-color: #008000\">'/users'</span>, <span style=\"color: #808000; text-decoration-color: #808000\">methods</span>=<span style=\"font-weight: bold\">[</span><span style=\"color: #008000; text-decoration-color: #008000\">'POST'</span><span style=\"font-weight: bold\">])</span>\n",
       "def <span style=\"color: #800080; text-decoration-color: #800080; font-weight: bold\">create_user</span><span style=\"font-weight: bold\">()</span>:\n",
       "    try:\n",
       "        user_data = <span style=\"color: #800080; text-decoration-color: #800080; font-weight: bold\">request.get_json</span><span style=\"font-weight: bold\">()</span>\n",
       "        user = <span style=\"color: #800080; text-decoration-color: #800080; font-weight: bold\">User</span><span style=\"font-weight: bold\">(</span>**user_data<span style=\"font-weight: bold\">)</span>\n",
       "        # return <span style=\"color: #008080; text-decoration-color: #008080; font-weight: bold\">201</span> on success\n",
       "        return <span style=\"color: #800080; text-decoration-color: #800080; font-weight: bold\">jsonify</span><span style=\"font-weight: bold\">({</span><span style=\"color: #008000; text-decoration-color: #008000\">'message'</span>: <span style=\"color: #008000; text-decoration-color: #008000\">'User created successfully'</span><span style=\"font-weight: bold\">})</span>, <span style=\"color: #008080; text-decoration-color: #008080; font-weight: bold\">201</span>\n",
       "    except ValidationError as e:\n",
       "        # return <span style=\"color: #008080; text-decoration-color: #008080; font-weight: bold\">400</span> on validation error\n",
       "        return <span style=\"color: #800080; text-decoration-color: #800080; font-weight: bold\">jsonify</span><span style=\"font-weight: bold\">({</span><span style=\"color: #008000; text-decoration-color: #008000\">'error'</span>: <span style=\"color: #800080; text-decoration-color: #800080; font-weight: bold\">str</span><span style=\"font-weight: bold\">(</span>e<span style=\"font-weight: bold\">)})</span>, <span style=\"color: #008080; text-decoration-color: #008080; font-weight: bold\">400</span>\n",
       "\n",
       "if __name__ == <span style=\"color: #008000; text-decoration-color: #008000\">'__main__'</span>:\n",
       "    <span style=\"color: #800080; text-decoration-color: #800080; font-weight: bold\">app.run</span><span style=\"font-weight: bold\">(</span><span style=\"color: #808000; text-decoration-color: #808000\">debug</span>=<span style=\"color: #00ff00; text-decoration-color: #00ff00; font-style: italic\">True</span><span style=\"font-weight: bold\">)</span>\n",
       "```\n",
       "\n",
       "You can send a POST request to `<span style=\"color: #0000ff; text-decoration-color: #0000ff; text-decoration: underline\">http://localhost:5000/users`</span> with a JSON payload containing `name` and `email` \n",
       "fields to create a new user. The endpoint will return a <span style=\"color: #008080; text-decoration-color: #008080; font-weight: bold\">201</span> status code if the data is valid, or a <span style=\"color: #008080; text-decoration-color: #008080; font-weight: bold\">400</span> status code \n",
       "with the validation error message if the data is invalid.\n",
       "</pre>\n"
      ],
      "text/plain": [
       "Here's an example implementation using Flask and pydantic:\n",
       "\n",
       "```python\n",
       "from flask import Flask, request, jsonify\n",
       "from pydantic import BaseModel, ValidationError\n",
       "\n",
       "app = \u001b[1;35mFlask\u001b[0m\u001b[1m(\u001b[0m__name__\u001b[1m)\u001b[0m\n",
       "\n",
       "# Define pydantic user model\n",
       "class \u001b[1;35mUser\u001b[0m\u001b[1m(\u001b[0mBaseModel\u001b[1m)\u001b[0m:\n",
       "    name: str\n",
       "    email: str\n",
       "\n",
       "# POST \u001b[35m/\u001b[0m\u001b[95musers\u001b[0m endpoint\n",
       "@\u001b[1;35mapp.route\u001b[0m\u001b[1m(\u001b[0m\u001b[32m'/users'\u001b[0m, \u001b[33mmethods\u001b[0m=\u001b[1m[\u001b[0m\u001b[32m'POST'\u001b[0m\u001b[1m]\u001b[0m\u001b[1m)\u001b[0m\n",
       "def \u001b[1;35mcreate_user\u001b[0m\u001b[1m(\u001b[0m\u001b[1m)\u001b[0m:\n",
       "    try:\n",
       "        user_data = \u001b[1;35mrequest.get_json\u001b[0m\u001b[1m(\u001b[0m\u001b[1m)\u001b[0m\n",
       "        user = \u001b[1;35mUser\u001b[0m\u001b[1m(\u001b[0m**user_data\u001b[1m)\u001b[0m\n",
       "        # return \u001b[1;36m201\u001b[0m on success\n",
       "        return \u001b[1;35mjsonify\u001b[0m\u001b[1m(\u001b[0m\u001b[1m{\u001b[0m\u001b[32m'message'\u001b[0m: \u001b[32m'User created successfully'\u001b[0m\u001b[1m}\u001b[0m\u001b[1m)\u001b[0m, \u001b[1;36m201\u001b[0m\n",
       "    except ValidationError as e:\n",
       "        # return \u001b[1;36m400\u001b[0m on validation error\n",
       "        return \u001b[1;35mjsonify\u001b[0m\u001b[1m(\u001b[0m\u001b[1m{\u001b[0m\u001b[32m'error'\u001b[0m: \u001b[1;35mstr\u001b[0m\u001b[1m(\u001b[0me\u001b[1m)\u001b[0m\u001b[1m}\u001b[0m\u001b[1m)\u001b[0m, \u001b[1;36m400\u001b[0m\n",
       "\n",
       "if __name__ == \u001b[32m'__main__'\u001b[0m:\n",
       "    \u001b[1;35mapp.run\u001b[0m\u001b[1m(\u001b[0m\u001b[33mdebug\u001b[0m=\u001b[3;92mTrue\u001b[0m\u001b[1m)\u001b[0m\n",
       "```\n",
       "\n",
       "You can send a POST request to `\u001b[4;94mhttp://localhost:5000/users`\u001b[0m with a JSON payload containing `name` and `email` \n",
       "fields to create a new user. The endpoint will return a \u001b[1;36m201\u001b[0m status code if the data is valid, or a \u001b[1;36m400\u001b[0m status code \n",
       "with the validation error message if the data is invalid.\n"
      ]
     },
     "metadata": {},
     "output_type": "display_data"
    },
    {
     "data": {
      "text/html": [
       "<pre style=\"white-space:pre;overflow-x:auto;line-height:normal;font-family:Menlo,'DejaVu Sans Mono',consolas,'Courier New',monospace\">To improve the <span style=\"color: #800080; text-decoration-color: #800080\">/</span><span style=\"color: #ff00ff; text-decoration-color: #ff00ff\">users</span> endpoint by handling duplicate email errors and returning appropriate messages, you can \n",
       "implement the following steps:\n",
       "\n",
       "<span style=\"color: #008080; text-decoration-color: #008080; font-weight: bold\">1</span>. When a new user is trying to register with an email that already exists in the database, catch the error and \n",
       "return a response with a <span style=\"color: #008080; text-decoration-color: #008080; font-weight: bold\">409</span> HTTP status code <span style=\"font-weight: bold\">(</span>Conflict<span style=\"font-weight: bold\">)</span>. This indicates that the request could not be completed \n",
       "due to a conflict with the current state of the resource.\n",
       "\n",
       "<span style=\"color: #008080; text-decoration-color: #008080; font-weight: bold\">2</span>. In the response body, include a custom error message informing the user that the email they are trying to \n",
       "register with is already taken. For example, the message could be something like: <span style=\"color: #008000; text-decoration-color: #008000\">\"The email address you provided </span>\n",
       "<span style=\"color: #008000; text-decoration-color: #008000\">is already registered. Please use a different email address.\"</span>\n",
       "\n",
       "<span style=\"color: #008080; text-decoration-color: #008080; font-weight: bold\">3</span>. Provide a clear and user-friendly message to help the user understand why their registration attempt failed and \n",
       "how they can resolve the issue.\n",
       "\n",
       "<span style=\"color: #008080; text-decoration-color: #008080; font-weight: bold\">4</span>. Additionally, you can include specific error codes or error names in the response to help developers \n",
       "troubleshoot issues on their end.\n",
       "\n",
       "By implementing these steps, the <span style=\"color: #800080; text-decoration-color: #800080\">/</span><span style=\"color: #ff00ff; text-decoration-color: #ff00ff\">users</span> endpoint will handle duplicate email errors more effectively and provide \n",
       "users with appropriate messages to guide them in resolving the issue.\n",
       "</pre>\n"
      ],
      "text/plain": [
       "To improve the \u001b[35m/\u001b[0m\u001b[95musers\u001b[0m endpoint by handling duplicate email errors and returning appropriate messages, you can \n",
       "implement the following steps:\n",
       "\n",
       "\u001b[1;36m1\u001b[0m. When a new user is trying to register with an email that already exists in the database, catch the error and \n",
       "return a response with a \u001b[1;36m409\u001b[0m HTTP status code \u001b[1m(\u001b[0mConflict\u001b[1m)\u001b[0m. This indicates that the request could not be completed \n",
       "due to a conflict with the current state of the resource.\n",
       "\n",
       "\u001b[1;36m2\u001b[0m. In the response body, include a custom error message informing the user that the email they are trying to \n",
       "register with is already taken. For example, the message could be something like: \u001b[32m\"The email address you provided \u001b[0m\n",
       "\u001b[32mis already registered. Please use a different email address.\"\u001b[0m\n",
       "\n",
       "\u001b[1;36m3\u001b[0m. Provide a clear and user-friendly message to help the user understand why their registration attempt failed and \n",
       "how they can resolve the issue.\n",
       "\n",
       "\u001b[1;36m4\u001b[0m. Additionally, you can include specific error codes or error names in the response to help developers \n",
       "troubleshoot issues on their end.\n",
       "\n",
       "By implementing these steps, the \u001b[35m/\u001b[0m\u001b[95musers\u001b[0m endpoint will handle duplicate email errors more effectively and provide \n",
       "users with appropriate messages to guide them in resolving the issue.\n"
      ]
     },
     "metadata": {},
     "output_type": "display_data"
    }
   ],
   "source": [
    "#Step 1: Define the Data Model\n",
    "prompt_1 = \"Define the data model for a user in Python using pydantic. Fields: id, name, email, password (hashed).\"\n",
    "print(invoke(prompt_1))\n",
    "\n",
    "#Step 2: Write the Validation Logic\n",
    "prompt_2 = \"Given the user model defined with pydantic, write validation rules to ensure email is valid and password is at least 8 characters.\"\n",
    "print(invoke(prompt_2))\n",
    "\n",
    "#Step 3: Write the Flask Endpoint\n",
    "prompt_3 = \"Using Flask, write a POST /users endpoint that receives a JSON payload, validates it with the pydantic model, and returns 201 on success or 400 on validation error.\"\n",
    "print(invoke(prompt_3))\n",
    "\n",
    "#Step 4: Add Error Handling and Edge Cases\n",
    "prompt_4 = \"Improve the /users endpoint by handling duplicate email errors and returning appropriate messages.\"\n",
    "print(invoke(prompt_4))\n"
   ]
  },
  {
   "cell_type": "markdown",
   "metadata": {},
   "source": [
    "## Chaining example"
   ]
  },
  {
   "cell_type": "code",
   "execution_count": 28,
   "metadata": {},
   "outputs": [
    {
     "data": {
      "text/html": [
       "<pre style=\"white-space:pre;overflow-x:auto;line-height:normal;font-family:Menlo,'DejaVu Sans Mono',consolas,'Courier New',monospace\">To improve the error handling for duplicate email addresses in the Flask app, you can add a check to verify if the \n",
       "email address already exists in your database before creating a new user. Here's an updated version of the code \n",
       "with duplicate email error handling:\n",
       "\n",
       "```python\n",
       "from flask import Flask, request, jsonify\n",
       "from pydantic import BaseModel, EmailStr, constr, validator\n",
       "\n",
       "app = <span style=\"color: #800080; text-decoration-color: #800080; font-weight: bold\">Flask</span><span style=\"font-weight: bold\">(</span>__name__<span style=\"font-weight: bold\">)</span>\n",
       "\n",
       "# Dummy database to store user data\n",
       "users = <span style=\"font-weight: bold\">[]</span>\n",
       "\n",
       "class <span style=\"color: #800080; text-decoration-color: #800080; font-weight: bold\">User</span><span style=\"font-weight: bold\">(</span>BaseModel<span style=\"font-weight: bold\">)</span>:\n",
       "    id: int\n",
       "    name: str\n",
       "    email: EmailStr\n",
       "    password: <span style=\"color: #800080; text-decoration-color: #800080; font-weight: bold\">constr</span><span style=\"font-weight: bold\">(</span><span style=\"color: #808000; text-decoration-color: #808000\">min_length</span>=<span style=\"color: #008080; text-decoration-color: #008080; font-weight: bold\">8</span><span style=\"font-weight: bold\">)</span>\n",
       "\n",
       "    @<span style=\"color: #800080; text-decoration-color: #800080; font-weight: bold\">validator</span><span style=\"font-weight: bold\">(</span><span style=\"color: #008000; text-decoration-color: #008000\">'name'</span><span style=\"font-weight: bold\">)</span>\n",
       "    def <span style=\"color: #800080; text-decoration-color: #800080; font-weight: bold\">name_must_contain_space</span><span style=\"font-weight: bold\">(</span>cls, v<span style=\"font-weight: bold\">)</span>:\n",
       "        if <span style=\"color: #008000; text-decoration-color: #008000\">' '</span> not in v:\n",
       "            raise <span style=\"color: #800080; text-decoration-color: #800080; font-weight: bold\">ValueError</span><span style=\"font-weight: bold\">(</span><span style=\"color: #008000; text-decoration-color: #008000\">'Name must contain a space'</span><span style=\"font-weight: bold\">)</span>\n",
       "        return v\n",
       "\n",
       "@<span style=\"color: #800080; text-decoration-color: #800080; font-weight: bold\">app.route</span><span style=\"font-weight: bold\">(</span><span style=\"color: #008000; text-decoration-color: #008000\">'/validate_user'</span>, <span style=\"color: #808000; text-decoration-color: #808000\">methods</span>=<span style=\"font-weight: bold\">[</span><span style=\"color: #008000; text-decoration-color: #008000\">'POST'</span><span style=\"font-weight: bold\">])</span>\n",
       "def <span style=\"color: #800080; text-decoration-color: #800080; font-weight: bold\">validate_user</span><span style=\"font-weight: bold\">()</span>:\n",
       "    data = <span style=\"color: #800080; text-decoration-color: #800080; font-weight: bold\">request.get_json</span><span style=\"font-weight: bold\">()</span>\n",
       "    \n",
       "    # Check for duplicate email\n",
       "    if <span style=\"color: #800080; text-decoration-color: #800080; font-weight: bold\">any</span><span style=\"font-weight: bold\">(</span>user.email == data<span style=\"font-weight: bold\">[</span><span style=\"color: #008000; text-decoration-color: #008000\">'email'</span><span style=\"font-weight: bold\">]</span> for user in users<span style=\"font-weight: bold\">)</span>:\n",
       "        return <span style=\"color: #800080; text-decoration-color: #800080; font-weight: bold\">jsonify</span><span style=\"font-weight: bold\">({</span><span style=\"color: #008000; text-decoration-color: #008000\">'error'</span>: <span style=\"color: #008000; text-decoration-color: #008000\">'Email address already exists'</span><span style=\"font-weight: bold\">})</span>\n",
       "\n",
       "    try:\n",
       "        user = <span style=\"color: #800080; text-decoration-color: #800080; font-weight: bold\">User</span><span style=\"font-weight: bold\">(</span>**data<span style=\"font-weight: bold\">)</span>\n",
       "        <span style=\"color: #800080; text-decoration-color: #800080; font-weight: bold\">users.append</span><span style=\"font-weight: bold\">(</span>user<span style=\"font-weight: bold\">)</span>  # Add user to database\n",
       "        return <span style=\"color: #800080; text-decoration-color: #800080; font-weight: bold\">jsonify</span><span style=\"font-weight: bold\">({</span><span style=\"color: #008000; text-decoration-color: #008000\">'message'</span>: <span style=\"color: #008000; text-decoration-color: #008000\">'User is valid'</span><span style=\"font-weight: bold\">})</span>\n",
       "    except ValueError as e:\n",
       "        return <span style=\"color: #800080; text-decoration-color: #800080; font-weight: bold\">jsonify</span><span style=\"font-weight: bold\">({</span><span style=\"color: #008000; text-decoration-color: #008000\">'error'</span>: <span style=\"color: #800080; text-decoration-color: #800080; font-weight: bold\">str</span><span style=\"font-weight: bold\">(</span>e<span style=\"font-weight: bold\">)})</span>\n",
       "\n",
       "if __name__ == <span style=\"color: #008000; text-decoration-color: #008000\">'__main__'</span>:\n",
       "    <span style=\"color: #800080; text-decoration-color: #800080; font-weight: bold\">app.run</span><span style=\"font-weight: bold\">(</span><span style=\"color: #808000; text-decoration-color: #808000\">debug</span>=<span style=\"color: #00ff00; text-decoration-color: #00ff00; font-style: italic\">True</span><span style=\"font-weight: bold\">)</span>\n",
       "```\n",
       "\n",
       "In this updated code, before creating a new user, we check if the email address provided in the request already \n",
       "exists in the `users` list <span style=\"font-weight: bold\">(</span>which simulates a database<span style=\"font-weight: bold\">)</span>. If a user with the same email address is found, we return \n",
       "an error message indicating that the email address already exists. Otherwise, the user is considered valid and \n",
       "added to the `users` list.\n",
       "\n",
       "This approach helps prevent duplicate email addresses in your user database and provides better error handling for \n",
       "this specific scenario.\n",
       "</pre>\n"
      ],
      "text/plain": [
       "To improve the error handling for duplicate email addresses in the Flask app, you can add a check to verify if the \n",
       "email address already exists in your database before creating a new user. Here's an updated version of the code \n",
       "with duplicate email error handling:\n",
       "\n",
       "```python\n",
       "from flask import Flask, request, jsonify\n",
       "from pydantic import BaseModel, EmailStr, constr, validator\n",
       "\n",
       "app = \u001b[1;35mFlask\u001b[0m\u001b[1m(\u001b[0m__name__\u001b[1m)\u001b[0m\n",
       "\n",
       "# Dummy database to store user data\n",
       "users = \u001b[1m[\u001b[0m\u001b[1m]\u001b[0m\n",
       "\n",
       "class \u001b[1;35mUser\u001b[0m\u001b[1m(\u001b[0mBaseModel\u001b[1m)\u001b[0m:\n",
       "    id: int\n",
       "    name: str\n",
       "    email: EmailStr\n",
       "    password: \u001b[1;35mconstr\u001b[0m\u001b[1m(\u001b[0m\u001b[33mmin_length\u001b[0m=\u001b[1;36m8\u001b[0m\u001b[1m)\u001b[0m\n",
       "\n",
       "    @\u001b[1;35mvalidator\u001b[0m\u001b[1m(\u001b[0m\u001b[32m'name'\u001b[0m\u001b[1m)\u001b[0m\n",
       "    def \u001b[1;35mname_must_contain_space\u001b[0m\u001b[1m(\u001b[0mcls, v\u001b[1m)\u001b[0m:\n",
       "        if \u001b[32m' '\u001b[0m not in v:\n",
       "            raise \u001b[1;35mValueError\u001b[0m\u001b[1m(\u001b[0m\u001b[32m'Name must contain a space'\u001b[0m\u001b[1m)\u001b[0m\n",
       "        return v\n",
       "\n",
       "@\u001b[1;35mapp.route\u001b[0m\u001b[1m(\u001b[0m\u001b[32m'/validate_user'\u001b[0m, \u001b[33mmethods\u001b[0m=\u001b[1m[\u001b[0m\u001b[32m'POST'\u001b[0m\u001b[1m]\u001b[0m\u001b[1m)\u001b[0m\n",
       "def \u001b[1;35mvalidate_user\u001b[0m\u001b[1m(\u001b[0m\u001b[1m)\u001b[0m:\n",
       "    data = \u001b[1;35mrequest.get_json\u001b[0m\u001b[1m(\u001b[0m\u001b[1m)\u001b[0m\n",
       "    \n",
       "    # Check for duplicate email\n",
       "    if \u001b[1;35many\u001b[0m\u001b[1m(\u001b[0muser.email == data\u001b[1m[\u001b[0m\u001b[32m'email'\u001b[0m\u001b[1m]\u001b[0m for user in users\u001b[1m)\u001b[0m:\n",
       "        return \u001b[1;35mjsonify\u001b[0m\u001b[1m(\u001b[0m\u001b[1m{\u001b[0m\u001b[32m'error'\u001b[0m: \u001b[32m'Email address already exists'\u001b[0m\u001b[1m}\u001b[0m\u001b[1m)\u001b[0m\n",
       "\n",
       "    try:\n",
       "        user = \u001b[1;35mUser\u001b[0m\u001b[1m(\u001b[0m**data\u001b[1m)\u001b[0m\n",
       "        \u001b[1;35musers.append\u001b[0m\u001b[1m(\u001b[0muser\u001b[1m)\u001b[0m  # Add user to database\n",
       "        return \u001b[1;35mjsonify\u001b[0m\u001b[1m(\u001b[0m\u001b[1m{\u001b[0m\u001b[32m'message'\u001b[0m: \u001b[32m'User is valid'\u001b[0m\u001b[1m}\u001b[0m\u001b[1m)\u001b[0m\n",
       "    except ValueError as e:\n",
       "        return \u001b[1;35mjsonify\u001b[0m\u001b[1m(\u001b[0m\u001b[1m{\u001b[0m\u001b[32m'error'\u001b[0m: \u001b[1;35mstr\u001b[0m\u001b[1m(\u001b[0me\u001b[1m)\u001b[0m\u001b[1m}\u001b[0m\u001b[1m)\u001b[0m\n",
       "\n",
       "if __name__ == \u001b[32m'__main__'\u001b[0m:\n",
       "    \u001b[1;35mapp.run\u001b[0m\u001b[1m(\u001b[0m\u001b[33mdebug\u001b[0m=\u001b[3;92mTrue\u001b[0m\u001b[1m)\u001b[0m\n",
       "```\n",
       "\n",
       "In this updated code, before creating a new user, we check if the email address provided in the request already \n",
       "exists in the `users` list \u001b[1m(\u001b[0mwhich simulates a database\u001b[1m)\u001b[0m. If a user with the same email address is found, we return \n",
       "an error message indicating that the email address already exists. Otherwise, the user is considered valid and \n",
       "added to the `users` list.\n",
       "\n",
       "This approach helps prevent duplicate email addresses in your user database and provides better error handling for \n",
       "this specific scenario.\n"
      ]
     },
     "metadata": {},
     "output_type": "display_data"
    }
   ],
   "source": [
    "from langchain_core.runnables import RunnableLambda, RunnableSequence\n",
    "from langchain.prompts import PromptTemplate\n",
    "from langchain_openai import ChatOpenAI\n",
    "\n",
    "llm = ChatOpenAI(model=\"gpt-3.5-turbo\")\n",
    "\n",
    "# Step 1: Generate the model code\n",
    "step_1 = PromptTemplate.from_template(\n",
    "    \"Define a pydantic model for a user with id, name, email, and password.\"\n",
    ") | llm\n",
    "\n",
    "# Step 2: Add validation to the model code\n",
    "step_2 = (\n",
    "    RunnableLambda(lambda model_code: {\"model_code\": model_code})\n",
    "    | PromptTemplate.from_template(\"Add validation to this model:\\n{model_code}\")\n",
    "    | llm\n",
    "    | RunnableLambda(lambda validation_code, model_code=None: {\"model_code\": model_code, \"validation_code\": validation_code})\n",
    ")\n",
    "\n",
    "# Step 3: Write Flask endpoint using model and validation code\n",
    "step_3 = (\n",
    "    PromptTemplate.from_template(\"Write Flask endpoint using:\\nModel:\\n{model_code}\\nValidation:\\n{validation_code}\")\n",
    "    | llm\n",
    ")\n",
    "\n",
    "# Step 4: Improve with duplicate email error handling\n",
    "step_4 = (\n",
    "    RunnableLambda(lambda endpoint_code: {\"endpoint_code\": endpoint_code})\n",
    "    | PromptTemplate.from_template(\"Improve with duplicate email error handling:\\n{endpoint_code}\")\n",
    "    | llm\n",
    ")\n",
    "\n",
    "# Combine steps in a sequence\n",
    "pipeline = RunnableSequence(\n",
    "    step_1,\n",
    "    step_2,\n",
    "    step_3,\n",
    "    step_4,\n",
    ")\n",
    "\n",
    "final_output = pipeline.invoke({})\n",
    "print(final_output.content)\n"
   ]
  },
  {
   "cell_type": "markdown",
   "metadata": {},
   "source": [
    "# Task"
   ]
  },
  {
   "cell_type": "code",
   "execution_count": 29,
   "metadata": {},
   "outputs": [
    {
     "data": {
      "text/html": [
       "<pre style=\"white-space:pre;overflow-x:auto;line-height:normal;font-family:Menlo,'DejaVu Sans Mono',consolas,'Courier New',monospace\">On-Call Schedule:\n",
       "\n",
       "Engineer <span style=\"color: #008080; text-decoration-color: #008080; font-weight: bold\">1</span>:\n",
       "- Monday: Service <span style=\"color: #008080; text-decoration-color: #008080; font-weight: bold\">1</span>\n",
       "- Tuesday: Service <span style=\"color: #008080; text-decoration-color: #008080; font-weight: bold\">2</span>\n",
       "- Wednesday: Service <span style=\"color: #008080; text-decoration-color: #008080; font-weight: bold\">1</span>\n",
       "- Thursday: Service <span style=\"color: #008080; text-decoration-color: #008080; font-weight: bold\">2</span>\n",
       "- Friday: Service <span style=\"color: #008080; text-decoration-color: #008080; font-weight: bold\">1</span>\n",
       "- Saturday: Service <span style=\"color: #008080; text-decoration-color: #008080; font-weight: bold\">2</span>\n",
       "- Sunday: Off\n",
       "\n",
       "Engineer <span style=\"color: #008080; text-decoration-color: #008080; font-weight: bold\">2</span>:\n",
       "- Monday: Service <span style=\"color: #008080; text-decoration-color: #008080; font-weight: bold\">2</span>\n",
       "- Tuesday: Service <span style=\"color: #008080; text-decoration-color: #008080; font-weight: bold\">1</span>\n",
       "- Wednesday: Service <span style=\"color: #008080; text-decoration-color: #008080; font-weight: bold\">2</span>\n",
       "- Thursday: Service <span style=\"color: #008080; text-decoration-color: #008080; font-weight: bold\">1</span>\n",
       "- Friday: Service <span style=\"color: #008080; text-decoration-color: #008080; font-weight: bold\">2</span>\n",
       "- Saturday: Service <span style=\"color: #008080; text-decoration-color: #008080; font-weight: bold\">1</span>\n",
       "- Sunday: Off\n",
       "\n",
       "Engineer <span style=\"color: #008080; text-decoration-color: #008080; font-weight: bold\">3</span>:\n",
       "- Monday: Service <span style=\"color: #008080; text-decoration-color: #008080; font-weight: bold\">1</span>\n",
       "- Tuesday: Service <span style=\"color: #008080; text-decoration-color: #008080; font-weight: bold\">2</span>\n",
       "- Wednesday: Service <span style=\"color: #008080; text-decoration-color: #008080; font-weight: bold\">1</span>\n",
       "- Thursday: Service <span style=\"color: #008080; text-decoration-color: #008080; font-weight: bold\">2</span>\n",
       "- Friday: Service <span style=\"color: #008080; text-decoration-color: #008080; font-weight: bold\">1</span>\n",
       "- Saturday: Service <span style=\"color: #008080; text-decoration-color: #008080; font-weight: bold\">2</span>\n",
       "- Sunday: Off\n",
       "\n",
       "This schedule ensures that each engineer rotates between the two services and has a day off each week.\n",
       "</pre>\n"
      ],
      "text/plain": [
       "On-Call Schedule:\n",
       "\n",
       "Engineer \u001b[1;36m1\u001b[0m:\n",
       "- Monday: Service \u001b[1;36m1\u001b[0m\n",
       "- Tuesday: Service \u001b[1;36m2\u001b[0m\n",
       "- Wednesday: Service \u001b[1;36m1\u001b[0m\n",
       "- Thursday: Service \u001b[1;36m2\u001b[0m\n",
       "- Friday: Service \u001b[1;36m1\u001b[0m\n",
       "- Saturday: Service \u001b[1;36m2\u001b[0m\n",
       "- Sunday: Off\n",
       "\n",
       "Engineer \u001b[1;36m2\u001b[0m:\n",
       "- Monday: Service \u001b[1;36m2\u001b[0m\n",
       "- Tuesday: Service \u001b[1;36m1\u001b[0m\n",
       "- Wednesday: Service \u001b[1;36m2\u001b[0m\n",
       "- Thursday: Service \u001b[1;36m1\u001b[0m\n",
       "- Friday: Service \u001b[1;36m2\u001b[0m\n",
       "- Saturday: Service \u001b[1;36m1\u001b[0m\n",
       "- Sunday: Off\n",
       "\n",
       "Engineer \u001b[1;36m3\u001b[0m:\n",
       "- Monday: Service \u001b[1;36m1\u001b[0m\n",
       "- Tuesday: Service \u001b[1;36m2\u001b[0m\n",
       "- Wednesday: Service \u001b[1;36m1\u001b[0m\n",
       "- Thursday: Service \u001b[1;36m2\u001b[0m\n",
       "- Friday: Service \u001b[1;36m1\u001b[0m\n",
       "- Saturday: Service \u001b[1;36m2\u001b[0m\n",
       "- Sunday: Off\n",
       "\n",
       "This schedule ensures that each engineer rotates between the two services and has a day off each week.\n"
      ]
     },
     "metadata": {},
     "output_type": "display_data"
    }
   ],
   "source": [
    "prompt = \"\"\"<task>Write an on-call schedule for 3 engineers across 2 services</task>\"\"\"\n",
    "print(invoke(prompt))"
   ]
  },
  {
   "cell_type": "markdown",
   "metadata": {},
   "source": [
    "# Constraints\n"
   ]
  },
  {
   "cell_type": "code",
   "execution_count": 30,
   "metadata": {},
   "outputs": [
    {
     "data": {
      "text/html": [
       "<pre style=\"white-space:pre;overflow-x:auto;line-height:normal;font-family:Menlo,'DejaVu Sans Mono',consolas,'Courier New',monospace\">On-Call Schedule:\n",
       "\n",
       "Engineer <span style=\"color: #008080; text-decoration-color: #008080; font-weight: bold\">1</span>:\n",
       "- Day <span style=\"color: #008080; text-decoration-color: #008080; font-weight: bold\">1</span>: Service <span style=\"color: #008080; text-decoration-color: #008080; font-weight: bold\">1</span> <span style=\"font-weight: bold\">(</span>8am - 4pm<span style=\"font-weight: bold\">)</span>\n",
       "- Day <span style=\"color: #008080; text-decoration-color: #008080; font-weight: bold\">2</span>: Rest <span style=\"font-weight: bold\">(</span>4pm - 8am<span style=\"font-weight: bold\">)</span>\n",
       "- Day <span style=\"color: #008080; text-decoration-color: #008080; font-weight: bold\">3</span>: Rest <span style=\"font-weight: bold\">(</span>8am - 8pm<span style=\"font-weight: bold\">)</span>\n",
       "\n",
       "Engineer <span style=\"color: #008080; text-decoration-color: #008080; font-weight: bold\">2</span>:\n",
       "- Day <span style=\"color: #008080; text-decoration-color: #008080; font-weight: bold\">1</span>: Service <span style=\"color: #008080; text-decoration-color: #008080; font-weight: bold\">2</span> <span style=\"font-weight: bold\">(</span>4pm - 12am<span style=\"font-weight: bold\">)</span>\n",
       "- Day <span style=\"color: #008080; text-decoration-color: #008080; font-weight: bold\">2</span>: Rest <span style=\"font-weight: bold\">(</span>12am - 8am<span style=\"font-weight: bold\">)</span>\n",
       "- Day <span style=\"color: #008080; text-decoration-color: #008080; font-weight: bold\">3</span>: Rest <span style=\"font-weight: bold\">(</span>8am - 8pm<span style=\"font-weight: bold\">)</span>\n",
       "\n",
       "Engineer <span style=\"color: #008080; text-decoration-color: #008080; font-weight: bold\">3</span>:\n",
       "- Day <span style=\"color: #008080; text-decoration-color: #008080; font-weight: bold\">1</span>: Service <span style=\"color: #008080; text-decoration-color: #008080; font-weight: bold\">1</span> <span style=\"font-weight: bold\">(</span>12am - 8am<span style=\"font-weight: bold\">)</span>\n",
       "- Day <span style=\"color: #008080; text-decoration-color: #008080; font-weight: bold\">2</span>: Rest <span style=\"font-weight: bold\">(</span>8am - 4pm<span style=\"font-weight: bold\">)</span>\n",
       "- Day <span style=\"color: #008080; text-decoration-color: #008080; font-weight: bold\">3</span>: Service <span style=\"color: #008080; text-decoration-color: #008080; font-weight: bold\">2</span> <span style=\"font-weight: bold\">(</span>8pm - 4am<span style=\"font-weight: bold\">)</span>\n",
       "</pre>\n"
      ],
      "text/plain": [
       "On-Call Schedule:\n",
       "\n",
       "Engineer \u001b[1;36m1\u001b[0m:\n",
       "- Day \u001b[1;36m1\u001b[0m: Service \u001b[1;36m1\u001b[0m \u001b[1m(\u001b[0m8am - 4pm\u001b[1m)\u001b[0m\n",
       "- Day \u001b[1;36m2\u001b[0m: Rest \u001b[1m(\u001b[0m4pm - 8am\u001b[1m)\u001b[0m\n",
       "- Day \u001b[1;36m3\u001b[0m: Rest \u001b[1m(\u001b[0m8am - 8pm\u001b[1m)\u001b[0m\n",
       "\n",
       "Engineer \u001b[1;36m2\u001b[0m:\n",
       "- Day \u001b[1;36m1\u001b[0m: Service \u001b[1;36m2\u001b[0m \u001b[1m(\u001b[0m4pm - 12am\u001b[1m)\u001b[0m\n",
       "- Day \u001b[1;36m2\u001b[0m: Rest \u001b[1m(\u001b[0m12am - 8am\u001b[1m)\u001b[0m\n",
       "- Day \u001b[1;36m3\u001b[0m: Rest \u001b[1m(\u001b[0m8am - 8pm\u001b[1m)\u001b[0m\n",
       "\n",
       "Engineer \u001b[1;36m3\u001b[0m:\n",
       "- Day \u001b[1;36m1\u001b[0m: Service \u001b[1;36m1\u001b[0m \u001b[1m(\u001b[0m12am - 8am\u001b[1m)\u001b[0m\n",
       "- Day \u001b[1;36m2\u001b[0m: Rest \u001b[1m(\u001b[0m8am - 4pm\u001b[1m)\u001b[0m\n",
       "- Day \u001b[1;36m3\u001b[0m: Service \u001b[1;36m2\u001b[0m \u001b[1m(\u001b[0m8pm - 4am\u001b[1m)\u001b[0m\n"
      ]
     },
     "metadata": {},
     "output_type": "display_data"
    }
   ],
   "source": [
    "prompt = \"\"\"<task>Write an on-call schedule for 3 engineers across 2 services</task>\n",
    "                <constraints>\n",
    "                1. Each engineer must only support 1 service per shift\n",
    "                2. No engineer can be on-call more than 8 hours per day\n",
    "                3. There must always be 1 engineer per service at any time\n",
    "                4. Engineers must have at least 12 hours of rest between shifts\n",
    "                </constraints>\"\"\"\n",
    "print(invoke(prompt))\n"
   ]
  }
 ],
 "metadata": {
  "kernelspec": {
   "display_name": ".venv",
   "language": "python",
   "name": "python3"
  },
  "language_info": {
   "codemirror_mode": {
    "name": "ipython",
    "version": 3
   },
   "file_extension": ".py",
   "mimetype": "text/x-python",
   "name": "python",
   "nbconvert_exporter": "python",
   "pygments_lexer": "ipython3",
   "version": "3.13.5"
  }
 },
 "nbformat": 4,
 "nbformat_minor": 2
}
