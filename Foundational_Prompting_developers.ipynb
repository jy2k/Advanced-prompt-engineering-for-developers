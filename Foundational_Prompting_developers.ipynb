{
 "cells": [
  {
   "cell_type": "code",
   "metadata": {
    "ExecuteTime": {
     "end_time": "2025-07-10T06:16:19.352757Z",
     "start_time": "2025-07-10T06:16:03.906863Z"
    }
   },
   "source": "%pip install -r requirements.txt",
   "outputs": [
    {
     "name": "stdout",
     "output_type": "stream",
     "text": [
      "Collecting openai (from -r requirements.txt (line 1))\r\n",
      "  Using cached openai-1.93.3-py3-none-any.whl.metadata (29 kB)\r\n",
      "Collecting rich (from -r requirements.txt (line 2))\r\n",
      "  Using cached rich-14.0.0-py3-none-any.whl.metadata (18 kB)\r\n",
      "Collecting dotenv (from -r requirements.txt (line 3))\r\n",
      "  Using cached dotenv-0.9.9-py2.py3-none-any.whl.metadata (279 bytes)\r\n",
      "Collecting langchain (from -r requirements.txt (line 4))\r\n",
      "  Using cached langchain-0.3.26-py3-none-any.whl.metadata (7.8 kB)\r\n",
      "Collecting langchain_community (from -r requirements.txt (line 5))\r\n",
      "  Using cached langchain_community-0.3.27-py3-none-any.whl.metadata (2.9 kB)\r\n",
      "Collecting langchain_core (from -r requirements.txt (line 6))\r\n",
      "  Using cached langchain_core-0.3.68-py3-none-any.whl.metadata (5.8 kB)\r\n",
      "Collecting langchain_openai (from -r requirements.txt (line 7))\r\n",
      "  Using cached langchain_openai-0.3.27-py3-none-any.whl.metadata (2.3 kB)\r\n",
      "Collecting anthropic (from -r requirements.txt (line 8))\r\n",
      "  Using cached anthropic-0.57.1-py3-none-any.whl.metadata (27 kB)\r\n",
      "Requirement already satisfied: anyio<5,>=3.5.0 in /Library/Frameworks/Python.framework/Versions/3.11/lib/python3.11/site-packages (from openai->-r requirements.txt (line 1)) (4.9.0)\r\n",
      "Collecting distro<2,>=1.7.0 (from openai->-r requirements.txt (line 1))\r\n",
      "  Using cached distro-1.9.0-py3-none-any.whl.metadata (6.8 kB)\r\n",
      "Requirement already satisfied: httpx<1,>=0.23.0 in /Library/Frameworks/Python.framework/Versions/3.11/lib/python3.11/site-packages (from openai->-r requirements.txt (line 1)) (0.28.1)\r\n",
      "Collecting jiter<1,>=0.4.0 (from openai->-r requirements.txt (line 1))\r\n",
      "  Downloading jiter-0.10.0-cp311-cp311-macosx_11_0_arm64.whl.metadata (5.2 kB)\r\n",
      "Collecting pydantic<3,>=1.9.0 (from openai->-r requirements.txt (line 1))\r\n",
      "  Using cached pydantic-2.11.7-py3-none-any.whl.metadata (67 kB)\r\n",
      "Requirement already satisfied: sniffio in /Library/Frameworks/Python.framework/Versions/3.11/lib/python3.11/site-packages (from openai->-r requirements.txt (line 1)) (1.3.1)\r\n",
      "Collecting tqdm>4 (from openai->-r requirements.txt (line 1))\r\n",
      "  Using cached tqdm-4.67.1-py3-none-any.whl.metadata (57 kB)\r\n",
      "Requirement already satisfied: typing-extensions<5,>=4.11 in /Library/Frameworks/Python.framework/Versions/3.11/lib/python3.11/site-packages (from openai->-r requirements.txt (line 1)) (4.14.1)\r\n",
      "Collecting markdown-it-py>=2.2.0 (from rich->-r requirements.txt (line 2))\r\n",
      "  Using cached markdown_it_py-3.0.0-py3-none-any.whl.metadata (6.9 kB)\r\n",
      "Requirement already satisfied: pygments<3.0.0,>=2.13.0 in /Library/Frameworks/Python.framework/Versions/3.11/lib/python3.11/site-packages (from rich->-r requirements.txt (line 2)) (2.19.2)\r\n",
      "Collecting python-dotenv (from dotenv->-r requirements.txt (line 3))\r\n",
      "  Using cached python_dotenv-1.1.1-py3-none-any.whl.metadata (24 kB)\r\n",
      "Collecting langchain-text-splitters<1.0.0,>=0.3.8 (from langchain->-r requirements.txt (line 4))\r\n",
      "  Using cached langchain_text_splitters-0.3.8-py3-none-any.whl.metadata (1.9 kB)\r\n",
      "Collecting langsmith>=0.1.17 (from langchain->-r requirements.txt (line 4))\r\n",
      "  Using cached langsmith-0.4.4-py3-none-any.whl.metadata (15 kB)\r\n",
      "Collecting SQLAlchemy<3,>=1.4 (from langchain->-r requirements.txt (line 4))\r\n",
      "  Using cached sqlalchemy-2.0.41-cp311-cp311-macosx_11_0_arm64.whl.metadata (9.6 kB)\r\n",
      "Requirement already satisfied: requests<3,>=2 in /Library/Frameworks/Python.framework/Versions/3.11/lib/python3.11/site-packages (from langchain->-r requirements.txt (line 4)) (2.32.4)\r\n",
      "Requirement already satisfied: PyYAML>=5.3 in /Library/Frameworks/Python.framework/Versions/3.11/lib/python3.11/site-packages (from langchain->-r requirements.txt (line 4)) (6.0.2)\r\n",
      "Collecting aiohttp<4.0.0,>=3.8.3 (from langchain_community->-r requirements.txt (line 5))\r\n",
      "  Downloading aiohttp-3.12.13-cp311-cp311-macosx_11_0_arm64.whl.metadata (7.6 kB)\r\n",
      "Collecting tenacity!=8.4.0,<10,>=8.1.0 (from langchain_community->-r requirements.txt (line 5))\r\n",
      "  Using cached tenacity-9.1.2-py3-none-any.whl.metadata (1.2 kB)\r\n",
      "Collecting dataclasses-json<0.7,>=0.5.7 (from langchain_community->-r requirements.txt (line 5))\r\n",
      "  Using cached dataclasses_json-0.6.7-py3-none-any.whl.metadata (25 kB)\r\n",
      "Collecting pydantic-settings<3.0.0,>=2.4.0 (from langchain_community->-r requirements.txt (line 5))\r\n",
      "  Using cached pydantic_settings-2.10.1-py3-none-any.whl.metadata (3.4 kB)\r\n",
      "Collecting httpx-sse<1.0.0,>=0.4.0 (from langchain_community->-r requirements.txt (line 5))\r\n",
      "  Using cached httpx_sse-0.4.1-py3-none-any.whl.metadata (9.4 kB)\r\n",
      "Collecting numpy>=1.26.2 (from langchain_community->-r requirements.txt (line 5))\r\n",
      "  Downloading numpy-2.3.1-cp311-cp311-macosx_11_0_arm64.whl.metadata (62 kB)\r\n",
      "\u001B[2K     \u001B[90m━━━━━━━━━━━━━━━━━━━━━━━━━━━━━━━━━━━━━━━\u001B[0m \u001B[32m62.1/62.1 kB\u001B[0m \u001B[31m961.8 kB/s\u001B[0m eta \u001B[36m0:00:00\u001B[0m \u001B[36m0:00:01\u001B[0m\r\n",
      "\u001B[?25hCollecting jsonpatch<2.0,>=1.33 (from langchain_core->-r requirements.txt (line 6))\r\n",
      "  Using cached jsonpatch-1.33-py2.py3-none-any.whl.metadata (3.0 kB)\r\n",
      "Collecting packaging<25,>=23.2 (from langchain_core->-r requirements.txt (line 6))\r\n",
      "  Using cached packaging-24.2-py3-none-any.whl.metadata (3.2 kB)\r\n",
      "Collecting tiktoken<1,>=0.7 (from langchain_openai->-r requirements.txt (line 7))\r\n",
      "  Using cached tiktoken-0.9.0-cp311-cp311-macosx_11_0_arm64.whl.metadata (6.7 kB)\r\n",
      "Collecting aiohappyeyeballs>=2.5.0 (from aiohttp<4.0.0,>=3.8.3->langchain_community->-r requirements.txt (line 5))\r\n",
      "  Using cached aiohappyeyeballs-2.6.1-py3-none-any.whl.metadata (5.9 kB)\r\n",
      "Collecting aiosignal>=1.1.2 (from aiohttp<4.0.0,>=3.8.3->langchain_community->-r requirements.txt (line 5))\r\n",
      "  Using cached aiosignal-1.4.0-py3-none-any.whl.metadata (3.7 kB)\r\n",
      "Requirement already satisfied: attrs>=17.3.0 in /Library/Frameworks/Python.framework/Versions/3.11/lib/python3.11/site-packages (from aiohttp<4.0.0,>=3.8.3->langchain_community->-r requirements.txt (line 5)) (25.3.0)\r\n",
      "Collecting frozenlist>=1.1.1 (from aiohttp<4.0.0,>=3.8.3->langchain_community->-r requirements.txt (line 5))\r\n",
      "  Downloading frozenlist-1.7.0-cp311-cp311-macosx_11_0_arm64.whl.metadata (18 kB)\r\n",
      "Collecting multidict<7.0,>=4.5 (from aiohttp<4.0.0,>=3.8.3->langchain_community->-r requirements.txt (line 5))\r\n",
      "  Downloading multidict-6.6.3-cp311-cp311-macosx_11_0_arm64.whl.metadata (5.3 kB)\r\n",
      "Collecting propcache>=0.2.0 (from aiohttp<4.0.0,>=3.8.3->langchain_community->-r requirements.txt (line 5))\r\n",
      "  Downloading propcache-0.3.2-cp311-cp311-macosx_11_0_arm64.whl.metadata (12 kB)\r\n",
      "Collecting yarl<2.0,>=1.17.0 (from aiohttp<4.0.0,>=3.8.3->langchain_community->-r requirements.txt (line 5))\r\n",
      "  Downloading yarl-1.20.1-cp311-cp311-macosx_11_0_arm64.whl.metadata (73 kB)\r\n",
      "\u001B[2K     \u001B[90m━━━━━━━━━━━━━━━━━━━━━━━━━━━━━━━━━━━━━━━━\u001B[0m \u001B[32m73.9/73.9 kB\u001B[0m \u001B[31m2.8 MB/s\u001B[0m eta \u001B[36m0:00:00\u001B[0m\r\n",
      "\u001B[?25hRequirement already satisfied: idna>=2.8 in /Library/Frameworks/Python.framework/Versions/3.11/lib/python3.11/site-packages (from anyio<5,>=3.5.0->openai->-r requirements.txt (line 1)) (3.10)\r\n",
      "Collecting marshmallow<4.0.0,>=3.18.0 (from dataclasses-json<0.7,>=0.5.7->langchain_community->-r requirements.txt (line 5))\r\n",
      "  Using cached marshmallow-3.26.1-py3-none-any.whl.metadata (7.3 kB)\r\n",
      "Collecting typing-inspect<1,>=0.4.0 (from dataclasses-json<0.7,>=0.5.7->langchain_community->-r requirements.txt (line 5))\r\n",
      "  Using cached typing_inspect-0.9.0-py3-none-any.whl.metadata (1.5 kB)\r\n",
      "Requirement already satisfied: certifi in /Library/Frameworks/Python.framework/Versions/3.11/lib/python3.11/site-packages (from httpx<1,>=0.23.0->openai->-r requirements.txt (line 1)) (2025.7.9)\r\n",
      "Requirement already satisfied: httpcore==1.* in /Library/Frameworks/Python.framework/Versions/3.11/lib/python3.11/site-packages (from httpx<1,>=0.23.0->openai->-r requirements.txt (line 1)) (1.0.9)\r\n",
      "Requirement already satisfied: h11>=0.16 in /Library/Frameworks/Python.framework/Versions/3.11/lib/python3.11/site-packages (from httpcore==1.*->httpx<1,>=0.23.0->openai->-r requirements.txt (line 1)) (0.16.0)\r\n",
      "Requirement already satisfied: jsonpointer>=1.9 in /Library/Frameworks/Python.framework/Versions/3.11/lib/python3.11/site-packages (from jsonpatch<2.0,>=1.33->langchain_core->-r requirements.txt (line 6)) (3.0.0)\r\n",
      "Collecting orjson<4.0.0,>=3.9.14 (from langsmith>=0.1.17->langchain->-r requirements.txt (line 4))\r\n",
      "  Using cached orjson-3.10.18-cp311-cp311-macosx_10_15_x86_64.macosx_11_0_arm64.macosx_10_15_universal2.whl.metadata (41 kB)\r\n",
      "Collecting requests-toolbelt<2.0.0,>=1.0.0 (from langsmith>=0.1.17->langchain->-r requirements.txt (line 4))\r\n",
      "  Using cached requests_toolbelt-1.0.0-py2.py3-none-any.whl.metadata (14 kB)\r\n",
      "Collecting zstandard<0.24.0,>=0.23.0 (from langsmith>=0.1.17->langchain->-r requirements.txt (line 4))\r\n",
      "  Using cached zstandard-0.23.0-cp311-cp311-macosx_11_0_arm64.whl.metadata (3.0 kB)\r\n",
      "Collecting mdurl~=0.1 (from markdown-it-py>=2.2.0->rich->-r requirements.txt (line 2))\r\n",
      "  Using cached mdurl-0.1.2-py3-none-any.whl.metadata (1.6 kB)\r\n",
      "Collecting annotated-types>=0.6.0 (from pydantic<3,>=1.9.0->openai->-r requirements.txt (line 1))\r\n",
      "  Using cached annotated_types-0.7.0-py3-none-any.whl.metadata (15 kB)\r\n",
      "Collecting pydantic-core==2.33.2 (from pydantic<3,>=1.9.0->openai->-r requirements.txt (line 1))\r\n",
      "  Using cached pydantic_core-2.33.2-cp311-cp311-macosx_11_0_arm64.whl.metadata (6.8 kB)\r\n",
      "Collecting typing-inspection>=0.4.0 (from pydantic<3,>=1.9.0->openai->-r requirements.txt (line 1))\r\n",
      "  Using cached typing_inspection-0.4.1-py3-none-any.whl.metadata (2.6 kB)\r\n",
      "Requirement already satisfied: charset_normalizer<4,>=2 in /Library/Frameworks/Python.framework/Versions/3.11/lib/python3.11/site-packages (from requests<3,>=2->langchain->-r requirements.txt (line 4)) (3.4.2)\r\n",
      "Requirement already satisfied: urllib3<3,>=1.21.1 in /Library/Frameworks/Python.framework/Versions/3.11/lib/python3.11/site-packages (from requests<3,>=2->langchain->-r requirements.txt (line 4)) (2.5.0)\r\n",
      "Collecting regex>=2022.1.18 (from tiktoken<1,>=0.7->langchain_openai->-r requirements.txt (line 7))\r\n",
      "  Using cached regex-2024.11.6-cp311-cp311-macosx_11_0_arm64.whl.metadata (40 kB)\r\n",
      "Collecting mypy-extensions>=0.3.0 (from typing-inspect<1,>=0.4.0->dataclasses-json<0.7,>=0.5.7->langchain_community->-r requirements.txt (line 5))\r\n",
      "  Using cached mypy_extensions-1.1.0-py3-none-any.whl.metadata (1.1 kB)\r\n",
      "Using cached openai-1.93.3-py3-none-any.whl (755 kB)\r\n",
      "Using cached rich-14.0.0-py3-none-any.whl (243 kB)\r\n",
      "Using cached dotenv-0.9.9-py2.py3-none-any.whl (1.9 kB)\r\n",
      "Using cached langchain-0.3.26-py3-none-any.whl (1.0 MB)\r\n",
      "Using cached langchain_community-0.3.27-py3-none-any.whl (2.5 MB)\r\n",
      "Using cached langchain_core-0.3.68-py3-none-any.whl (441 kB)\r\n",
      "Using cached langchain_openai-0.3.27-py3-none-any.whl (70 kB)\r\n",
      "Using cached anthropic-0.57.1-py3-none-any.whl (292 kB)\r\n",
      "Downloading aiohttp-3.12.13-cp311-cp311-macosx_11_0_arm64.whl (469 kB)\r\n",
      "\u001B[2K   \u001B[90m━━━━━━━━━━━━━━━━━━━━━━━━━━━━━━━━━━━━━━━━\u001B[0m \u001B[32m469.9/469.9 kB\u001B[0m \u001B[31m4.7 MB/s\u001B[0m eta \u001B[36m0:00:00\u001B[0ma \u001B[36m0:00:01\u001B[0m\r\n",
      "\u001B[?25hUsing cached dataclasses_json-0.6.7-py3-none-any.whl (28 kB)\r\n",
      "Using cached distro-1.9.0-py3-none-any.whl (20 kB)\r\n",
      "Using cached httpx_sse-0.4.1-py3-none-any.whl (8.1 kB)\r\n",
      "Downloading jiter-0.10.0-cp311-cp311-macosx_11_0_arm64.whl (321 kB)\r\n",
      "\u001B[2K   \u001B[90m━━━━━━━━━━━━━━━━━━━━━━━━━━━━━━━━━━━━━━━━\u001B[0m \u001B[32m322.0/322.0 kB\u001B[0m \u001B[31m10.8 MB/s\u001B[0m eta \u001B[36m0:00:00\u001B[0m\r\n",
      "\u001B[?25hUsing cached jsonpatch-1.33-py2.py3-none-any.whl (12 kB)\r\n",
      "Using cached langchain_text_splitters-0.3.8-py3-none-any.whl (32 kB)\r\n",
      "Using cached langsmith-0.4.4-py3-none-any.whl (367 kB)\r\n",
      "Using cached markdown_it_py-3.0.0-py3-none-any.whl (87 kB)\r\n",
      "Downloading numpy-2.3.1-cp311-cp311-macosx_11_0_arm64.whl (14.4 MB)\r\n",
      "\u001B[2K   \u001B[90m━━━━━━━━━━━━━━━━━━━━━━━━━━━━━━━━━━━━━━━━\u001B[0m \u001B[32m14.4/14.4 MB\u001B[0m \u001B[31m15.1 MB/s\u001B[0m eta \u001B[36m0:00:00\u001B[0m00:01\u001B[0m00:01\u001B[0m\r\n",
      "\u001B[?25hUsing cached packaging-24.2-py3-none-any.whl (65 kB)\r\n",
      "Using cached pydantic-2.11.7-py3-none-any.whl (444 kB)\r\n",
      "Using cached pydantic_core-2.33.2-cp311-cp311-macosx_11_0_arm64.whl (1.9 MB)\r\n",
      "Using cached pydantic_settings-2.10.1-py3-none-any.whl (45 kB)\r\n",
      "Using cached python_dotenv-1.1.1-py3-none-any.whl (20 kB)\r\n",
      "Using cached sqlalchemy-2.0.41-cp311-cp311-macosx_11_0_arm64.whl (2.1 MB)\r\n",
      "Using cached tenacity-9.1.2-py3-none-any.whl (28 kB)\r\n",
      "Using cached tiktoken-0.9.0-cp311-cp311-macosx_11_0_arm64.whl (1.0 MB)\r\n",
      "Using cached tqdm-4.67.1-py3-none-any.whl (78 kB)\r\n",
      "Using cached aiohappyeyeballs-2.6.1-py3-none-any.whl (15 kB)\r\n",
      "Using cached aiosignal-1.4.0-py3-none-any.whl (7.5 kB)\r\n",
      "Using cached annotated_types-0.7.0-py3-none-any.whl (13 kB)\r\n",
      "Downloading frozenlist-1.7.0-cp311-cp311-macosx_11_0_arm64.whl (47 kB)\r\n",
      "\u001B[2K   \u001B[90m━━━━━━━━━━━━━━━━━━━━━━━━━━━━━━━━━━━━━━━━\u001B[0m \u001B[32m47.1/47.1 kB\u001B[0m \u001B[31m4.0 MB/s\u001B[0m eta \u001B[36m0:00:00\u001B[0m\r\n",
      "\u001B[?25hUsing cached marshmallow-3.26.1-py3-none-any.whl (50 kB)\r\n",
      "Using cached mdurl-0.1.2-py3-none-any.whl (10.0 kB)\r\n",
      "Downloading multidict-6.6.3-cp311-cp311-macosx_11_0_arm64.whl (44 kB)\r\n",
      "\u001B[2K   \u001B[90m━━━━━━━━━━━━━━━━━━━━━━━━━━━━━━━━━━━━━━━━\u001B[0m \u001B[32m44.3/44.3 kB\u001B[0m \u001B[31m5.2 MB/s\u001B[0m eta \u001B[36m0:00:00\u001B[0m\r\n",
      "\u001B[?25hUsing cached orjson-3.10.18-cp311-cp311-macosx_10_15_x86_64.macosx_11_0_arm64.macosx_10_15_universal2.whl (248 kB)\r\n",
      "Downloading propcache-0.3.2-cp311-cp311-macosx_11_0_arm64.whl (43 kB)\r\n",
      "\u001B[2K   \u001B[90m━━━━━━━━━━━━━━━━━━━━━━━━━━━━━━━━━━━━━━━━\u001B[0m \u001B[32m43.5/43.5 kB\u001B[0m \u001B[31m3.9 MB/s\u001B[0m eta \u001B[36m0:00:00\u001B[0m\r\n",
      "\u001B[?25hUsing cached regex-2024.11.6-cp311-cp311-macosx_11_0_arm64.whl (284 kB)\r\n",
      "Using cached requests_toolbelt-1.0.0-py2.py3-none-any.whl (54 kB)\r\n",
      "Using cached typing_inspect-0.9.0-py3-none-any.whl (8.8 kB)\r\n",
      "Using cached typing_inspection-0.4.1-py3-none-any.whl (14 kB)\r\n",
      "Downloading yarl-1.20.1-cp311-cp311-macosx_11_0_arm64.whl (89 kB)\r\n",
      "\u001B[2K   \u001B[90m━━━━━━━━━━━━━━━━━━━━━━━━━━━━━━━━━━━━━━━━\u001B[0m \u001B[32m89.8/89.8 kB\u001B[0m \u001B[31m7.4 MB/s\u001B[0m eta \u001B[36m0:00:00\u001B[0m\r\n",
      "\u001B[?25hUsing cached zstandard-0.23.0-cp311-cp311-macosx_11_0_arm64.whl (633 kB)\r\n",
      "Using cached mypy_extensions-1.1.0-py3-none-any.whl (5.0 kB)\r\n",
      "Installing collected packages: zstandard, typing-inspection, tqdm, tenacity, SQLAlchemy, regex, python-dotenv, pydantic-core, propcache, packaging, orjson, numpy, mypy-extensions, multidict, mdurl, jsonpatch, jiter, httpx-sse, frozenlist, distro, annotated-types, aiohappyeyeballs, yarl, typing-inspect, tiktoken, requests-toolbelt, pydantic, marshmallow, markdown-it-py, dotenv, aiosignal, rich, pydantic-settings, openai, langsmith, dataclasses-json, anthropic, aiohttp, langchain_core, langchain-text-splitters, langchain_openai, langchain, langchain_community\r\n",
      "  Attempting uninstall: packaging\r\n",
      "    Found existing installation: packaging 25.0\r\n",
      "    Uninstalling packaging-25.0:\r\n",
      "      Successfully uninstalled packaging-25.0\r\n",
      "Successfully installed SQLAlchemy-2.0.41 aiohappyeyeballs-2.6.1 aiohttp-3.12.13 aiosignal-1.4.0 annotated-types-0.7.0 anthropic-0.57.1 dataclasses-json-0.6.7 distro-1.9.0 dotenv-0.9.9 frozenlist-1.7.0 httpx-sse-0.4.1 jiter-0.10.0 jsonpatch-1.33 langchain-0.3.26 langchain-text-splitters-0.3.8 langchain_community-0.3.27 langchain_core-0.3.68 langchain_openai-0.3.27 langsmith-0.4.4 markdown-it-py-3.0.0 marshmallow-3.26.1 mdurl-0.1.2 multidict-6.6.3 mypy-extensions-1.1.0 numpy-2.3.1 openai-1.93.3 orjson-3.10.18 packaging-24.2 propcache-0.3.2 pydantic-2.11.7 pydantic-core-2.33.2 pydantic-settings-2.10.1 python-dotenv-1.1.1 regex-2024.11.6 requests-toolbelt-1.0.0 rich-14.0.0 tenacity-9.1.2 tiktoken-0.9.0 tqdm-4.67.1 typing-inspect-0.9.0 typing-inspection-0.4.1 yarl-1.20.1 zstandard-0.23.0\r\n",
      "\r\n",
      "\u001B[1m[\u001B[0m\u001B[34;49mnotice\u001B[0m\u001B[1;39;49m]\u001B[0m\u001B[39;49m A new release of pip is available: \u001B[0m\u001B[31;49m24.0\u001B[0m\u001B[39;49m -> \u001B[0m\u001B[32;49m25.1.1\u001B[0m\r\n",
      "\u001B[1m[\u001B[0m\u001B[34;49mnotice\u001B[0m\u001B[1;39;49m]\u001B[0m\u001B[39;49m To update, run: \u001B[0m\u001B[32;49mpip3.11 install --upgrade pip\u001B[0m\r\n",
      "Note: you may need to restart the kernel to use updated packages.\n"
     ]
    }
   ],
   "execution_count": 2
  },
  {
   "cell_type": "code",
   "metadata": {
    "ExecuteTime": {
     "end_time": "2025-07-10T06:17:36.441201Z",
     "start_time": "2025-07-10T06:17:36.366268Z"
    }
   },
   "source": [
    "from openai import OpenAI\n",
    "from rich import print\n",
    "import os\n",
    "USING_DOTENV = True\n",
    "\n",
    "if(USING_DOTENV):\n",
    "    import dotenv\n",
    "    dotenv.load_dotenv()\n",
    "else:\n",
    "    print(\"hard coded\")\n",
    "    os.environ[\"OPENAI_API_KEY\"] = 'skh-asdfgsadgasdgasdga' # replace with your API key\n",
    "\n",
    "print(os.environ.get(\"OPENAI_API_KEY\")[:10])\n",
    "\n",
    "client = OpenAI()"
   ],
   "outputs": [
    {
     "data": {
      "text/plain": [
       "sk-proj-D-\n"
      ],
      "text/html": [
       "<pre style=\"white-space:pre;overflow-x:auto;line-height:normal;font-family:Menlo,'DejaVu Sans Mono',consolas,'Courier New',monospace\">sk-proj-D-\n",
       "</pre>\n"
      ]
     },
     "metadata": {},
     "output_type": "display_data"
    }
   ],
   "execution_count": 4
  },
  {
   "cell_type": "code",
   "metadata": {
    "ExecuteTime": {
     "end_time": "2025-07-10T06:17:38.435697Z",
     "start_time": "2025-07-10T06:17:38.431086Z"
    }
   },
   "source": [
    "def invoke(prompt):\n",
    "    response = client.chat.completions.create(\n",
    "        model=\"gpt-3.5-turbo\",\n",
    "        messages=[{\"role\": \"user\", \"content\": prompt}]\n",
    "    )\n",
    "    return response.choices[0].message.content"
   ],
   "outputs": [],
   "execution_count": 5
  },
  {
   "cell_type": "markdown",
   "metadata": {},
   "source": [
    "# Prompt Engineering"
   ]
  },
  {
   "cell_type": "markdown",
   "metadata": {},
   "source": [
    "\n",
    "<div style=\"text-align: left; margin-top: 40px; margin-bottom: 40px;\">\n",
    "\n",
    "<img src=\"https://drive.google.com/thumbnail?id=1u9SWgjdTQ68zvulpOF25gMAQ7Otwx53P\" alt=\"Description of Image\">\n",
    "</div>\n",
    "<span style=\"color:#eb323c\">\n",
    "\n",
    "\n",
    "- Notebook property of: LATENT Engineering Firm ltd.\n",
    "\n",
    "- Website: www.reachlatent.com\n",
    "\n",
    "- For similar talks / workshops reach out to: info@reachlatent.com\n",
    "</span>"
   ]
  },
  {
   "cell_type": "markdown",
   "metadata": {},
   "source": [
    "# LLMs are simply a \"Next Token Predictor\""
   ]
  },
  {
   "cell_type": "code",
   "metadata": {
    "ExecuteTime": {
     "end_time": "2025-07-10T06:17:42.813952Z",
     "start_time": "2025-07-10T06:17:41.938638Z"
    }
   },
   "source": [
    "invoke(\"one, two, \")"
   ],
   "outputs": [
    {
     "data": {
      "text/plain": [
       "'three'"
      ]
     },
     "execution_count": 6,
     "metadata": {},
     "output_type": "execute_result"
    }
   ],
   "execution_count": 6
  },
  {
   "cell_type": "code",
   "metadata": {
    "ExecuteTime": {
     "end_time": "2025-07-10T06:17:44.316507Z",
     "start_time": "2025-07-10T06:17:44.313444Z"
    }
   },
   "source": [
    "prompt_1 = 'current'\n",
    "prompt_2 = 'current sea'\n",
    "prompt_3 = 'current electric'\n",
    "prompt_4 = 'current times'"
   ],
   "outputs": [],
   "execution_count": 7
  },
  {
   "cell_type": "code",
   "execution_count": 10,
   "metadata": {},
   "outputs": [
    {
     "data": {
      "text/html": [
       "<pre style=\"white-space:pre;overflow-x:auto;line-height:normal;font-family:Menlo,'DejaVu Sans Mono',consolas,'Courier New',monospace\">Current refers to something that is happening now or at the present moment. It can also refer to something that is \n",
       "up to date or the most recent.\n",
       "</pre>\n"
      ],
      "text/plain": [
       "Current refers to something that is happening now or at the present moment. It can also refer to something that is \n",
       "up to date or the most recent.\n"
      ]
     },
     "metadata": {},
     "output_type": "display_data"
    },
    {
     "data": {
      "text/html": [
       "<pre style=\"white-space:pre;overflow-x:auto;line-height:normal;font-family:Menlo,'DejaVu Sans Mono',consolas,'Courier New',monospace\">The current sea conditions vary depending on the location and time of year. In general, the sea may be calm with \n",
       "gentle waves or rough with strong currents and high swells. It is important to check local weather and sea \n",
       "condition reports before venturing out onto the water to ensure a safe and enjoyable experience.\n",
       "</pre>\n"
      ],
      "text/plain": [
       "The current sea conditions vary depending on the location and time of year. In general, the sea may be calm with \n",
       "gentle waves or rough with strong currents and high swells. It is important to check local weather and sea \n",
       "condition reports before venturing out onto the water to ensure a safe and enjoyable experience.\n"
      ]
     },
     "metadata": {},
     "output_type": "display_data"
    },
    {
     "data": {
      "text/html": [
       "<pre style=\"white-space:pre;overflow-x:auto;line-height:normal;font-family:Menlo,'DejaVu Sans Mono',consolas,'Courier New',monospace\">Electricity is the flow of electric charge through a conductor, typically in the form of a current. The current \n",
       "electric refers to the amount of electric charge passing through a given point in a circuit per unit of time, \n",
       "typically measured in amperes <span style=\"font-weight: bold\">(</span>A<span style=\"font-weight: bold\">)</span>. The current electric is an essential parameter in electrical systems and is used\n",
       "to determine the power consumption, voltage drop, and overall performance of an electrical circuit.\n",
       "</pre>\n"
      ],
      "text/plain": [
       "Electricity is the flow of electric charge through a conductor, typically in the form of a current. The current \n",
       "electric refers to the amount of electric charge passing through a given point in a circuit per unit of time, \n",
       "typically measured in amperes \u001B[1m(\u001B[0mA\u001B[1m)\u001B[0m. The current electric is an essential parameter in electrical systems and is used\n",
       "to determine the power consumption, voltage drop, and overall performance of an electrical circuit.\n"
      ]
     },
     "metadata": {},
     "output_type": "display_data"
    },
    {
     "data": {
      "text/html": [
       "<pre style=\"white-space:pre;overflow-x:auto;line-height:normal;font-family:Menlo,'DejaVu Sans Mono',consolas,'Courier New',monospace\">Current times refer to the present era or period in history. It could also refer to the current period of life or \n",
       "events happening in the world at a specific moment.\n",
       "</pre>\n"
      ],
      "text/plain": [
       "Current times refer to the present era or period in history. It could also refer to the current period of life or \n",
       "events happening in the world at a specific moment.\n"
      ]
     },
     "metadata": {},
     "output_type": "display_data"
    }
   ],
   "source": [
    "print(invoke(prompt_1))\n",
    "print(invoke(prompt_2))\n",
    "print(invoke(prompt_3))\n",
    "print(invoke(prompt_4))"
   ]
  },
  {
   "cell_type": "code",
   "execution_count": 11,
   "metadata": {},
   "outputs": [],
   "source": [
    "complicated_murder_plot = \"The story takes place in the grand estate of a renowned business tycoon, Malcolm Hargrove. His sprawling mansion sits on the outskirts of a small, quiet town, far from prying eyes. It's the night of his annual charity gala, where the town's elite have gathered to celebrate the success of Hargrove Industries, a tech empire that dominates the market.As the evening unfolds, a series of strange occurrences begins to unfold. Guests whisper about Malcolm's deteriorating health; some say he's been acting strangely in the days leading up to the event, while others notice a certain tension in his interactions with a few of the attendees. The air is thick with the unspoken secrets of his past, but no one dares to voice them aloud.At midnight, a shrill scream echoes through the halls of the mansion. The guests rush to the source, finding Malcolm Hargrove’s lifeless body in his study, a single gunshot wound to his chest. The room is chaotic—papers scattered across his desk, a broken vase, and an open drawer suggest a struggle.The police are immediately called, but the guests are told to remain for questioning. Everyone is a suspect, but clues begin to emerge, each pointing to a different person, all subtly connected to Mr. Hargrove.Mrs. Hargrove, his wife, is found with a tear-streaked face, clutching a diamond bracelet. She claims she was in the garden when the murder occurred, but the bracelet was discovered on a table beside Malcolm’s body. She insists that she didn’t place it there, but the security footage shows her entering the study just minutes before the shot was heard.Detective Jenkins, a local investigator, was invited as a guest and initially takes control of the investigation. His presence seems odd to some, especially considering his long-standing feud with the Hargroves over a shady deal that once soured. He seems to know too much about the layout of the mansion and the timing of the crime, making some guests uneasy.Catherine Moore, Hargrove's former business partner, is visibly agitated, her fingers trembling when she’s asked where she was. She claims to have been in the ballroom, but witnesses report seeing her near the study moments before the gunshot rang out. Additionally, she and Malcolm had been seen arguing intensely just days before, their rivalry rooted in a bitter financial disagreement.Mr. Bradley, the charming but secretive tech consultant, appears calm and composed. He had been in the library throughout the evening, speaking with a few of the guests, but his demeanor is a stark contrast to the tense atmosphere in the house. His alibi is rock-solid, though his sharp eyes and analytical mind seem to always be observing everyone, picking up details others might miss.The detectives work tirelessly to piece together the puzzle. The murder weapon—a silver revolver—was found in the study, wiped clean of fingerprints. Oddly, it was registered to Mr. Bradley, a detail that throws suspicion on him. But, oddly enough, Mr. Bradley had only recently sold it to Malcolm Hargrove after a series of troubling encounters with it. No one can explain why it was so clean, and the fact that Bradley had been in the library does not seem to hold much weight.The breakthrough comes when an old ledger belonging to Malcolm is found in the study, showing irregular transactions—money funneled into a mysterious offshore account. The account is linked to a company run by Mr. Bradley’s long-lost cousin, a name not many knew but one that had been tied to shady dealings. Further inspection reveals that the transactions began after a heated conversation between Mr. Bradley and Malcolm over a failed project.A final, chilling clue is uncovered when a set of fingerprints—distinct and matching only Mr. Bradley's—is found on the broken vase. The vase had been shattered, its pieces scattered near the desk. The fingerprints on the shards suggest Mr. Bradley had been there long before the police arrived, though he denied ever touching the vase.All the clues lead back to Mr. Bradley—the bracelet, the gun, the fingerprints, the ledger, and the troubling financial connection. The police had already theorized that the murder was a result of a long-standing grudge over a failed business deal, but the evidence was too damning to ignore. \"\n",
    "complicated_murder_plot_missing_solution = \"The story takes place in the grand estate of a renowned business tycoon, Malcolm Hargrove. His sprawling mansion sits on the outskirts of a small, quiet town, far from prying eyes. It's the night of his annual charity gala, where the town's elite have gathered to celebrate the success of Hargrove Industries, a tech empire that dominates the market.As the evening unfolds, a series of strange occurrences begins to unfold. Guests whisper about Malcolm's deteriorating health; some say he's been acting strangely in the days leading up to the event, while others notice a certain tension in his interactions with a few of the attendees. The air is thick with the unspoken secrets of his past, but no one dares to voice them aloud.At midnight, a shrill scream echoes through the halls of the mansion. The guests rush to the source, finding Malcolm Hargrove’s lifeless body in his study, a single gunshot wound to his chest. The room is chaotic—papers scattered across his desk, a broken vase, and an open drawer suggest a struggle.The police are immediately called, but the guests are told to remain for questioning. Everyone is a suspect, but clues begin to emerge, each pointing to a different person, all subtly connected to Mr. Hargrove.Mrs. Hargrove, his wife, is found with a tear-streaked face, clutching a diamond bracelet. She claims she was in the garden when the murder occurred, but the bracelet was discovered on a table beside Malcolm’s body. She insists that she didn’t place it there, but the security footage shows her entering the study just minutes before the shot was heard.Detective Jenkins, a local investigator, was invited as a guest and initially takes control of the investigation. His presence seems odd to some, especially considering his long-standing feud with the Hargroves over a shady deal that once soured. He seems to know too much about the layout of the mansion and the timing of the crime, making some guests uneasy.Catherine Moore, Hargrove's former business partner, is visibly agitated, her fingers trembling when she’s asked where she was. She claims to have been in the ballroom, but witnesses report seeing her near the study moments before the gunshot rang out. Additionally, she and Malcolm had been seen arguing intensely just days before, their rivalry rooted in a bitter financial disagreement.Mr. Bradley, the charming but secretive tech consultant, appears calm and composed. He had been in the library throughout the evening, speaking with a few of the guests, but his demeanor is a stark contrast to the tense atmosphere in the house. His alibi is rock-solid, though his sharp eyes and analytical mind seem to always be observing everyone, picking up details others might miss.The detectives work tirelessly to piece together the puzzle. The murder weapon—a silver revolver—was found in the study, wiped clean of fingerprints. Oddly, it was registered to Mr. Bradley, a detail that throws suspicion on him. But, oddly enough, Mr. Bradley had only recently sold it to Malcolm Hargrove after a series of troubling encounters with it. No one can explain why it was so clean, and the fact that Bradley had been in the library does not seem to hold much weight.The breakthrough comes when an old ledger belonging to Malcolm is found in the study, showing irregular transactions—money funneled into a mysterious offshore account. The account is linked to a company run by Mr. Bradley’s long-lost cousin, a name not many knew but one that had been tied to shady dealings. Further inspection reveals that the transactions began after a heated conversation between Mr. Bradley and Malcolm over a failed project.A final, chilling clue is uncovered when a set of fingerprints—distinct and matching only Mr. Bradley's—is found on the broken vase. The vase had been shattered, its pieces scattered near the desk. The fingerprints on the shards suggest Mr. Bradley had been there long before the police arrived, though he denied ever touching the vase.All the clues lead back to Mr. Bradley—the bracelet, the gun, the fingerprints, the ledger, and the troubling financial connection. The police had already theorized that the murder was a result of a long-standing grudge over a failed business deal, but the evidence was too damning to ignore. State the murderer name only:  \""
   ]
  },
  {
   "cell_type": "code",
   "execution_count": 12,
   "metadata": {},
   "outputs": [
    {
     "data": {
      "text/html": [
       "<pre style=\"white-space:pre;overflow-x:auto;line-height:normal;font-family:Menlo,'DejaVu Sans Mono',consolas,'Courier New',monospace\">In a shocking turn of events, Mr. Bradley breaks down under the intense scrutiny, confessing to the murder. He \n",
       "reveals that he had discovered Malcolm's embezzlement scheme and had confronted him about it, leading to a violent \n",
       "confrontation in the study. In a fit of anger and betrayal, he had grabbed the gun and fired the fatal shot.\n",
       "\n",
       "As he is led away in handcuffs, the guests are left stunned by the revelation. The night had started off as a \n",
       "glamorous affair, but it had ended in tragedy and betrayal. The grand mansion now feels like a haunted house, \n",
       "filled with the lingering echoes of a man's dark secrets.\n",
       "\n",
       "As the police finish their investigation and the guests slowly disperse, the grand estate falls into silence once \n",
       "more. Malcolm Hargrove may have been a successful business tycoon, but in death, his true nature had been laid bare\n",
       "for all to see. And in the end, it was a combination of greed, betrayal, and revenge that had ultimately led to his\n",
       "downfall.\n",
       "</pre>\n"
      ],
      "text/plain": [
       "In a shocking turn of events, Mr. Bradley breaks down under the intense scrutiny, confessing to the murder. He \n",
       "reveals that he had discovered Malcolm's embezzlement scheme and had confronted him about it, leading to a violent \n",
       "confrontation in the study. In a fit of anger and betrayal, he had grabbed the gun and fired the fatal shot.\n",
       "\n",
       "As he is led away in handcuffs, the guests are left stunned by the revelation. The night had started off as a \n",
       "glamorous affair, but it had ended in tragedy and betrayal. The grand mansion now feels like a haunted house, \n",
       "filled with the lingering echoes of a man's dark secrets.\n",
       "\n",
       "As the police finish their investigation and the guests slowly disperse, the grand estate falls into silence once \n",
       "more. Malcolm Hargrove may have been a successful business tycoon, but in death, his true nature had been laid bare\n",
       "for all to see. And in the end, it was a combination of greed, betrayal, and revenge that had ultimately led to his\n",
       "downfall.\n"
      ]
     },
     "metadata": {},
     "output_type": "display_data"
    }
   ],
   "source": [
    "print(invoke(complicated_murder_plot))"
   ]
  },
  {
   "cell_type": "code",
   "execution_count": 13,
   "metadata": {},
   "outputs": [
    {
     "data": {
      "text/html": [
       "<pre style=\"white-space:pre;overflow-x:auto;line-height:normal;font-family:Menlo,'DejaVu Sans Mono',consolas,'Courier New',monospace\">Mr. Bradley\n",
       "</pre>\n"
      ],
      "text/plain": [
       "Mr. Bradley\n"
      ]
     },
     "metadata": {},
     "output_type": "display_data"
    }
   ],
   "source": [
    "print(invoke(complicated_murder_plot_missing_solution))"
   ]
  },
  {
   "cell_type": "markdown",
   "metadata": {},
   "source": [
    "# Basic structure\n"
   ]
  },
  {
   "cell_type": "markdown",
   "metadata": {},
   "source": [
    "<span style=\"color:orange\">\n",
    "\n",
    "RESPCT framework:\n",
    "- (R) Role: Better Semantic Relationships\n",
    "- (E) Example: Additional context\n",
    "- (S) Structure: Contorl input/output to structure\n",
    "- (P) Pipeline: Break the mega prompt\n",
    "- (C) Constraints: Limit the model\n",
    "- (T) Task: Instructing the model what you want it to do\n",
    "\n",
    "</span>"
   ]
  },
  {
   "cell_type": "markdown",
   "metadata": {},
   "source": [
    "# Role\n"
   ]
  },
  {
   "cell_type": "code",
   "execution_count": 14,
   "metadata": {},
   "outputs": [
    {
     "data": {
      "text/html": [
       "<pre style=\"white-space:pre;overflow-x:auto;line-height:normal;font-family:Menlo,'DejaVu Sans Mono',consolas,'Courier New',monospace\">Overall, I think the code changes in this pull request are a good start, but there are a few areas that could be \n",
       "improved:\n",
       "\n",
       "<span style=\"color: #008080; text-decoration-color: #008080; font-weight: bold\">1</span>. Naming conventions: It's important to follow consistent naming conventions to make the code more readable and \n",
       "maintainable. I noticed that some variable names are ambiguous or not descriptive enough. Please consider using \n",
       "more meaningful names that convey the purpose of the variable.\n",
       "\n",
       "<span style=\"color: #008080; text-decoration-color: #008080; font-weight: bold\">2</span>. Comments: While the code is generally clean and easy to follow, adding comments to explain complex logic or \n",
       "algorithms can be very helpful for other developers <span style=\"font-weight: bold\">(</span>and your future self<span style=\"font-weight: bold\">)</span> who will work on this code. Please \n",
       "consider adding comments for any particularly tricky sections.\n",
       "\n",
       "<span style=\"color: #008080; text-decoration-color: #008080; font-weight: bold\">3</span>. Error handling: I noticed that there are some missing error handling mechanisms in the code. It's important to \n",
       "anticipate potential errors and handle them gracefully, either by logging them, throwing exceptions, or displaying \n",
       "user-friendly error messages.\n",
       "\n",
       "<span style=\"color: #008080; text-decoration-color: #008080; font-weight: bold\">4</span>. Unit tests: It looks like there are no unit tests for the new code changes. Writing tests is crucial to ensure \n",
       "the stability and reliability of the codebase. Please add unit tests to cover the new functionality and ensure that\n",
       "future changes do not introduce regressions.\n",
       "\n",
       "<span style=\"color: #008080; text-decoration-color: #008080; font-weight: bold\">5</span>. Code duplication: I noticed that there are some repeated code snippets in the changes. It's a good practice to \n",
       "refactor duplicated code into reusable functions or classes to keep the code DRY <span style=\"font-weight: bold\">(</span>Don't Repeat Yourself<span style=\"font-weight: bold\">)</span> and easier\n",
       "to maintain.\n",
       "\n",
       "Overall, I appreciate the effort you put into this pull request. Please address the above suggestions and feel free\n",
       "to reach out if you have any questions or need further guidance. Keep up the good work!\n",
       "</pre>\n"
      ],
      "text/plain": [
       "Overall, I think the code changes in this pull request are a good start, but there are a few areas that could be \n",
       "improved:\n",
       "\n",
       "\u001B[1;36m1\u001B[0m. Naming conventions: It's important to follow consistent naming conventions to make the code more readable and \n",
       "maintainable. I noticed that some variable names are ambiguous or not descriptive enough. Please consider using \n",
       "more meaningful names that convey the purpose of the variable.\n",
       "\n",
       "\u001B[1;36m2\u001B[0m. Comments: While the code is generally clean and easy to follow, adding comments to explain complex logic or \n",
       "algorithms can be very helpful for other developers \u001B[1m(\u001B[0mand your future self\u001B[1m)\u001B[0m who will work on this code. Please \n",
       "consider adding comments for any particularly tricky sections.\n",
       "\n",
       "\u001B[1;36m3\u001B[0m. Error handling: I noticed that there are some missing error handling mechanisms in the code. It's important to \n",
       "anticipate potential errors and handle them gracefully, either by logging them, throwing exceptions, or displaying \n",
       "user-friendly error messages.\n",
       "\n",
       "\u001B[1;36m4\u001B[0m. Unit tests: It looks like there are no unit tests for the new code changes. Writing tests is crucial to ensure \n",
       "the stability and reliability of the codebase. Please add unit tests to cover the new functionality and ensure that\n",
       "future changes do not introduce regressions.\n",
       "\n",
       "\u001B[1;36m5\u001B[0m. Code duplication: I noticed that there are some repeated code snippets in the changes. It's a good practice to \n",
       "refactor duplicated code into reusable functions or classes to keep the code DRY \u001B[1m(\u001B[0mDon't Repeat Yourself\u001B[1m)\u001B[0m and easier\n",
       "to maintain.\n",
       "\n",
       "Overall, I appreciate the effort you put into this pull request. Please address the above suggestions and feel free\n",
       "to reach out if you have any questions or need further guidance. Keep up the good work!\n"
      ]
     },
     "metadata": {},
     "output_type": "display_data"
    }
   ],
   "source": [
    "role = 'tech lead evaluating junior developer code'\n",
    "\n",
    "print(invoke(f'You are a {role}, provide constructive feedback and suggestions on this pull request'))"
   ]
  },
  {
   "cell_type": "code",
   "execution_count": 15,
   "metadata": {},
   "outputs": [
    {
     "data": {
      "text/html": [
       "<pre style=\"white-space:pre;overflow-x:auto;line-height:normal;font-family:Menlo,'DejaVu Sans Mono',consolas,'Courier New',monospace\">As a hobo, I may not have much technical expertise, but I can still offer some feedback on this pull request. \n",
       "\n",
       "Firstly, I appreciate the effort put into making the changes and improvements outlined in the pull request. \n",
       "However, it would be helpful to have more detailed explanations of the changes made and the reasons behind them. \n",
       "This will make it easier for others to understand and review the code.\n",
       "\n",
       "Additionally, it's important to ensure that the code is well-documented and follows best practices. This will make \n",
       "it easier to maintain and contribute to in the future.\n",
       "\n",
       "Lastly, it's always a good idea to test the code thoroughly before submitting a pull request to catch any potential\n",
       "bugs or issues.\n",
       "\n",
       "Overall, keep up the good work and continue to collaborate with others to improve the project!\n",
       "</pre>\n"
      ],
      "text/plain": [
       "As a hobo, I may not have much technical expertise, but I can still offer some feedback on this pull request. \n",
       "\n",
       "Firstly, I appreciate the effort put into making the changes and improvements outlined in the pull request. \n",
       "However, it would be helpful to have more detailed explanations of the changes made and the reasons behind them. \n",
       "This will make it easier for others to understand and review the code.\n",
       "\n",
       "Additionally, it's important to ensure that the code is well-documented and follows best practices. This will make \n",
       "it easier to maintain and contribute to in the future.\n",
       "\n",
       "Lastly, it's always a good idea to test the code thoroughly before submitting a pull request to catch any potential\n",
       "bugs or issues.\n",
       "\n",
       "Overall, keep up the good work and continue to collaborate with others to improve the project!\n"
      ]
     },
     "metadata": {},
     "output_type": "display_data"
    }
   ],
   "source": [
    "role = 'hobo'\n",
    "\n",
    "print(invoke(f'You are a {role}, provide constructive feedback and suggestions on this pull request'))"
   ]
  },
  {
   "cell_type": "markdown",
   "metadata": {},
   "source": [
    "# Examples \n",
    "\n",
    "1. Teach the model patterns\n",
    "2. Add information for solving\n",
    "\n",
    "### Zero shot:"
   ]
  },
  {
   "cell_type": "code",
   "execution_count": 16,
   "metadata": {},
   "outputs": [
    {
     "data": {
      "text/html": [
       "<pre style=\"white-space:pre;overflow-x:auto;line-height:normal;font-family:Menlo,'DejaVu Sans Mono',consolas,'Courier New',monospace\">C\n",
       "</pre>\n"
      ],
      "text/plain": [
       "C\n"
      ]
     },
     "metadata": {},
     "output_type": "display_data"
    }
   ],
   "source": [
    "#Here:\n",
    "#A = Normal operation\n",
    "#B = System/application error\n",
    "#C = Performance/health alert\n",
    "#But the model is not told that — it must infer the logic based on patterns.\n",
    "\n",
    "prompt = \"\"\"<task>Your task is to classify log entries into A, B, or C.<task>\n",
    "        Log: 'Authentication failure for user admin'\n",
    "        Class: \"\"\"\n",
    "#Correct answer is B\n",
    "\n",
    "print(invoke(prompt))"
   ]
  },
  {
   "cell_type": "markdown",
   "metadata": {},
   "source": [
    "### Few Shot:\n"
   ]
  },
  {
   "cell_type": "code",
   "execution_count": 17,
   "metadata": {},
   "outputs": [
    {
     "data": {
      "text/html": [
       "<pre style=\"white-space:pre;overflow-x:auto;line-height:normal;font-family:Menlo,'DejaVu Sans Mono',consolas,'Courier New',monospace\">B\n",
       "</pre>\n"
      ],
      "text/plain": [
       "B\n"
      ]
     },
     "metadata": {},
     "output_type": "display_data"
    }
   ],
   "source": [
    "#Here:\n",
    "#A = Normal operation\n",
    "#B = System/application error\n",
    "#C = Performance/health alert\n",
    "#But the model is not told that — it must infer the logic based on patterns.\n",
    "\n",
    "prompt = \"\"\"<task>Your task is to classify log entries into A, B, or C.<task>\n",
    "        Log: 'CPU temperature high'\n",
    "        Class: C\n",
    "\n",
    "        Log: 'User logged in successfully'\n",
    "        Class: A\n",
    "\n",
    "        Log: 'Database connection failed'\n",
    "        Class: B\n",
    "\n",
    "        Log: 'Memory usage at 85%'\n",
    "        Class: C\n",
    "\n",
    "        Log: 'New user registered'\n",
    "        Class: A\n",
    "\n",
    "        Log: 'Disk I/O error on /dev/sda1'\n",
    "        Class: B\n",
    "\n",
    "        Log: 'Password changed successfully'\n",
    "        Class: A\n",
    "\n",
    "        Log: 'Timeout while waiting for response from service X'\n",
    "        Class: B\n",
    "\n",
    "        Log: 'RAM usage exceeds threshold'\n",
    "        Class: C\n",
    "\n",
    "        Log: 'Authentication failure for user admin'\n",
    "        Class: \"\"\"\n",
    "\n",
    "print(invoke(prompt))"
   ]
  },
  {
   "cell_type": "markdown",
   "metadata": {},
   "source": [
    "# Structure with \\<\\tags>\n",
    "\n",
    "1. Control output format\n",
    "2. Reference internals\n"
   ]
  },
  {
   "cell_type": "code",
   "execution_count": 18,
   "metadata": {},
   "outputs": [
    {
     "data": {
      "text/html": [
       "<pre style=\"white-space:pre;overflow-x:auto;line-height:normal;font-family:Menlo,'DejaVu Sans Mono',consolas,'Courier New',monospace\">Platform: Android <span style=\"color: #008080; text-decoration-color: #008080; font-weight: bold\">13</span>\n",
       "____\n",
       "Trigger: Switching from dark mode to light mode\n",
       "Impact: Settings screen stays dark, requiring app restart\n",
       "Workaround: Restarting the app to resolve the issue\n",
       "</pre>\n"
      ],
      "text/plain": [
       "Platform: Android \u001B[1;36m13\u001B[0m\n",
       "____\n",
       "Trigger: Switching from dark mode to light mode\n",
       "Impact: Settings screen stays dark, requiring app restart\n",
       "Workaround: Restarting the app to resolve the issue\n"
      ]
     },
     "metadata": {},
     "output_type": "display_data"
    }
   ],
   "source": [
    "input = \"\"\"\n",
    "            <bug_report>\n",
    "            When switching from dark mode to light mode, the settings screen sometimes stays dark. \n",
    "            This happens on Android 13 only and does not occur on iOS. Users must restart the app \n",
    "            to resolve it. Logs show an unhandled UI thread exception.\n",
    "            </bug_report>\n",
    "\n",
    "            Extract the <platform>, <trigger>, <impact>, and <workaround> from the <bug_report>.\n",
    "\n",
    "            In the answer use the following format:\n",
    "            Platform: <platform>\n",
    "            ____\n",
    "            Trigger: <trigger>\n",
    "            Impact: <impact>\n",
    "            Workaround: <workaround>\n",
    "            \"\"\"\n",
    "\n",
    "\n",
    "print(invoke(input))"
   ]
  },
  {
   "cell_type": "code",
   "execution_count": 19,
   "metadata": {},
   "outputs": [
    {
     "data": {
      "text/html": [
       "<pre style=\"white-space:pre;overflow-x:auto;line-height:normal;font-family:Menlo,'DejaVu Sans Mono',consolas,'Courier New',monospace\">Platform: Android <span style=\"color: #008080; text-decoration-color: #008080; font-weight: bold\">13</span>\n",
       "____\n",
       "Workaround: Users must restart the app to resolve the issue.\n",
       "</pre>\n"
      ],
      "text/plain": [
       "Platform: Android \u001B[1;36m13\u001B[0m\n",
       "____\n",
       "Workaround: Users must restart the app to resolve the issue.\n"
      ]
     },
     "metadata": {},
     "output_type": "display_data"
    }
   ],
   "source": [
    "input = \"\"\"\n",
    "            <bug_report>\n",
    "            When switching from dark mode to light mode, the settings screen sometimes stays dark. \n",
    "            This happens on Android 13 only and does not occur on iOS. Users must restart the app \n",
    "            to resolve it. Logs show an unhandled UI thread exception.\n",
    "            </bug_report>\n",
    "\n",
    "            Extract the <platform>, <trigger>, <impact>, and <workaround> from the <bug_report>.\n",
    "\n",
    "            In the answer use the following format:\n",
    "            Platform: <platform>\n",
    "            ____\n",
    "            Workaround: <workaround>\n",
    "            \"\"\"\n",
    "\n",
    "\n",
    "print(invoke(input))"
   ]
  },
  {
   "cell_type": "markdown",
   "metadata": {},
   "source": [
    "# Pipeline"
   ]
  },
  {
   "cell_type": "code",
   "execution_count": 20,
   "metadata": {},
   "outputs": [
    {
     "data": {
      "text/html": [
       "<pre style=\"white-space:pre;overflow-x:auto;line-height:normal;font-family:Menlo,'DejaVu Sans Mono',consolas,'Courier New',monospace\">Here is the data model for a user in Python using pydantic:\n",
       "\n",
       "```python\n",
       "from pydantic import BaseModel, EmailStr\n",
       "\n",
       "class <span style=\"color: #800080; text-decoration-color: #800080; font-weight: bold\">User</span><span style=\"font-weight: bold\">(</span>BaseModel<span style=\"font-weight: bold\">)</span>:\n",
       "    id: int\n",
       "    name: str\n",
       "    email: EmailStr\n",
       "    password: str\n",
       "```\n",
       "\n",
       "To add validation rules for email and password, you can modify the User class as follows:\n",
       "\n",
       "```python\n",
       "from pydantic import BaseModel, EmailStr, validator\n",
       "\n",
       "class <span style=\"color: #800080; text-decoration-color: #800080; font-weight: bold\">User</span><span style=\"font-weight: bold\">(</span>BaseModel<span style=\"font-weight: bold\">)</span>:\n",
       "    id: int\n",
       "    name: str\n",
       "    email: EmailStr\n",
       "    password: str\n",
       "\n",
       "    @<span style=\"color: #800080; text-decoration-color: #800080; font-weight: bold\">validator</span><span style=\"font-weight: bold\">(</span><span style=\"color: #008000; text-decoration-color: #008000\">'email'</span><span style=\"font-weight: bold\">)</span>\n",
       "    def <span style=\"color: #800080; text-decoration-color: #800080; font-weight: bold\">email_must_be_valid</span><span style=\"font-weight: bold\">(</span>cls, v<span style=\"font-weight: bold\">)</span>:\n",
       "        if not <span style=\"color: #800080; text-decoration-color: #800080; font-weight: bold\">v.endswith</span><span style=\"font-weight: bold\">(</span><span style=\"color: #008000; text-decoration-color: #008000\">'@example.com'</span><span style=\"font-weight: bold\">)</span>:\n",
       "            raise <span style=\"color: #800080; text-decoration-color: #800080; font-weight: bold\">ValueError</span><span style=\"font-weight: bold\">(</span><span style=\"color: #008000; text-decoration-color: #008000\">'Invalid email format. Must end with @example.com'</span><span style=\"font-weight: bold\">)</span>\n",
       "        return v\n",
       "\n",
       "    @<span style=\"color: #800080; text-decoration-color: #800080; font-weight: bold\">validator</span><span style=\"font-weight: bold\">(</span><span style=\"color: #008000; text-decoration-color: #008000\">'password'</span><span style=\"font-weight: bold\">)</span>\n",
       "    def <span style=\"color: #800080; text-decoration-color: #800080; font-weight: bold\">password_min_length</span><span style=\"font-weight: bold\">(</span>cls, v<span style=\"font-weight: bold\">)</span>:\n",
       "        if <span style=\"color: #800080; text-decoration-color: #800080; font-weight: bold\">len</span><span style=\"font-weight: bold\">(</span>v<span style=\"font-weight: bold\">)</span> &lt; <span style=\"color: #008080; text-decoration-color: #008080; font-weight: bold\">8</span>:\n",
       "            raise <span style=\"color: #800080; text-decoration-color: #800080; font-weight: bold\">ValueError</span><span style=\"font-weight: bold\">(</span><span style=\"color: #008000; text-decoration-color: #008000\">'Password must be at least 8 characters long'</span><span style=\"font-weight: bold\">)</span>\n",
       "        return v\n",
       "```\n",
       "\n",
       "Now, let's create a Flask endpoint that receives a JSON payload, validates it with the pydantic model, and returns \n",
       "the appropriate response:\n",
       "\n",
       "```python\n",
       "from flask import Flask, request, jsonify\n",
       "from pydantic import ValidationError\n",
       "\n",
       "app = <span style=\"color: #800080; text-decoration-color: #800080; font-weight: bold\">Flask</span><span style=\"font-weight: bold\">(</span>__name__<span style=\"font-weight: bold\">)</span>\n",
       "\n",
       "@<span style=\"color: #800080; text-decoration-color: #800080; font-weight: bold\">app.route</span><span style=\"font-weight: bold\">(</span><span style=\"color: #008000; text-decoration-color: #008000\">'/users'</span>, <span style=\"color: #808000; text-decoration-color: #808000\">methods</span>=<span style=\"font-weight: bold\">[</span><span style=\"color: #008000; text-decoration-color: #008000\">'POST'</span><span style=\"font-weight: bold\">])</span>\n",
       "def <span style=\"color: #800080; text-decoration-color: #800080; font-weight: bold\">create_user</span><span style=\"font-weight: bold\">()</span>:\n",
       "    try:\n",
       "        user_data = <span style=\"color: #800080; text-decoration-color: #800080; font-weight: bold\">request.get_json</span><span style=\"font-weight: bold\">()</span>\n",
       "        user = <span style=\"color: #800080; text-decoration-color: #800080; font-weight: bold\">User</span><span style=\"font-weight: bold\">(</span>**user_data<span style=\"font-weight: bold\">)</span>\n",
       "        # Check for duplicate emails here\n",
       "\n",
       "        # Save user to database\n",
       "\n",
       "        return <span style=\"color: #800080; text-decoration-color: #800080; font-weight: bold\">jsonify</span><span style=\"font-weight: bold\">({</span><span style=\"color: #008000; text-decoration-color: #008000\">'message'</span>: <span style=\"color: #008000; text-decoration-color: #008000\">'User created successfully'</span><span style=\"font-weight: bold\">})</span>, <span style=\"color: #008080; text-decoration-color: #008080; font-weight: bold\">201</span>\n",
       "    except ValidationError as e:\n",
       "        return <span style=\"color: #800080; text-decoration-color: #800080; font-weight: bold\">jsonify</span><span style=\"font-weight: bold\">({</span><span style=\"color: #008000; text-decoration-color: #008000\">'error'</span>: <span style=\"color: #800080; text-decoration-color: #800080; font-weight: bold\">str</span><span style=\"font-weight: bold\">(</span>e<span style=\"font-weight: bold\">)})</span>, <span style=\"color: #008080; text-decoration-color: #008080; font-weight: bold\">400</span>\n",
       "\n",
       "if __name__ == <span style=\"color: #008000; text-decoration-color: #008000\">'__main__'</span>:\n",
       "    <span style=\"color: #800080; text-decoration-color: #800080; font-weight: bold\">app.run</span><span style=\"font-weight: bold\">()</span>\n",
       "```\n",
       "\n",
       "To handle duplicate email errors, you can check if the email already exists in your database before creating a new \n",
       "user. If the email is already in use, return an appropriate error message:\n",
       "\n",
       "```python\n",
       "@<span style=\"color: #800080; text-decoration-color: #800080; font-weight: bold\">app.route</span><span style=\"font-weight: bold\">(</span><span style=\"color: #008000; text-decoration-color: #008000\">'/users'</span>, <span style=\"color: #808000; text-decoration-color: #808000\">methods</span>=<span style=\"font-weight: bold\">[</span><span style=\"color: #008000; text-decoration-color: #008000\">'POST'</span><span style=\"font-weight: bold\">])</span>\n",
       "def <span style=\"color: #800080; text-decoration-color: #800080; font-weight: bold\">create_user</span><span style=\"font-weight: bold\">()</span>:\n",
       "    try:\n",
       "        user_data = <span style=\"color: #800080; text-decoration-color: #800080; font-weight: bold\">request.get_json</span><span style=\"font-weight: bold\">()</span>\n",
       "        email = <span style=\"color: #800080; text-decoration-color: #800080; font-weight: bold\">user_data.get</span><span style=\"font-weight: bold\">(</span><span style=\"color: #008000; text-decoration-color: #008000\">'email'</span><span style=\"font-weight: bold\">)</span>\n",
       "        \n",
       "        # Check if email already exists in database\n",
       "        if <span style=\"color: #800080; text-decoration-color: #800080; font-weight: bold\">email_already_exists</span><span style=\"font-weight: bold\">(</span>email<span style=\"font-weight: bold\">)</span>:\n",
       "            return <span style=\"color: #800080; text-decoration-color: #800080; font-weight: bold\">jsonify</span><span style=\"font-weight: bold\">({</span><span style=\"color: #008000; text-decoration-color: #008000\">'error'</span>: <span style=\"color: #008000; text-decoration-color: #008000\">'Email already in use. Please use a different email.'</span><span style=\"font-weight: bold\">})</span>, <span style=\"color: #008080; text-decoration-color: #008080; font-weight: bold\">400</span>\n",
       "\n",
       "        user = <span style=\"color: #800080; text-decoration-color: #800080; font-weight: bold\">User</span><span style=\"font-weight: bold\">(</span>**user_data<span style=\"font-weight: bold\">)</span>\n",
       "        \n",
       "        # Save user to database\n",
       "\n",
       "        return <span style=\"color: #800080; text-decoration-color: #800080; font-weight: bold\">jsonify</span><span style=\"font-weight: bold\">({</span><span style=\"color: #008000; text-decoration-color: #008000\">'message'</span>: <span style=\"color: #008000; text-decoration-color: #008000\">'User created successfully'</span><span style=\"font-weight: bold\">})</span>, <span style=\"color: #008080; text-decoration-color: #008080; font-weight: bold\">201</span>\n",
       "    except ValidationError as e:\n",
       "        return <span style=\"color: #800080; text-decoration-color: #800080; font-weight: bold\">jsonify</span><span style=\"font-weight: bold\">({</span><span style=\"color: #008000; text-decoration-color: #008000\">'error'</span>: <span style=\"color: #800080; text-decoration-color: #800080; font-weight: bold\">str</span><span style=\"font-weight: bold\">(</span>e<span style=\"font-weight: bold\">)})</span>, <span style=\"color: #008080; text-decoration-color: #008080; font-weight: bold\">400</span>\n",
       "```\n",
       "\n",
       "This endpoint now handles validation errors, duplicate email errors, and returns the appropriate response messages.\n",
       "</pre>\n"
      ],
      "text/plain": [
       "Here is the data model for a user in Python using pydantic:\n",
       "\n",
       "```python\n",
       "from pydantic import BaseModel, EmailStr\n",
       "\n",
       "class \u001B[1;35mUser\u001B[0m\u001B[1m(\u001B[0mBaseModel\u001B[1m)\u001B[0m:\n",
       "    id: int\n",
       "    name: str\n",
       "    email: EmailStr\n",
       "    password: str\n",
       "```\n",
       "\n",
       "To add validation rules for email and password, you can modify the User class as follows:\n",
       "\n",
       "```python\n",
       "from pydantic import BaseModel, EmailStr, validator\n",
       "\n",
       "class \u001B[1;35mUser\u001B[0m\u001B[1m(\u001B[0mBaseModel\u001B[1m)\u001B[0m:\n",
       "    id: int\n",
       "    name: str\n",
       "    email: EmailStr\n",
       "    password: str\n",
       "\n",
       "    @\u001B[1;35mvalidator\u001B[0m\u001B[1m(\u001B[0m\u001B[32m'email'\u001B[0m\u001B[1m)\u001B[0m\n",
       "    def \u001B[1;35memail_must_be_valid\u001B[0m\u001B[1m(\u001B[0mcls, v\u001B[1m)\u001B[0m:\n",
       "        if not \u001B[1;35mv.endswith\u001B[0m\u001B[1m(\u001B[0m\u001B[32m'@example.com'\u001B[0m\u001B[1m)\u001B[0m:\n",
       "            raise \u001B[1;35mValueError\u001B[0m\u001B[1m(\u001B[0m\u001B[32m'Invalid email format. Must end with @example.com'\u001B[0m\u001B[1m)\u001B[0m\n",
       "        return v\n",
       "\n",
       "    @\u001B[1;35mvalidator\u001B[0m\u001B[1m(\u001B[0m\u001B[32m'password'\u001B[0m\u001B[1m)\u001B[0m\n",
       "    def \u001B[1;35mpassword_min_length\u001B[0m\u001B[1m(\u001B[0mcls, v\u001B[1m)\u001B[0m:\n",
       "        if \u001B[1;35mlen\u001B[0m\u001B[1m(\u001B[0mv\u001B[1m)\u001B[0m < \u001B[1;36m8\u001B[0m:\n",
       "            raise \u001B[1;35mValueError\u001B[0m\u001B[1m(\u001B[0m\u001B[32m'Password must be at least 8 characters long'\u001B[0m\u001B[1m)\u001B[0m\n",
       "        return v\n",
       "```\n",
       "\n",
       "Now, let's create a Flask endpoint that receives a JSON payload, validates it with the pydantic model, and returns \n",
       "the appropriate response:\n",
       "\n",
       "```python\n",
       "from flask import Flask, request, jsonify\n",
       "from pydantic import ValidationError\n",
       "\n",
       "app = \u001B[1;35mFlask\u001B[0m\u001B[1m(\u001B[0m__name__\u001B[1m)\u001B[0m\n",
       "\n",
       "@\u001B[1;35mapp.route\u001B[0m\u001B[1m(\u001B[0m\u001B[32m'/users'\u001B[0m, \u001B[33mmethods\u001B[0m=\u001B[1m[\u001B[0m\u001B[32m'POST'\u001B[0m\u001B[1m]\u001B[0m\u001B[1m)\u001B[0m\n",
       "def \u001B[1;35mcreate_user\u001B[0m\u001B[1m(\u001B[0m\u001B[1m)\u001B[0m:\n",
       "    try:\n",
       "        user_data = \u001B[1;35mrequest.get_json\u001B[0m\u001B[1m(\u001B[0m\u001B[1m)\u001B[0m\n",
       "        user = \u001B[1;35mUser\u001B[0m\u001B[1m(\u001B[0m**user_data\u001B[1m)\u001B[0m\n",
       "        # Check for duplicate emails here\n",
       "\n",
       "        # Save user to database\n",
       "\n",
       "        return \u001B[1;35mjsonify\u001B[0m\u001B[1m(\u001B[0m\u001B[1m{\u001B[0m\u001B[32m'message'\u001B[0m: \u001B[32m'User created successfully'\u001B[0m\u001B[1m}\u001B[0m\u001B[1m)\u001B[0m, \u001B[1;36m201\u001B[0m\n",
       "    except ValidationError as e:\n",
       "        return \u001B[1;35mjsonify\u001B[0m\u001B[1m(\u001B[0m\u001B[1m{\u001B[0m\u001B[32m'error'\u001B[0m: \u001B[1;35mstr\u001B[0m\u001B[1m(\u001B[0me\u001B[1m)\u001B[0m\u001B[1m}\u001B[0m\u001B[1m)\u001B[0m, \u001B[1;36m400\u001B[0m\n",
       "\n",
       "if __name__ == \u001B[32m'__main__'\u001B[0m:\n",
       "    \u001B[1;35mapp.run\u001B[0m\u001B[1m(\u001B[0m\u001B[1m)\u001B[0m\n",
       "```\n",
       "\n",
       "To handle duplicate email errors, you can check if the email already exists in your database before creating a new \n",
       "user. If the email is already in use, return an appropriate error message:\n",
       "\n",
       "```python\n",
       "@\u001B[1;35mapp.route\u001B[0m\u001B[1m(\u001B[0m\u001B[32m'/users'\u001B[0m, \u001B[33mmethods\u001B[0m=\u001B[1m[\u001B[0m\u001B[32m'POST'\u001B[0m\u001B[1m]\u001B[0m\u001B[1m)\u001B[0m\n",
       "def \u001B[1;35mcreate_user\u001B[0m\u001B[1m(\u001B[0m\u001B[1m)\u001B[0m:\n",
       "    try:\n",
       "        user_data = \u001B[1;35mrequest.get_json\u001B[0m\u001B[1m(\u001B[0m\u001B[1m)\u001B[0m\n",
       "        email = \u001B[1;35muser_data.get\u001B[0m\u001B[1m(\u001B[0m\u001B[32m'email'\u001B[0m\u001B[1m)\u001B[0m\n",
       "        \n",
       "        # Check if email already exists in database\n",
       "        if \u001B[1;35memail_already_exists\u001B[0m\u001B[1m(\u001B[0memail\u001B[1m)\u001B[0m:\n",
       "            return \u001B[1;35mjsonify\u001B[0m\u001B[1m(\u001B[0m\u001B[1m{\u001B[0m\u001B[32m'error'\u001B[0m: \u001B[32m'Email already in use. Please use a different email.'\u001B[0m\u001B[1m}\u001B[0m\u001B[1m)\u001B[0m, \u001B[1;36m400\u001B[0m\n",
       "\n",
       "        user = \u001B[1;35mUser\u001B[0m\u001B[1m(\u001B[0m**user_data\u001B[1m)\u001B[0m\n",
       "        \n",
       "        # Save user to database\n",
       "\n",
       "        return \u001B[1;35mjsonify\u001B[0m\u001B[1m(\u001B[0m\u001B[1m{\u001B[0m\u001B[32m'message'\u001B[0m: \u001B[32m'User created successfully'\u001B[0m\u001B[1m}\u001B[0m\u001B[1m)\u001B[0m, \u001B[1;36m201\u001B[0m\n",
       "    except ValidationError as e:\n",
       "        return \u001B[1;35mjsonify\u001B[0m\u001B[1m(\u001B[0m\u001B[1m{\u001B[0m\u001B[32m'error'\u001B[0m: \u001B[1;35mstr\u001B[0m\u001B[1m(\u001B[0me\u001B[1m)\u001B[0m\u001B[1m}\u001B[0m\u001B[1m)\u001B[0m, \u001B[1;36m400\u001B[0m\n",
       "```\n",
       "\n",
       "This endpoint now handles validation errors, duplicate email errors, and returns the appropriate response messages.\n"
      ]
     },
     "metadata": {},
     "output_type": "display_data"
    }
   ],
   "source": [
    "prompt = \"\"\"\n",
    "Define the data model for a user in Python using pydantic. Fields: id, name, email, password (hashed).\n",
    "Given the user model defined with pydantic, write validation rules to ensure email is valid and password is at least 8 characters.\n",
    "Using Flask, write a POST /users endpoint that receives a JSON payload, validates it with the pydantic model, and returns 201 on success or 400 on validation error.\n",
    "Improve the /users endpoint by handling duplicate email errors and returning appropriate messages.\n",
    "\"\"\"\n",
    "print(invoke(prompt))\n"
   ]
  },
  {
   "cell_type": "code",
   "execution_count": 21,
   "metadata": {},
   "outputs": [
    {
     "data": {
      "text/html": [
       "<pre style=\"white-space:pre;overflow-x:auto;line-height:normal;font-family:Menlo,'DejaVu Sans Mono',consolas,'Courier New',monospace\">```python\n",
       "from pydantic import BaseModel\n",
       "from pydantic import EmailStr\n",
       "\n",
       "class <span style=\"color: #800080; text-decoration-color: #800080; font-weight: bold\">User</span><span style=\"font-weight: bold\">(</span>BaseModel<span style=\"font-weight: bold\">)</span>:\n",
       "    id: int\n",
       "    name: str\n",
       "    email: EmailStr\n",
       "    password: str\n",
       "```\n",
       "</pre>\n"
      ],
      "text/plain": [
       "```python\n",
       "from pydantic import BaseModel\n",
       "from pydantic import EmailStr\n",
       "\n",
       "class \u001B[1;35mUser\u001B[0m\u001B[1m(\u001B[0mBaseModel\u001B[1m)\u001B[0m:\n",
       "    id: int\n",
       "    name: str\n",
       "    email: EmailStr\n",
       "    password: str\n",
       "```\n"
      ]
     },
     "metadata": {},
     "output_type": "display_data"
    },
    {
     "data": {
      "text/html": [
       "<pre style=\"white-space:pre;overflow-x:auto;line-height:normal;font-family:Menlo,'DejaVu Sans Mono',consolas,'Courier New',monospace\">Here is an example code snippet that defines a user model with validation rules for email and password using \n",
       "Pydantic:\n",
       "\n",
       "```python\n",
       "from pydantic import BaseModel, EmailStr, constr\n",
       "\n",
       "class <span style=\"color: #800080; text-decoration-color: #800080; font-weight: bold\">User</span><span style=\"font-weight: bold\">(</span>BaseModel<span style=\"font-weight: bold\">)</span>:\n",
       "    email: EmailStr\n",
       "    password: <span style=\"color: #800080; text-decoration-color: #800080; font-weight: bold\">constr</span><span style=\"font-weight: bold\">(</span><span style=\"color: #808000; text-decoration-color: #808000\">min_length</span>=<span style=\"color: #008080; text-decoration-color: #008080; font-weight: bold\">8</span><span style=\"font-weight: bold\">)</span>\n",
       "\n",
       "# Usage example\n",
       "user_data = <span style=\"font-weight: bold\">{</span>\n",
       "    <span style=\"color: #008000; text-decoration-color: #008000\">'email'</span>: <span style=\"color: #008000; text-decoration-color: #008000\">'test@example.com'</span>,\n",
       "    <span style=\"color: #008000; text-decoration-color: #008000\">'password'</span>: <span style=\"color: #008000; text-decoration-color: #008000\">'password123'</span>\n",
       "<span style=\"font-weight: bold\">}</span>\n",
       "\n",
       "user = <span style=\"color: #800080; text-decoration-color: #800080; font-weight: bold\">User</span><span style=\"font-weight: bold\">(</span>**user_data<span style=\"font-weight: bold\">)</span>\n",
       "<span style=\"color: #800080; text-decoration-color: #800080; font-weight: bold\">print</span><span style=\"font-weight: bold\">(</span>user<span style=\"font-weight: bold\">)</span>\n",
       "```\n",
       "\n",
       "In this code snippet, the `User` model is defined with two fields: `email` with type `EmailStr` which ensures the \n",
       "email is in a valid format, and `password` with type `constr` and `<span style=\"color: #808000; text-decoration-color: #808000\">min_length</span>=<span style=\"color: #008080; text-decoration-color: #008080; font-weight: bold\">8</span>` which ensures that the password is\n",
       "at least <span style=\"color: #008080; text-decoration-color: #008080; font-weight: bold\">8</span> characters long. When instantiating the `User` model with the provided data, Pydantic will automatically\n",
       "validate the input data against these rules.\n",
       "</pre>\n"
      ],
      "text/plain": [
       "Here is an example code snippet that defines a user model with validation rules for email and password using \n",
       "Pydantic:\n",
       "\n",
       "```python\n",
       "from pydantic import BaseModel, EmailStr, constr\n",
       "\n",
       "class \u001B[1;35mUser\u001B[0m\u001B[1m(\u001B[0mBaseModel\u001B[1m)\u001B[0m:\n",
       "    email: EmailStr\n",
       "    password: \u001B[1;35mconstr\u001B[0m\u001B[1m(\u001B[0m\u001B[33mmin_length\u001B[0m=\u001B[1;36m8\u001B[0m\u001B[1m)\u001B[0m\n",
       "\n",
       "# Usage example\n",
       "user_data = \u001B[1m{\u001B[0m\n",
       "    \u001B[32m'email'\u001B[0m: \u001B[32m'test@example.com'\u001B[0m,\n",
       "    \u001B[32m'password'\u001B[0m: \u001B[32m'password123'\u001B[0m\n",
       "\u001B[1m}\u001B[0m\n",
       "\n",
       "user = \u001B[1;35mUser\u001B[0m\u001B[1m(\u001B[0m**user_data\u001B[1m)\u001B[0m\n",
       "\u001B[1;35mprint\u001B[0m\u001B[1m(\u001B[0muser\u001B[1m)\u001B[0m\n",
       "```\n",
       "\n",
       "In this code snippet, the `User` model is defined with two fields: `email` with type `EmailStr` which ensures the \n",
       "email is in a valid format, and `password` with type `constr` and `\u001B[33mmin_length\u001B[0m=\u001B[1;36m8\u001B[0m` which ensures that the password is\n",
       "at least \u001B[1;36m8\u001B[0m characters long. When instantiating the `User` model with the provided data, Pydantic will automatically\n",
       "validate the input data against these rules.\n"
      ]
     },
     "metadata": {},
     "output_type": "display_data"
    },
    {
     "data": {
      "text/html": [
       "<pre style=\"white-space:pre;overflow-x:auto;line-height:normal;font-family:Menlo,'DejaVu Sans Mono',consolas,'Courier New',monospace\">Here's an example implementation using Flask and pydantic:\n",
       "\n",
       "```python\n",
       "from flask import Flask, request, jsonify\n",
       "from pydantic import BaseModel, ValidationError\n",
       "\n",
       "app = <span style=\"color: #800080; text-decoration-color: #800080; font-weight: bold\">Flask</span><span style=\"font-weight: bold\">(</span>__name__<span style=\"font-weight: bold\">)</span>\n",
       "\n",
       "# Define pydantic user model\n",
       "class <span style=\"color: #800080; text-decoration-color: #800080; font-weight: bold\">User</span><span style=\"font-weight: bold\">(</span>BaseModel<span style=\"font-weight: bold\">)</span>:\n",
       "    name: str\n",
       "    email: str\n",
       "\n",
       "# POST <span style=\"color: #800080; text-decoration-color: #800080\">/</span><span style=\"color: #ff00ff; text-decoration-color: #ff00ff\">users</span> endpoint\n",
       "@<span style=\"color: #800080; text-decoration-color: #800080; font-weight: bold\">app.route</span><span style=\"font-weight: bold\">(</span><span style=\"color: #008000; text-decoration-color: #008000\">'/users'</span>, <span style=\"color: #808000; text-decoration-color: #808000\">methods</span>=<span style=\"font-weight: bold\">[</span><span style=\"color: #008000; text-decoration-color: #008000\">'POST'</span><span style=\"font-weight: bold\">])</span>\n",
       "def <span style=\"color: #800080; text-decoration-color: #800080; font-weight: bold\">create_user</span><span style=\"font-weight: bold\">()</span>:\n",
       "    try:\n",
       "        user_data = <span style=\"color: #800080; text-decoration-color: #800080; font-weight: bold\">request.get_json</span><span style=\"font-weight: bold\">()</span>\n",
       "        user = <span style=\"color: #800080; text-decoration-color: #800080; font-weight: bold\">User</span><span style=\"font-weight: bold\">(</span>**user_data<span style=\"font-weight: bold\">)</span>\n",
       "        # return <span style=\"color: #008080; text-decoration-color: #008080; font-weight: bold\">201</span> on success\n",
       "        return <span style=\"color: #800080; text-decoration-color: #800080; font-weight: bold\">jsonify</span><span style=\"font-weight: bold\">({</span><span style=\"color: #008000; text-decoration-color: #008000\">'message'</span>: <span style=\"color: #008000; text-decoration-color: #008000\">'User created successfully'</span><span style=\"font-weight: bold\">})</span>, <span style=\"color: #008080; text-decoration-color: #008080; font-weight: bold\">201</span>\n",
       "    except ValidationError as e:\n",
       "        # return <span style=\"color: #008080; text-decoration-color: #008080; font-weight: bold\">400</span> on validation error\n",
       "        return <span style=\"color: #800080; text-decoration-color: #800080; font-weight: bold\">jsonify</span><span style=\"font-weight: bold\">({</span><span style=\"color: #008000; text-decoration-color: #008000\">'error'</span>: <span style=\"color: #800080; text-decoration-color: #800080; font-weight: bold\">str</span><span style=\"font-weight: bold\">(</span>e<span style=\"font-weight: bold\">)})</span>, <span style=\"color: #008080; text-decoration-color: #008080; font-weight: bold\">400</span>\n",
       "\n",
       "if __name__ == <span style=\"color: #008000; text-decoration-color: #008000\">'__main__'</span>:\n",
       "    <span style=\"color: #800080; text-decoration-color: #800080; font-weight: bold\">app.run</span><span style=\"font-weight: bold\">(</span><span style=\"color: #808000; text-decoration-color: #808000\">debug</span>=<span style=\"color: #00ff00; text-decoration-color: #00ff00; font-style: italic\">True</span><span style=\"font-weight: bold\">)</span>\n",
       "```\n",
       "\n",
       "You can send a POST request to `<span style=\"color: #0000ff; text-decoration-color: #0000ff; text-decoration: underline\">http://localhost:5000/users`</span> with a JSON payload containing `name` and `email` \n",
       "fields to create a new user. The endpoint will return a <span style=\"color: #008080; text-decoration-color: #008080; font-weight: bold\">201</span> status code if the data is valid, or a <span style=\"color: #008080; text-decoration-color: #008080; font-weight: bold\">400</span> status code \n",
       "with the validation error message if the data is invalid.\n",
       "</pre>\n"
      ],
      "text/plain": [
       "Here's an example implementation using Flask and pydantic:\n",
       "\n",
       "```python\n",
       "from flask import Flask, request, jsonify\n",
       "from pydantic import BaseModel, ValidationError\n",
       "\n",
       "app = \u001B[1;35mFlask\u001B[0m\u001B[1m(\u001B[0m__name__\u001B[1m)\u001B[0m\n",
       "\n",
       "# Define pydantic user model\n",
       "class \u001B[1;35mUser\u001B[0m\u001B[1m(\u001B[0mBaseModel\u001B[1m)\u001B[0m:\n",
       "    name: str\n",
       "    email: str\n",
       "\n",
       "# POST \u001B[35m/\u001B[0m\u001B[95musers\u001B[0m endpoint\n",
       "@\u001B[1;35mapp.route\u001B[0m\u001B[1m(\u001B[0m\u001B[32m'/users'\u001B[0m, \u001B[33mmethods\u001B[0m=\u001B[1m[\u001B[0m\u001B[32m'POST'\u001B[0m\u001B[1m]\u001B[0m\u001B[1m)\u001B[0m\n",
       "def \u001B[1;35mcreate_user\u001B[0m\u001B[1m(\u001B[0m\u001B[1m)\u001B[0m:\n",
       "    try:\n",
       "        user_data = \u001B[1;35mrequest.get_json\u001B[0m\u001B[1m(\u001B[0m\u001B[1m)\u001B[0m\n",
       "        user = \u001B[1;35mUser\u001B[0m\u001B[1m(\u001B[0m**user_data\u001B[1m)\u001B[0m\n",
       "        # return \u001B[1;36m201\u001B[0m on success\n",
       "        return \u001B[1;35mjsonify\u001B[0m\u001B[1m(\u001B[0m\u001B[1m{\u001B[0m\u001B[32m'message'\u001B[0m: \u001B[32m'User created successfully'\u001B[0m\u001B[1m}\u001B[0m\u001B[1m)\u001B[0m, \u001B[1;36m201\u001B[0m\n",
       "    except ValidationError as e:\n",
       "        # return \u001B[1;36m400\u001B[0m on validation error\n",
       "        return \u001B[1;35mjsonify\u001B[0m\u001B[1m(\u001B[0m\u001B[1m{\u001B[0m\u001B[32m'error'\u001B[0m: \u001B[1;35mstr\u001B[0m\u001B[1m(\u001B[0me\u001B[1m)\u001B[0m\u001B[1m}\u001B[0m\u001B[1m)\u001B[0m, \u001B[1;36m400\u001B[0m\n",
       "\n",
       "if __name__ == \u001B[32m'__main__'\u001B[0m:\n",
       "    \u001B[1;35mapp.run\u001B[0m\u001B[1m(\u001B[0m\u001B[33mdebug\u001B[0m=\u001B[3;92mTrue\u001B[0m\u001B[1m)\u001B[0m\n",
       "```\n",
       "\n",
       "You can send a POST request to `\u001B[4;94mhttp://localhost:5000/users`\u001B[0m with a JSON payload containing `name` and `email` \n",
       "fields to create a new user. The endpoint will return a \u001B[1;36m201\u001B[0m status code if the data is valid, or a \u001B[1;36m400\u001B[0m status code \n",
       "with the validation error message if the data is invalid.\n"
      ]
     },
     "metadata": {},
     "output_type": "display_data"
    },
    {
     "data": {
      "text/html": [
       "<pre style=\"white-space:pre;overflow-x:auto;line-height:normal;font-family:Menlo,'DejaVu Sans Mono',consolas,'Courier New',monospace\">To improve the <span style=\"color: #800080; text-decoration-color: #800080\">/</span><span style=\"color: #ff00ff; text-decoration-color: #ff00ff\">users</span> endpoint by handling duplicate email errors and returning appropriate messages, you can \n",
       "implement the following steps:\n",
       "\n",
       "<span style=\"color: #008080; text-decoration-color: #008080; font-weight: bold\">1</span>. When a new user is trying to register with an email that already exists in the database, catch the error and \n",
       "return a response with a <span style=\"color: #008080; text-decoration-color: #008080; font-weight: bold\">409</span> HTTP status code <span style=\"font-weight: bold\">(</span>Conflict<span style=\"font-weight: bold\">)</span>. This indicates that the request could not be completed \n",
       "due to a conflict with the current state of the resource.\n",
       "\n",
       "<span style=\"color: #008080; text-decoration-color: #008080; font-weight: bold\">2</span>. In the response body, include a custom error message informing the user that the email they are trying to \n",
       "register with is already taken. For example, the message could be something like: <span style=\"color: #008000; text-decoration-color: #008000\">\"The email address you provided </span>\n",
       "<span style=\"color: #008000; text-decoration-color: #008000\">is already registered. Please use a different email address.\"</span>\n",
       "\n",
       "<span style=\"color: #008080; text-decoration-color: #008080; font-weight: bold\">3</span>. Provide a clear and user-friendly message to help the user understand why their registration attempt failed and \n",
       "how they can resolve the issue.\n",
       "\n",
       "<span style=\"color: #008080; text-decoration-color: #008080; font-weight: bold\">4</span>. Additionally, you can include specific error codes or error names in the response to help developers \n",
       "troubleshoot issues on their end.\n",
       "\n",
       "By implementing these steps, the <span style=\"color: #800080; text-decoration-color: #800080\">/</span><span style=\"color: #ff00ff; text-decoration-color: #ff00ff\">users</span> endpoint will handle duplicate email errors more effectively and provide \n",
       "users with appropriate messages to guide them in resolving the issue.\n",
       "</pre>\n"
      ],
      "text/plain": [
       "To improve the \u001B[35m/\u001B[0m\u001B[95musers\u001B[0m endpoint by handling duplicate email errors and returning appropriate messages, you can \n",
       "implement the following steps:\n",
       "\n",
       "\u001B[1;36m1\u001B[0m. When a new user is trying to register with an email that already exists in the database, catch the error and \n",
       "return a response with a \u001B[1;36m409\u001B[0m HTTP status code \u001B[1m(\u001B[0mConflict\u001B[1m)\u001B[0m. This indicates that the request could not be completed \n",
       "due to a conflict with the current state of the resource.\n",
       "\n",
       "\u001B[1;36m2\u001B[0m. In the response body, include a custom error message informing the user that the email they are trying to \n",
       "register with is already taken. For example, the message could be something like: \u001B[32m\"The email address you provided \u001B[0m\n",
       "\u001B[32mis already registered. Please use a different email address.\"\u001B[0m\n",
       "\n",
       "\u001B[1;36m3\u001B[0m. Provide a clear and user-friendly message to help the user understand why their registration attempt failed and \n",
       "how they can resolve the issue.\n",
       "\n",
       "\u001B[1;36m4\u001B[0m. Additionally, you can include specific error codes or error names in the response to help developers \n",
       "troubleshoot issues on their end.\n",
       "\n",
       "By implementing these steps, the \u001B[35m/\u001B[0m\u001B[95musers\u001B[0m endpoint will handle duplicate email errors more effectively and provide \n",
       "users with appropriate messages to guide them in resolving the issue.\n"
      ]
     },
     "metadata": {},
     "output_type": "display_data"
    }
   ],
   "source": [
    "#Step 1: Define the Data Model\n",
    "prompt_1 = \"Define the data model for a user in Python using pydantic. Fields: id, name, email, password (hashed).\"\n",
    "print(invoke(prompt_1))\n",
    "\n",
    "#Step 2: Write the Validation Logic\n",
    "prompt_2 = \"Given the user model defined with pydantic, write validation rules to ensure email is valid and password is at least 8 characters.\"\n",
    "print(invoke(prompt_2))\n",
    "\n",
    "#Step 3: Write the Flask Endpoint\n",
    "prompt_3 = \"Using Flask, write a POST /users endpoint that receives a JSON payload, validates it with the pydantic model, and returns 201 on success or 400 on validation error.\"\n",
    "print(invoke(prompt_3))\n",
    "\n",
    "#Step 4: Add Error Handling and Edge Cases\n",
    "prompt_4 = \"Improve the /users endpoint by handling duplicate email errors and returning appropriate messages.\"\n",
    "print(invoke(prompt_4))\n"
   ]
  },
  {
   "cell_type": "markdown",
   "metadata": {},
   "source": [
    "## Chaining example"
   ]
  },
  {
   "cell_type": "code",
   "execution_count": 28,
   "metadata": {},
   "outputs": [
    {
     "data": {
      "text/html": [
       "<pre style=\"white-space:pre;overflow-x:auto;line-height:normal;font-family:Menlo,'DejaVu Sans Mono',consolas,'Courier New',monospace\">To improve the error handling for duplicate email addresses in the Flask app, you can add a check to verify if the \n",
       "email address already exists in your database before creating a new user. Here's an updated version of the code \n",
       "with duplicate email error handling:\n",
       "\n",
       "```python\n",
       "from flask import Flask, request, jsonify\n",
       "from pydantic import BaseModel, EmailStr, constr, validator\n",
       "\n",
       "app = <span style=\"color: #800080; text-decoration-color: #800080; font-weight: bold\">Flask</span><span style=\"font-weight: bold\">(</span>__name__<span style=\"font-weight: bold\">)</span>\n",
       "\n",
       "# Dummy database to store user data\n",
       "users = <span style=\"font-weight: bold\">[]</span>\n",
       "\n",
       "class <span style=\"color: #800080; text-decoration-color: #800080; font-weight: bold\">User</span><span style=\"font-weight: bold\">(</span>BaseModel<span style=\"font-weight: bold\">)</span>:\n",
       "    id: int\n",
       "    name: str\n",
       "    email: EmailStr\n",
       "    password: <span style=\"color: #800080; text-decoration-color: #800080; font-weight: bold\">constr</span><span style=\"font-weight: bold\">(</span><span style=\"color: #808000; text-decoration-color: #808000\">min_length</span>=<span style=\"color: #008080; text-decoration-color: #008080; font-weight: bold\">8</span><span style=\"font-weight: bold\">)</span>\n",
       "\n",
       "    @<span style=\"color: #800080; text-decoration-color: #800080; font-weight: bold\">validator</span><span style=\"font-weight: bold\">(</span><span style=\"color: #008000; text-decoration-color: #008000\">'name'</span><span style=\"font-weight: bold\">)</span>\n",
       "    def <span style=\"color: #800080; text-decoration-color: #800080; font-weight: bold\">name_must_contain_space</span><span style=\"font-weight: bold\">(</span>cls, v<span style=\"font-weight: bold\">)</span>:\n",
       "        if <span style=\"color: #008000; text-decoration-color: #008000\">' '</span> not in v:\n",
       "            raise <span style=\"color: #800080; text-decoration-color: #800080; font-weight: bold\">ValueError</span><span style=\"font-weight: bold\">(</span><span style=\"color: #008000; text-decoration-color: #008000\">'Name must contain a space'</span><span style=\"font-weight: bold\">)</span>\n",
       "        return v\n",
       "\n",
       "@<span style=\"color: #800080; text-decoration-color: #800080; font-weight: bold\">app.route</span><span style=\"font-weight: bold\">(</span><span style=\"color: #008000; text-decoration-color: #008000\">'/validate_user'</span>, <span style=\"color: #808000; text-decoration-color: #808000\">methods</span>=<span style=\"font-weight: bold\">[</span><span style=\"color: #008000; text-decoration-color: #008000\">'POST'</span><span style=\"font-weight: bold\">])</span>\n",
       "def <span style=\"color: #800080; text-decoration-color: #800080; font-weight: bold\">validate_user</span><span style=\"font-weight: bold\">()</span>:\n",
       "    data = <span style=\"color: #800080; text-decoration-color: #800080; font-weight: bold\">request.get_json</span><span style=\"font-weight: bold\">()</span>\n",
       "    \n",
       "    # Check for duplicate email\n",
       "    if <span style=\"color: #800080; text-decoration-color: #800080; font-weight: bold\">any</span><span style=\"font-weight: bold\">(</span>user.email == data<span style=\"font-weight: bold\">[</span><span style=\"color: #008000; text-decoration-color: #008000\">'email'</span><span style=\"font-weight: bold\">]</span> for user in users<span style=\"font-weight: bold\">)</span>:\n",
       "        return <span style=\"color: #800080; text-decoration-color: #800080; font-weight: bold\">jsonify</span><span style=\"font-weight: bold\">({</span><span style=\"color: #008000; text-decoration-color: #008000\">'error'</span>: <span style=\"color: #008000; text-decoration-color: #008000\">'Email address already exists'</span><span style=\"font-weight: bold\">})</span>\n",
       "\n",
       "    try:\n",
       "        user = <span style=\"color: #800080; text-decoration-color: #800080; font-weight: bold\">User</span><span style=\"font-weight: bold\">(</span>**data<span style=\"font-weight: bold\">)</span>\n",
       "        <span style=\"color: #800080; text-decoration-color: #800080; font-weight: bold\">users.append</span><span style=\"font-weight: bold\">(</span>user<span style=\"font-weight: bold\">)</span>  # Add user to database\n",
       "        return <span style=\"color: #800080; text-decoration-color: #800080; font-weight: bold\">jsonify</span><span style=\"font-weight: bold\">({</span><span style=\"color: #008000; text-decoration-color: #008000\">'message'</span>: <span style=\"color: #008000; text-decoration-color: #008000\">'User is valid'</span><span style=\"font-weight: bold\">})</span>\n",
       "    except ValueError as e:\n",
       "        return <span style=\"color: #800080; text-decoration-color: #800080; font-weight: bold\">jsonify</span><span style=\"font-weight: bold\">({</span><span style=\"color: #008000; text-decoration-color: #008000\">'error'</span>: <span style=\"color: #800080; text-decoration-color: #800080; font-weight: bold\">str</span><span style=\"font-weight: bold\">(</span>e<span style=\"font-weight: bold\">)})</span>\n",
       "\n",
       "if __name__ == <span style=\"color: #008000; text-decoration-color: #008000\">'__main__'</span>:\n",
       "    <span style=\"color: #800080; text-decoration-color: #800080; font-weight: bold\">app.run</span><span style=\"font-weight: bold\">(</span><span style=\"color: #808000; text-decoration-color: #808000\">debug</span>=<span style=\"color: #00ff00; text-decoration-color: #00ff00; font-style: italic\">True</span><span style=\"font-weight: bold\">)</span>\n",
       "```\n",
       "\n",
       "In this updated code, before creating a new user, we check if the email address provided in the request already \n",
       "exists in the `users` list <span style=\"font-weight: bold\">(</span>which simulates a database<span style=\"font-weight: bold\">)</span>. If a user with the same email address is found, we return \n",
       "an error message indicating that the email address already exists. Otherwise, the user is considered valid and \n",
       "added to the `users` list.\n",
       "\n",
       "This approach helps prevent duplicate email addresses in your user database and provides better error handling for \n",
       "this specific scenario.\n",
       "</pre>\n"
      ],
      "text/plain": [
       "To improve the error handling for duplicate email addresses in the Flask app, you can add a check to verify if the \n",
       "email address already exists in your database before creating a new user. Here's an updated version of the code \n",
       "with duplicate email error handling:\n",
       "\n",
       "```python\n",
       "from flask import Flask, request, jsonify\n",
       "from pydantic import BaseModel, EmailStr, constr, validator\n",
       "\n",
       "app = \u001B[1;35mFlask\u001B[0m\u001B[1m(\u001B[0m__name__\u001B[1m)\u001B[0m\n",
       "\n",
       "# Dummy database to store user data\n",
       "users = \u001B[1m[\u001B[0m\u001B[1m]\u001B[0m\n",
       "\n",
       "class \u001B[1;35mUser\u001B[0m\u001B[1m(\u001B[0mBaseModel\u001B[1m)\u001B[0m:\n",
       "    id: int\n",
       "    name: str\n",
       "    email: EmailStr\n",
       "    password: \u001B[1;35mconstr\u001B[0m\u001B[1m(\u001B[0m\u001B[33mmin_length\u001B[0m=\u001B[1;36m8\u001B[0m\u001B[1m)\u001B[0m\n",
       "\n",
       "    @\u001B[1;35mvalidator\u001B[0m\u001B[1m(\u001B[0m\u001B[32m'name'\u001B[0m\u001B[1m)\u001B[0m\n",
       "    def \u001B[1;35mname_must_contain_space\u001B[0m\u001B[1m(\u001B[0mcls, v\u001B[1m)\u001B[0m:\n",
       "        if \u001B[32m' '\u001B[0m not in v:\n",
       "            raise \u001B[1;35mValueError\u001B[0m\u001B[1m(\u001B[0m\u001B[32m'Name must contain a space'\u001B[0m\u001B[1m)\u001B[0m\n",
       "        return v\n",
       "\n",
       "@\u001B[1;35mapp.route\u001B[0m\u001B[1m(\u001B[0m\u001B[32m'/validate_user'\u001B[0m, \u001B[33mmethods\u001B[0m=\u001B[1m[\u001B[0m\u001B[32m'POST'\u001B[0m\u001B[1m]\u001B[0m\u001B[1m)\u001B[0m\n",
       "def \u001B[1;35mvalidate_user\u001B[0m\u001B[1m(\u001B[0m\u001B[1m)\u001B[0m:\n",
       "    data = \u001B[1;35mrequest.get_json\u001B[0m\u001B[1m(\u001B[0m\u001B[1m)\u001B[0m\n",
       "    \n",
       "    # Check for duplicate email\n",
       "    if \u001B[1;35many\u001B[0m\u001B[1m(\u001B[0muser.email == data\u001B[1m[\u001B[0m\u001B[32m'email'\u001B[0m\u001B[1m]\u001B[0m for user in users\u001B[1m)\u001B[0m:\n",
       "        return \u001B[1;35mjsonify\u001B[0m\u001B[1m(\u001B[0m\u001B[1m{\u001B[0m\u001B[32m'error'\u001B[0m: \u001B[32m'Email address already exists'\u001B[0m\u001B[1m}\u001B[0m\u001B[1m)\u001B[0m\n",
       "\n",
       "    try:\n",
       "        user = \u001B[1;35mUser\u001B[0m\u001B[1m(\u001B[0m**data\u001B[1m)\u001B[0m\n",
       "        \u001B[1;35musers.append\u001B[0m\u001B[1m(\u001B[0muser\u001B[1m)\u001B[0m  # Add user to database\n",
       "        return \u001B[1;35mjsonify\u001B[0m\u001B[1m(\u001B[0m\u001B[1m{\u001B[0m\u001B[32m'message'\u001B[0m: \u001B[32m'User is valid'\u001B[0m\u001B[1m}\u001B[0m\u001B[1m)\u001B[0m\n",
       "    except ValueError as e:\n",
       "        return \u001B[1;35mjsonify\u001B[0m\u001B[1m(\u001B[0m\u001B[1m{\u001B[0m\u001B[32m'error'\u001B[0m: \u001B[1;35mstr\u001B[0m\u001B[1m(\u001B[0me\u001B[1m)\u001B[0m\u001B[1m}\u001B[0m\u001B[1m)\u001B[0m\n",
       "\n",
       "if __name__ == \u001B[32m'__main__'\u001B[0m:\n",
       "    \u001B[1;35mapp.run\u001B[0m\u001B[1m(\u001B[0m\u001B[33mdebug\u001B[0m=\u001B[3;92mTrue\u001B[0m\u001B[1m)\u001B[0m\n",
       "```\n",
       "\n",
       "In this updated code, before creating a new user, we check if the email address provided in the request already \n",
       "exists in the `users` list \u001B[1m(\u001B[0mwhich simulates a database\u001B[1m)\u001B[0m. If a user with the same email address is found, we return \n",
       "an error message indicating that the email address already exists. Otherwise, the user is considered valid and \n",
       "added to the `users` list.\n",
       "\n",
       "This approach helps prevent duplicate email addresses in your user database and provides better error handling for \n",
       "this specific scenario.\n"
      ]
     },
     "metadata": {},
     "output_type": "display_data"
    }
   ],
   "source": [
    "from langchain_core.runnables import RunnableLambda, RunnableSequence\n",
    "from langchain.prompts import PromptTemplate\n",
    "from langchain_openai import ChatOpenAI\n",
    "\n",
    "llm = ChatOpenAI(model=\"gpt-3.5-turbo\")\n",
    "\n",
    "# Step 1: Generate the model code\n",
    "step_1 = PromptTemplate.from_template(\n",
    "    \"Define a pydantic model for a user with id, name, email, and password.\"\n",
    ") | llm\n",
    "\n",
    "# Step 2: Add validation to the model code\n",
    "step_2 = (\n",
    "    RunnableLambda(lambda model_code: {\"model_code\": model_code})\n",
    "    | PromptTemplate.from_template(\"Add validation to this model:\\n{model_code}\")\n",
    "    | llm\n",
    "    | RunnableLambda(lambda validation_code, model_code=None: {\"model_code\": model_code, \"validation_code\": validation_code})\n",
    ")\n",
    "\n",
    "# Step 3: Write Flask endpoint using model and validation code\n",
    "step_3 = (\n",
    "    PromptTemplate.from_template(\"Write Flask endpoint using:\\nModel:\\n{model_code}\\nValidation:\\n{validation_code}\")\n",
    "    | llm\n",
    ")\n",
    "\n",
    "# Step 4: Improve with duplicate email error handling\n",
    "step_4 = (\n",
    "    RunnableLambda(lambda endpoint_code: {\"endpoint_code\": endpoint_code})\n",
    "    | PromptTemplate.from_template(\"Improve with duplicate email error handling:\\n{endpoint_code}\")\n",
    "    | llm\n",
    ")\n",
    "\n",
    "# Combine steps in a sequence\n",
    "pipeline = RunnableSequence(\n",
    "    step_1,\n",
    "    step_2,\n",
    "    step_3,\n",
    "    step_4,\n",
    ")\n",
    "\n",
    "final_output = pipeline.invoke({})\n",
    "print(final_output.content)\n"
   ]
  },
  {
   "cell_type": "markdown",
   "metadata": {},
   "source": [
    "# Task"
   ]
  },
  {
   "cell_type": "code",
   "execution_count": 29,
   "metadata": {},
   "outputs": [
    {
     "data": {
      "text/html": [
       "<pre style=\"white-space:pre;overflow-x:auto;line-height:normal;font-family:Menlo,'DejaVu Sans Mono',consolas,'Courier New',monospace\">On-Call Schedule:\n",
       "\n",
       "Engineer <span style=\"color: #008080; text-decoration-color: #008080; font-weight: bold\">1</span>:\n",
       "- Monday: Service <span style=\"color: #008080; text-decoration-color: #008080; font-weight: bold\">1</span>\n",
       "- Tuesday: Service <span style=\"color: #008080; text-decoration-color: #008080; font-weight: bold\">2</span>\n",
       "- Wednesday: Service <span style=\"color: #008080; text-decoration-color: #008080; font-weight: bold\">1</span>\n",
       "- Thursday: Service <span style=\"color: #008080; text-decoration-color: #008080; font-weight: bold\">2</span>\n",
       "- Friday: Service <span style=\"color: #008080; text-decoration-color: #008080; font-weight: bold\">1</span>\n",
       "- Saturday: Service <span style=\"color: #008080; text-decoration-color: #008080; font-weight: bold\">2</span>\n",
       "- Sunday: Off\n",
       "\n",
       "Engineer <span style=\"color: #008080; text-decoration-color: #008080; font-weight: bold\">2</span>:\n",
       "- Monday: Service <span style=\"color: #008080; text-decoration-color: #008080; font-weight: bold\">2</span>\n",
       "- Tuesday: Service <span style=\"color: #008080; text-decoration-color: #008080; font-weight: bold\">1</span>\n",
       "- Wednesday: Service <span style=\"color: #008080; text-decoration-color: #008080; font-weight: bold\">2</span>\n",
       "- Thursday: Service <span style=\"color: #008080; text-decoration-color: #008080; font-weight: bold\">1</span>\n",
       "- Friday: Service <span style=\"color: #008080; text-decoration-color: #008080; font-weight: bold\">2</span>\n",
       "- Saturday: Service <span style=\"color: #008080; text-decoration-color: #008080; font-weight: bold\">1</span>\n",
       "- Sunday: Off\n",
       "\n",
       "Engineer <span style=\"color: #008080; text-decoration-color: #008080; font-weight: bold\">3</span>:\n",
       "- Monday: Service <span style=\"color: #008080; text-decoration-color: #008080; font-weight: bold\">1</span>\n",
       "- Tuesday: Service <span style=\"color: #008080; text-decoration-color: #008080; font-weight: bold\">2</span>\n",
       "- Wednesday: Service <span style=\"color: #008080; text-decoration-color: #008080; font-weight: bold\">1</span>\n",
       "- Thursday: Service <span style=\"color: #008080; text-decoration-color: #008080; font-weight: bold\">2</span>\n",
       "- Friday: Service <span style=\"color: #008080; text-decoration-color: #008080; font-weight: bold\">1</span>\n",
       "- Saturday: Service <span style=\"color: #008080; text-decoration-color: #008080; font-weight: bold\">2</span>\n",
       "- Sunday: Off\n",
       "\n",
       "This schedule ensures that each engineer rotates between the two services and has a day off each week.\n",
       "</pre>\n"
      ],
      "text/plain": [
       "On-Call Schedule:\n",
       "\n",
       "Engineer \u001B[1;36m1\u001B[0m:\n",
       "- Monday: Service \u001B[1;36m1\u001B[0m\n",
       "- Tuesday: Service \u001B[1;36m2\u001B[0m\n",
       "- Wednesday: Service \u001B[1;36m1\u001B[0m\n",
       "- Thursday: Service \u001B[1;36m2\u001B[0m\n",
       "- Friday: Service \u001B[1;36m1\u001B[0m\n",
       "- Saturday: Service \u001B[1;36m2\u001B[0m\n",
       "- Sunday: Off\n",
       "\n",
       "Engineer \u001B[1;36m2\u001B[0m:\n",
       "- Monday: Service \u001B[1;36m2\u001B[0m\n",
       "- Tuesday: Service \u001B[1;36m1\u001B[0m\n",
       "- Wednesday: Service \u001B[1;36m2\u001B[0m\n",
       "- Thursday: Service \u001B[1;36m1\u001B[0m\n",
       "- Friday: Service \u001B[1;36m2\u001B[0m\n",
       "- Saturday: Service \u001B[1;36m1\u001B[0m\n",
       "- Sunday: Off\n",
       "\n",
       "Engineer \u001B[1;36m3\u001B[0m:\n",
       "- Monday: Service \u001B[1;36m1\u001B[0m\n",
       "- Tuesday: Service \u001B[1;36m2\u001B[0m\n",
       "- Wednesday: Service \u001B[1;36m1\u001B[0m\n",
       "- Thursday: Service \u001B[1;36m2\u001B[0m\n",
       "- Friday: Service \u001B[1;36m1\u001B[0m\n",
       "- Saturday: Service \u001B[1;36m2\u001B[0m\n",
       "- Sunday: Off\n",
       "\n",
       "This schedule ensures that each engineer rotates between the two services and has a day off each week.\n"
      ]
     },
     "metadata": {},
     "output_type": "display_data"
    }
   ],
   "source": [
    "prompt = \"\"\"<task>Write an on-call schedule for 3 engineers across 2 services</task>\"\"\"\n",
    "print(invoke(prompt))"
   ]
  },
  {
   "cell_type": "markdown",
   "metadata": {},
   "source": [
    "# Constraints\n"
   ]
  },
  {
   "cell_type": "code",
   "execution_count": 30,
   "metadata": {},
   "outputs": [
    {
     "data": {
      "text/html": [
       "<pre style=\"white-space:pre;overflow-x:auto;line-height:normal;font-family:Menlo,'DejaVu Sans Mono',consolas,'Courier New',monospace\">On-Call Schedule:\n",
       "\n",
       "Engineer <span style=\"color: #008080; text-decoration-color: #008080; font-weight: bold\">1</span>:\n",
       "- Day <span style=\"color: #008080; text-decoration-color: #008080; font-weight: bold\">1</span>: Service <span style=\"color: #008080; text-decoration-color: #008080; font-weight: bold\">1</span> <span style=\"font-weight: bold\">(</span>8am - 4pm<span style=\"font-weight: bold\">)</span>\n",
       "- Day <span style=\"color: #008080; text-decoration-color: #008080; font-weight: bold\">2</span>: Rest <span style=\"font-weight: bold\">(</span>4pm - 8am<span style=\"font-weight: bold\">)</span>\n",
       "- Day <span style=\"color: #008080; text-decoration-color: #008080; font-weight: bold\">3</span>: Rest <span style=\"font-weight: bold\">(</span>8am - 8pm<span style=\"font-weight: bold\">)</span>\n",
       "\n",
       "Engineer <span style=\"color: #008080; text-decoration-color: #008080; font-weight: bold\">2</span>:\n",
       "- Day <span style=\"color: #008080; text-decoration-color: #008080; font-weight: bold\">1</span>: Service <span style=\"color: #008080; text-decoration-color: #008080; font-weight: bold\">2</span> <span style=\"font-weight: bold\">(</span>4pm - 12am<span style=\"font-weight: bold\">)</span>\n",
       "- Day <span style=\"color: #008080; text-decoration-color: #008080; font-weight: bold\">2</span>: Rest <span style=\"font-weight: bold\">(</span>12am - 8am<span style=\"font-weight: bold\">)</span>\n",
       "- Day <span style=\"color: #008080; text-decoration-color: #008080; font-weight: bold\">3</span>: Rest <span style=\"font-weight: bold\">(</span>8am - 8pm<span style=\"font-weight: bold\">)</span>\n",
       "\n",
       "Engineer <span style=\"color: #008080; text-decoration-color: #008080; font-weight: bold\">3</span>:\n",
       "- Day <span style=\"color: #008080; text-decoration-color: #008080; font-weight: bold\">1</span>: Service <span style=\"color: #008080; text-decoration-color: #008080; font-weight: bold\">1</span> <span style=\"font-weight: bold\">(</span>12am - 8am<span style=\"font-weight: bold\">)</span>\n",
       "- Day <span style=\"color: #008080; text-decoration-color: #008080; font-weight: bold\">2</span>: Rest <span style=\"font-weight: bold\">(</span>8am - 4pm<span style=\"font-weight: bold\">)</span>\n",
       "- Day <span style=\"color: #008080; text-decoration-color: #008080; font-weight: bold\">3</span>: Service <span style=\"color: #008080; text-decoration-color: #008080; font-weight: bold\">2</span> <span style=\"font-weight: bold\">(</span>8pm - 4am<span style=\"font-weight: bold\">)</span>\n",
       "</pre>\n"
      ],
      "text/plain": [
       "On-Call Schedule:\n",
       "\n",
       "Engineer \u001B[1;36m1\u001B[0m:\n",
       "- Day \u001B[1;36m1\u001B[0m: Service \u001B[1;36m1\u001B[0m \u001B[1m(\u001B[0m8am - 4pm\u001B[1m)\u001B[0m\n",
       "- Day \u001B[1;36m2\u001B[0m: Rest \u001B[1m(\u001B[0m4pm - 8am\u001B[1m)\u001B[0m\n",
       "- Day \u001B[1;36m3\u001B[0m: Rest \u001B[1m(\u001B[0m8am - 8pm\u001B[1m)\u001B[0m\n",
       "\n",
       "Engineer \u001B[1;36m2\u001B[0m:\n",
       "- Day \u001B[1;36m1\u001B[0m: Service \u001B[1;36m2\u001B[0m \u001B[1m(\u001B[0m4pm - 12am\u001B[1m)\u001B[0m\n",
       "- Day \u001B[1;36m2\u001B[0m: Rest \u001B[1m(\u001B[0m12am - 8am\u001B[1m)\u001B[0m\n",
       "- Day \u001B[1;36m3\u001B[0m: Rest \u001B[1m(\u001B[0m8am - 8pm\u001B[1m)\u001B[0m\n",
       "\n",
       "Engineer \u001B[1;36m3\u001B[0m:\n",
       "- Day \u001B[1;36m1\u001B[0m: Service \u001B[1;36m1\u001B[0m \u001B[1m(\u001B[0m12am - 8am\u001B[1m)\u001B[0m\n",
       "- Day \u001B[1;36m2\u001B[0m: Rest \u001B[1m(\u001B[0m8am - 4pm\u001B[1m)\u001B[0m\n",
       "- Day \u001B[1;36m3\u001B[0m: Service \u001B[1;36m2\u001B[0m \u001B[1m(\u001B[0m8pm - 4am\u001B[1m)\u001B[0m\n"
      ]
     },
     "metadata": {},
     "output_type": "display_data"
    }
   ],
   "source": [
    "prompt = \"\"\"<task>Write an on-call schedule for 3 engineers across 2 services</task>\n",
    "                <constraints>\n",
    "                1. Each engineer must only support 1 service per shift\n",
    "                2. No engineer can be on-call more than 8 hours per day\n",
    "                3. There must always be 1 engineer per service at any time\n",
    "                4. Engineers must have at least 12 hours of rest between shifts\n",
    "                </constraints>\"\"\"\n",
    "print(invoke(prompt))\n"
   ]
  }
 ],
 "metadata": {
  "kernelspec": {
   "display_name": ".venv",
   "language": "python",
   "name": "python3"
  },
  "language_info": {
   "codemirror_mode": {
    "name": "ipython",
    "version": 3
   },
   "file_extension": ".py",
   "mimetype": "text/x-python",
   "name": "python",
   "nbconvert_exporter": "python",
   "pygments_lexer": "ipython3",
   "version": "3.13.5"
  }
 },
 "nbformat": 4,
 "nbformat_minor": 2
}
