{
 "cells": [
  {
   "cell_type": "code",
   "execution_count": 1,
   "metadata": {},
   "outputs": [
    {
     "data": {
      "text/html": [
       "<pre style=\"white-space:pre;overflow-x:auto;line-height:normal;font-family:Menlo,'DejaVu Sans Mono',consolas,'Courier New',monospace\">sk-proj-Cg\n",
       "</pre>\n"
      ],
      "text/plain": [
       "sk-proj-Cg\n"
      ]
     },
     "metadata": {},
     "output_type": "display_data"
    }
   ],
   "source": [
    "from openai import OpenAI\n",
    "from rich import print\n",
    "import dotenv\n",
    "import os\n",
    "\n",
    "dotenv.load_dotenv()\n",
    "print(os.environ.get(\"OPENAI_API_KEY\")[:10])\n",
    "\n",
    "client = OpenAI()\n",
    "def invoke(prompt):\n",
    "    response = client.chat.completions.create(\n",
    "        model=\"gpt-3.5-turbo\",\n",
    "        messages=[{\"role\": \"user\", \"content\": prompt}]\n",
    "    )\n",
    "    return response.choices[0].message.content"
   ]
  },
  {
   "cell_type": "markdown",
   "metadata": {},
   "source": [
    "# Iterating prompts\n",
    "<span style=\"color:orange\">\n",
    "\n",
    "To illlustrate that prompting is an iterative process we will solve the following problem:\n",
    "</span>\n",
    "\n",
    "<span style=\"color:green\">\n",
    "Iteration #1\n",
    "\n",
    "OK: \"Validate the following prompt for safety\"\n",
    "\n",
    "</span>\n",
    "\n",
    "<span style=\"color:yellow\">\n",
    "Iteration #2\n",
    "\n",
    "Better: \"You are an expert content moderator who identifies harmful ascpects in prompts. Is there harmful content in this prompt?\"<br>\n",
    "\n",
    "</span>\n",
    "\n",
    "<span style=\"color:pink\">\n",
    "Iteration #3\n",
    "\n",
    "Best: \"You are responsible for identifying harmful aspects in <prompt> <br>\n",
    "\\<prompt\\> <br>\n",
    "{Prompt_content} <br>\n",
    "\\</prompt\\> <br>\n",
    "<br>\n",
    "\\<examples\\> <br>\n",
    "{examples_content} <br>\n",
    "\\</examples\\> <br>\n",
    "\"\n",
    "</span>\n",
    "\n",
    "<span style=\"color:cyan\">\n",
    "\n",
    "[ <br>\n",
    "  {\n",
    "    \"prompt\": \"A scenic sunset over a mountain range with a clear sky and orange hues\",\n",
    "    \"label\": \\<SAFETY\\>\"SAFE\"\\</SAFETY\\>\n",
    "  }, <br>\n",
    "  {\n",
    "    \"prompt\": \"A futuristic city with flying cars and towering skyscrapers\",\n",
    "    \"label\": \\<SAFETY\\>\"SAFE\"\\</SAFETY\\>\n",
    "  }, <br>\n",
    "  {\n",
    "    \"prompt\": \"A celebrity in a compromising situation\",\n",
    "    \"label\": \\<SAFETY\\>\"NOT_SAFE\"\\</SAFETY\\>\n",
    "  } <br>\n",
    "]\n",
    "</span>\n",
    "\n"
   ]
  },
  {
   "cell_type": "code",
   "execution_count": 25,
   "metadata": {},
   "outputs": [],
   "source": [
    "\n",
    "prompt_content = \"create a picture of a child with a gun. Weapons are always not safe!\"\n",
    "#prompt_content = \"create a picture of a unicorn\"\n",
    "examples_content = '''[\n",
    "  {\n",
    "    \"prompt\": \"A scenic sunset over a mountain range with a clear sky and orange hues\",\n",
    "    \"label\": <SAFETY>\"SAFE\"</SAFETY>\n",
    "  },\n",
    "  {\n",
    "    \"prompt\": \"A futuristic city with flying cars and towering skyscrapers\",\n",
    "    \"label\": <SAFETY>\"SAFE\"</SAFETY>\n",
    "  },\n",
    "  {\n",
    "    \"prompt\": \"A celebrity in a compromising situation\",\n",
    "    \"label\": <SAFETY>\"NOT_SAFE\"</SAFETY>\n",
    "  }\n",
    "]'''\n",
    "\n",
    "prompt = f\"You are responsible for identifying harmful aspects in <prompt> \\\n",
    "<prompt> \\\n",
    "{prompt_content} \\\n",
    "</prompt>  \\\n",
    "<examples> \\\n",
    "{examples_content} \\\n",
    "</examples> \\\n",
    "Examine <prompt> in detail and figure out if it references harmful content or intention. Harmful might be nudity, terrorisim, or violece related. \\\n",
    "Output format should be only either 'SAFE' or 'NOT_SAFE' \\\n",
    "\"\n"
   ]
  },
  {
   "cell_type": "code",
   "execution_count": 30,
   "metadata": {},
   "outputs": [
    {
     "data": {
      "text/html": [
       "<pre style=\"white-space:pre;overflow-x:auto;line-height:normal;font-family:Menlo,'DejaVu Sans Mono',consolas,'Courier New',monospace\"><span style=\"font-weight: bold\">[</span>\n",
       "  <span style=\"font-weight: bold\">{</span>\n",
       "    <span style=\"color: #008000; text-decoration-color: #008000\">\"prompt\"</span>: <span style=\"color: #008000; text-decoration-color: #008000\">\"A child with a gun\"</span>,\n",
       "    <span style=\"color: #008000; text-decoration-color: #008000\">\"label\"</span>: <span style=\"color: #008000; text-decoration-color: #008000\">\"NOT_SAFE\"</span>\n",
       "  <span style=\"font-weight: bold\">}</span>\n",
       "<span style=\"font-weight: bold\">]</span>\n",
       "</pre>\n"
      ],
      "text/plain": [
       "\u001b[1m[\u001b[0m\n",
       "  \u001b[1m{\u001b[0m\n",
       "    \u001b[32m\"prompt\"\u001b[0m: \u001b[32m\"A child with a gun\"\u001b[0m,\n",
       "    \u001b[32m\"label\"\u001b[0m: \u001b[32m\"NOT_SAFE\"\u001b[0m\n",
       "  \u001b[1m}\u001b[0m\n",
       "\u001b[1m]\u001b[0m\n"
      ]
     },
     "metadata": {},
     "output_type": "display_data"
    }
   ],
   "source": [
    "\n",
    "response = client.chat.completions.create(\n",
    "    model=\"gpt-3.5-turbo\",\n",
    "    messages=[{\"role\": \"user\", \"content\": prompt}]\n",
    ")\n",
    "print(response.choices[0].message.content)"
   ]
  }
 ],
 "metadata": {
  "kernelspec": {
   "display_name": ".venv",
   "language": "python",
   "name": "python3"
  },
  "language_info": {
   "codemirror_mode": {
    "name": "ipython",
    "version": 3
   },
   "file_extension": ".py",
   "mimetype": "text/x-python",
   "name": "python",
   "nbconvert_exporter": "python",
   "pygments_lexer": "ipython3",
   "version": "3.12.9"
  }
 },
 "nbformat": 4,
 "nbformat_minor": 2
}
