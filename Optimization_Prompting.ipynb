{
 "cells": [
  {
   "cell_type": "code",
   "execution_count": 2,
   "metadata": {},
   "outputs": [
    {
     "data": {
      "text/html": [
       "<pre style=\"white-space:pre;overflow-x:auto;line-height:normal;font-family:Menlo,'DejaVu Sans Mono',consolas,'Courier New',monospace\">sk-proj-RD\n",
       "</pre>\n"
      ],
      "text/plain": [
       "sk-proj-RD\n"
      ]
     },
     "metadata": {},
     "output_type": "display_data"
    }
   ],
   "source": [
    "from openai import OpenAI\n",
    "from rich import print\n",
    "import os\n",
    "USING_DOTENV = True\n",
    "\n",
    "if(USING_DOTENV):\n",
    "    import dotenv\n",
    "    dotenv.load_dotenv()\n",
    "else:\n",
    "    print(\"hard coded\")\n",
    "    os.environ[\"OPENAI_API_KEY\"] = 'skh-asdfgsadgasdgasdga' # replace with your API key\n",
    "\n",
    "print(os.environ.get(\"OPENAI_API_KEY\")[:10])\n",
    "\n",
    "client = OpenAI()"
   ]
  },
  {
   "cell_type": "markdown",
   "metadata": {},
   "source": [
    "# Prompt Engineering"
   ]
  },
  {
   "cell_type": "markdown",
   "metadata": {},
   "source": [
    "\n",
    "<div style=\"text-align: left; margin-top: 40px; margin-bottom: 40px;\">\n",
    "\n",
    "<img src=\"https://drive.google.com/thumbnail?id=1u9SWgjdTQ68zvulpOF25gMAQ7Otwx53P\" alt=\"Description of Image\">\n",
    "</div>\n",
    "<span style=\"color:#eb323c\">\n",
    "\n",
    "\n",
    "- Notebook property of: LATENT Engineering Firm ltd.\n",
    "\n",
    "- Website: www.reachlatent.com\n",
    "\n",
    "- For similar talks / workshops reach out to: info@reachlatent.com\n",
    "</span>"
   ]
  },
  {
   "cell_type": "code",
   "execution_count": 3,
   "metadata": {},
   "outputs": [],
   "source": [
    "def invoke(prompt):\n",
    "    response = client.chat.completions.create(\n",
    "        model=\"gpt-3.5-turbo\",\n",
    "        messages=[{\"role\": \"user\", \"content\": prompt}]\n",
    "    )\n",
    "    return response.choices[0].message.content"
   ]
  },
  {
   "cell_type": "markdown",
   "metadata": {},
   "source": [
    "# A way out"
   ]
  },
  {
   "cell_type": "code",
   "execution_count": 4,
   "metadata": {},
   "outputs": [
    {
     "data": {
      "text/html": [
       "<pre style=\"white-space:pre;overflow-x:auto;line-height:normal;font-family:Menlo,'DejaVu Sans Mono',consolas,'Courier New',monospace\">The capital of Micronesia is Palikir.\n",
       "</pre>\n"
      ],
      "text/plain": [
       "The capital of Micronesia is Palikir.\n"
      ]
     },
     "metadata": {},
     "output_type": "display_data"
    }
   ],
   "source": [
    "print(invoke(\"What is the capital of Mikauaw?\"))"
   ]
  },
  {
   "cell_type": "code",
   "execution_count": 5,
   "metadata": {},
   "outputs": [
    {
     "data": {
      "text/html": [
       "<pre style=\"white-space:pre;overflow-x:auto;line-height:normal;font-family:Menlo,'DejaVu Sans Mono',consolas,'Courier New',monospace\">I don't know.\n",
       "</pre>\n"
      ],
      "text/plain": [
       "I don't know.\n"
      ]
     },
     "metadata": {},
     "output_type": "display_data"
    }
   ],
   "source": [
    "print(invoke(\"What is the capital of Mikauaw?\" + \"if you don't know, say 'I don't know.'\"))"
   ]
  },
  {
   "cell_type": "markdown",
   "metadata": {},
   "source": [
    "# Cheap chain of thought"
   ]
  },
  {
   "cell_type": "code",
   "execution_count": 6,
   "metadata": {},
   "outputs": [
    {
     "data": {
      "text/html": [
       "<pre style=\"white-space:pre;overflow-x:auto;line-height:normal;font-family:Menlo,'DejaVu Sans Mono',consolas,'Courier New',monospace\">Step <span style=\"color: #008080; text-decoration-color: #008080; font-weight: bold\">1</span>: Start with the initial number of apples, which is <span style=\"color: #008080; text-decoration-color: #008080; font-weight: bold\">23</span>.\n",
       "Step <span style=\"color: #008080; text-decoration-color: #008080; font-weight: bold\">2</span>: Subtract the number of apples used to make lunch, which is <span style=\"color: #008080; text-decoration-color: #008080; font-weight: bold\">20</span>. \n",
       "<span style=\"color: #008080; text-decoration-color: #008080; font-weight: bold\">23</span> - <span style=\"color: #008080; text-decoration-color: #008080; font-weight: bold\">20</span> = <span style=\"color: #008080; text-decoration-color: #008080; font-weight: bold\">3</span>\n",
       "Step <span style=\"color: #008080; text-decoration-color: #008080; font-weight: bold\">3</span>: Add the number of apples bought, which is <span style=\"color: #008080; text-decoration-color: #008080; font-weight: bold\">6</span>.\n",
       "<span style=\"color: #008080; text-decoration-color: #008080; font-weight: bold\">3</span> + <span style=\"color: #008080; text-decoration-color: #008080; font-weight: bold\">6</span> = <span style=\"color: #008080; text-decoration-color: #008080; font-weight: bold\">9</span>\n",
       "Answer: The cafeteria now has <span style=\"color: #008080; text-decoration-color: #008080; font-weight: bold\">9</span> apples.\n",
       "</pre>\n"
      ],
      "text/plain": [
       "Step \u001b[1;36m1\u001b[0m: Start with the initial number of apples, which is \u001b[1;36m23\u001b[0m.\n",
       "Step \u001b[1;36m2\u001b[0m: Subtract the number of apples used to make lunch, which is \u001b[1;36m20\u001b[0m. \n",
       "\u001b[1;36m23\u001b[0m - \u001b[1;36m20\u001b[0m = \u001b[1;36m3\u001b[0m\n",
       "Step \u001b[1;36m3\u001b[0m: Add the number of apples bought, which is \u001b[1;36m6\u001b[0m.\n",
       "\u001b[1;36m3\u001b[0m + \u001b[1;36m6\u001b[0m = \u001b[1;36m9\u001b[0m\n",
       "Answer: The cafeteria now has \u001b[1;36m9\u001b[0m apples.\n"
      ]
     },
     "metadata": {},
     "output_type": "display_data"
    }
   ],
   "source": [
    "prompt_without_cot =   \"\"\"Q: Roger has 5 tennis balls. He buys 2 more cans of\n",
    "                        tennis balls. Each can has 3 tennis balls. How many\n",
    "                        tennis balls does he have now?\n",
    "\n",
    "                        A: The answer is 11.\n",
    "                        \n",
    "                        Q: The cafeteria had 23 apples. If they used 20 to\n",
    "                        make lunch and bought 6 more, how many apples\n",
    "                        do they have?\n",
    "                        A:\"\"\"\n",
    "prompt_with_cheap_cot = prompt_without_cot + \"Let's think this step by step\"\n",
    "print(invoke(prompt_with_cheap_cot))"
   ]
  },
  {
   "cell_type": "markdown",
   "metadata": {},
   "source": [
    "# Don't tell the model what not to do!"
   ]
  },
  {
   "cell_type": "code",
   "execution_count": 7,
   "metadata": {},
   "outputs": [
    {
     "data": {
      "text/html": [
       "<pre style=\"white-space:pre;overflow-x:auto;line-height:normal;font-family:Menlo,'DejaVu Sans Mono',consolas,'Courier New',monospace\"><span style=\"color: #008000; text-decoration-color: #008000\">\"The Godfather\"</span> is a cinematic masterpiece that has stood the test of time since its release in <span style=\"color: #008080; text-decoration-color: #008080; font-weight: bold\">1972</span>. Directed by \n",
       "Francis Ford Coppola, the film follows the powerful Corleone family as they navigate the treacherous world of \n",
       "organized crime in 1940s New York. With its stellar cast including Marlon Brando, Al Pacino, and James Caan, <span style=\"color: #008000; text-decoration-color: #008000\">\"The </span>\n",
       "<span style=\"color: #008000; text-decoration-color: #008000\">Godfather\"</span> is a gripping tale of loyalty, betrayal, and the price of power. From its iconic performances to its \n",
       "sweeping score and intricate storytelling, this film remains a classic in the world of cinema.\n",
       "</pre>\n"
      ],
      "text/plain": [
       "\u001b[32m\"The Godfather\"\u001b[0m is a cinematic masterpiece that has stood the test of time since its release in \u001b[1;36m1972\u001b[0m. Directed by \n",
       "Francis Ford Coppola, the film follows the powerful Corleone family as they navigate the treacherous world of \n",
       "organized crime in 1940s New York. With its stellar cast including Marlon Brando, Al Pacino, and James Caan, \u001b[32m\"The \u001b[0m\n",
       "\u001b[32mGodfather\"\u001b[0m is a gripping tale of loyalty, betrayal, and the price of power. From its iconic performances to its \n",
       "sweeping score and intricate storytelling, this film remains a classic in the world of cinema.\n"
      ]
     },
     "metadata": {},
     "output_type": "display_data"
    }
   ],
   "source": [
    "prompt = \"\"\"<role> You are a movie critic. </role>\n",
    "        <task> Don't write a short review of the movie \"The Godfather\".</task>\"\"\" \n",
    "print(invoke(prompt))"
   ]
  },
  {
   "cell_type": "markdown",
   "metadata": {},
   "source": [
    "# Emotional stimuli"
   ]
  },
  {
   "cell_type": "code",
   "execution_count": 8,
   "metadata": {},
   "outputs": [
    {
     "data": {
      "text/html": [
       "<pre style=\"white-space:pre;overflow-x:auto;line-height:normal;font-family:Menlo,'DejaVu Sans Mono',consolas,'Courier New',monospace\">As an AI language model, I cannot provide personalized investment advice. However, before investing in CVS or any \n",
       "other stock, it is important to conduct thorough research on the company, its financial performance, market \n",
       "conditions, and future growth potential. Additionally, consider seeking guidance from a financial advisor to help \n",
       "you make informed investment decisions based on your financial goals and risk tolerance.\n",
       "</pre>\n"
      ],
      "text/plain": [
       "As an AI language model, I cannot provide personalized investment advice. However, before investing in CVS or any \n",
       "other stock, it is important to conduct thorough research on the company, its financial performance, market \n",
       "conditions, and future growth potential. Additionally, consider seeking guidance from a financial advisor to help \n",
       "you make informed investment decisions based on your financial goals and risk tolerance.\n"
      ]
     },
     "metadata": {},
     "output_type": "display_data"
    }
   ],
   "source": [
    "prompt_without_stimuli = \"\"\"\"Should I invest in CVS\n",
    "\"\"\"\n",
    "\n",
    "print(invoke(prompt_without_stimuli))"
   ]
  },
  {
   "cell_type": "code",
   "execution_count": 9,
   "metadata": {},
   "outputs": [
    {
     "data": {
      "text/html": [
       "<pre style=\"white-space:pre;overflow-x:auto;line-height:normal;font-family:Menlo,'DejaVu Sans Mono',consolas,'Courier New',monospace\">It is important to consider your financial situation and risk tolerance before making any investment decisions. \n",
       "While CVS may be a stable and profitable company, there are always risks involved with investing in any stock. It \n",
       "is advised to consult with a financial advisor to help you make an informed decision based on your individual \n",
       "circumstances. Additionally, it may be helpful to diversify your investments to reduce risk.\n",
       "</pre>\n"
      ],
      "text/plain": [
       "It is important to consider your financial situation and risk tolerance before making any investment decisions. \n",
       "While CVS may be a stable and profitable company, there are always risks involved with investing in any stock. It \n",
       "is advised to consult with a financial advisor to help you make an informed decision based on your individual \n",
       "circumstances. Additionally, it may be helpful to diversify your investments to reduce risk.\n"
      ]
     },
     "metadata": {},
     "output_type": "display_data"
    }
   ],
   "source": [
    "prompt_without_stimuli = \"\"\"\"Should I invest in CVS\n",
    "\"\"\"\n",
    "\n",
    "print(invoke(prompt_without_stimuli + \" My job depends on this\"))"
   ]
  },
  {
   "cell_type": "markdown",
   "metadata": {},
   "source": [
    "# Ranking\n"
   ]
  },
  {
   "cell_type": "code",
   "execution_count": 10,
   "metadata": {},
   "outputs": [
    {
     "data": {
      "text/html": [
       "<pre style=\"white-space:pre;overflow-x:auto;line-height:normal;font-family:Menlo,'DejaVu Sans Mono',consolas,'Courier New',monospace\">I would rate this result a <span style=\"color: #008080; text-decoration-color: #008080; font-weight: bold\">7</span> out of <span style=\"color: #008080; text-decoration-color: #008080; font-weight: bold\">10</span>. Having experience with Python, C, HTML, and CSS is a strong set of skills, \n",
       "but there may be room for improvement or expansion in terms of languages or technologies.\n",
       "</pre>\n"
      ],
      "text/plain": [
       "I would rate this result a \u001b[1;36m7\u001b[0m out of \u001b[1;36m10\u001b[0m. Having experience with Python, C, HTML, and CSS is a strong set of skills, \n",
       "but there may be room for improvement or expansion in terms of languages or technologies.\n"
      ]
     },
     "metadata": {},
     "output_type": "display_data"
    }
   ],
   "source": [
    "print(invoke(\"Score this result from 1 to 10. <result> CV: python, C, HTML, CSS </result>\"))"
   ]
  },
  {
   "cell_type": "code",
   "execution_count": 11,
   "metadata": {},
   "outputs": [
    {
     "data": {
      "text/html": [
       "<pre style=\"white-space:pre;overflow-x:auto;line-height:normal;font-family:Menlo,'DejaVu Sans Mono',consolas,'Courier New',monospace\">I would rank this result as a <span style=\"color: #008080; text-decoration-color: #008080; font-weight: bold\">3</span> - Developer. The candidate has <span style=\"color: #008080; text-decoration-color: #008080; font-weight: bold\">3</span> years of experience in full-stack web development,\n",
       "with proven ability to independently develop and maintain features for moderately complex applications. They have \n",
       "experience with a variety of programming languages, frameworks, and tools, and have contributed to the development \n",
       "of new features and APIs in their previous roles. They have also participated in agile ceremonies and have \n",
       "experience with unit testing. Overall, this candidate demonstrates a solid level of proficiency and could handle \n",
       "tasks independently.\n",
       "</pre>\n"
      ],
      "text/plain": [
       "I would rank this result as a \u001b[1;36m3\u001b[0m - Developer. The candidate has \u001b[1;36m3\u001b[0m years of experience in full-stack web development,\n",
       "with proven ability to independently develop and maintain features for moderately complex applications. They have \n",
       "experience with a variety of programming languages, frameworks, and tools, and have contributed to the development \n",
       "of new features and APIs in their previous roles. They have also participated in agile ceremonies and have \n",
       "experience with unit testing. Overall, this candidate demonstrates a solid level of proficiency and could handle \n",
       "tasks independently.\n"
      ]
     },
     "metadata": {},
     "output_type": "display_data"
    }
   ],
   "source": [
    "print(invoke(\"Score this result from 1 to 10.\" + \n",
    "             \"<result> SummaryDetail-oriented and motivated Developer with 3 years of experience in full-stack web development, specializing in JavaScript, React, and Node.js. Proven ability to independently develop and maintain features for moderately complex applications, contribute effectively to agile team environments, and consistently deliver high-quality code. Eager to leverage skills in a challenging role to contribute to innovative software solutions.ExperienceSoftware Developer | NovaTech Solutions | July 2022 – PresentDeveloped and implemented new user-facing features for a SaaS platform using React, Redux, and Node.js, improving user engagement by 15%.Collaborated with a cross-functional team of 6 to design and deploy RESTful APIs, enhancing data processing capabilities.Wrote unit and integration tests, achieving 90% code coverage for key application modules.Participated in agile ceremonies, including sprint planning, daily stand-ups, and retrospectives, contributing to timely project delivery.Independently managed and resolved bugs and performance issues in existing codebase.Junior Software Developer | Digital Innovations Co. | June 2021 – July 2022Assisted senior developers in building and maintaining web applications using HTML, CSS, and JavaScript (ES6+).Contributed to the development of front-end components and back-end API endpoints.Gained experience with version control (Git) and project management tools (Jira).SkillsLanguages: JavaScript (ES6+), Python, HTML5, CSS3, SQLFrameworks/Libraries: React, Node.js, Express.js, Redux, jQueryDatabases: PostgreSQL, MongoDBTools & Platforms: Git, Docker, AWS (EC2, S3), Jira, Agile MethodologiesOther: RESTful APIs, Unit Testing (Jest, Mocha)EducationB.S. in Computer Science | City University | Graduated May 2021Relevant Coursework: Data Structures & Algorithms, Web Development, Database Management, Software Engineering </result>\" +\n",
    "             \"rank according to the following instructions:\" +\n",
    "             \"Rank 1 - Intern/Trainee: Little to no professional experience. Focus on academic projects, personal projects, and foundational programming skills. Rank 2 - Junior Developer: 0-2 years of experience. Demonstrates understanding of basic programming concepts and tools. Has contributed to smaller features or bug fixes under supervision. Rank 3 - Developer: 2-4 years of experience. Proficient in at least one programming language/stack. Can work independently on moderately complex tasks and features. Rank 4 - Senior Developer: 4-7 years of experience. Deep expertise in one or more areas. Can lead small projects, mentor junior developers, and make significant technical contributions. Responsible for system design and architecture of components. Rank 5 - Lead Developer/Tech Lead: 7+ years of experience. Leads a team of developers. Responsible for technical direction, code quality, and project delivery. Strong architectural and problem-solving skills. Rank 6 - Principal Engineer/Architect: 10+ years of experience. Recognized technical expert within the organization or community. Drives long-term technical strategy and innovation. Solves the most complex technical challenges. Rank 7 - Staff Engineer: Similar to Principal, often with a broader scope of influence across multiple teams or a critical company-wide system. Focuses on high-impact technical work and mentorship. Rank 8 - Senior Staff/Distinguished Engineer: Highly experienced and influential individual contributor. Shapes technical direction at a company or even industry level. Often has a strong external presence (e.g., open-source contributions, conference talks). Rank 9 - Engineering Manager (with strong technical background): Manages teams of engineers while retaining significant technical depth. Focuses on people management, project execution, and technical strategy alignment. CV would highlight both leadership and technical accomplishments. Rank 10 - CTO/VP of Engineering (for smaller companies/startups): Highest technical leadership role, responsible for the entire engineering organization, technology vision, and execution. CV would show a progression through many of the prior ranks and significant leadership/impact.\"))"
   ]
  },
  {
   "cell_type": "markdown",
   "metadata": {},
   "source": [
    "# Never trust blindly"
   ]
  },
  {
   "cell_type": "code",
   "execution_count": 12,
   "metadata": {},
   "outputs": [
    {
     "data": {
      "text/html": [
       "<pre style=\"white-space:pre;overflow-x:auto;line-height:normal;font-family:Menlo,'DejaVu Sans Mono',consolas,'Courier New',monospace\"><span style=\"color: #008080; text-decoration-color: #008080; font-weight: bold\">1</span>. Innovation and Technology: Tesla is at the forefront of electric vehicle technology and is constantly innovating\n",
       "and improving its products. Investing in Tesla means investing in cutting-edge technology that is shaping the \n",
       "future of transportation.\n",
       "\n",
       "<span style=\"color: #008080; text-decoration-color: #008080; font-weight: bold\">2</span>. Strong Performance: Tesla has consistently shown strong financial performance, with steady revenue growth and \n",
       "increasing market share in the electric vehicle industry. Its stock price has also experienced significant growth \n",
       "over the years, making it an attractive investment option.\n",
       "\n",
       "<span style=\"color: #008080; text-decoration-color: #008080; font-weight: bold\">3</span>. Environmental Benefits: By investing in Tesla, you are supporting a company that is committed to sustainability \n",
       "and reducing carbon emissions. Electric vehicles have a lower environmental impact compared to traditional \n",
       "gasoline-powered vehicles, which is becoming increasingly important as the world strives to combat climate change.\n",
       "\n",
       "<span style=\"color: #008080; text-decoration-color: #008080; font-weight: bold\">4</span>. Growth Potential: Tesla has ambitious plans for expansion, including the construction of new Gigafactories in \n",
       "different parts of the world and the development of new products such as electric trucks and self-driving \n",
       "technology. This growth potential can lead to increased revenue and profits in the future, making Tesla a promising\n",
       "long-term investment.\n",
       "\n",
       "<span style=\"color: #008080; text-decoration-color: #008080; font-weight: bold\">5</span>. Industry Leader: Tesla is a recognized leader in the electric vehicle market, with a strong brand and loyal \n",
       "customer base. By investing in Tesla, you are investing in a company that is well-positioned to capitalize on the \n",
       "growing demand for electric vehicles and other renewable energy solutions. This makes Tesla a solid investment \n",
       "choice for those looking to make a positive impact on the environment while earning a potentially lucrative return.\n",
       "</pre>\n"
      ],
      "text/plain": [
       "\u001b[1;36m1\u001b[0m. Innovation and Technology: Tesla is at the forefront of electric vehicle technology and is constantly innovating\n",
       "and improving its products. Investing in Tesla means investing in cutting-edge technology that is shaping the \n",
       "future of transportation.\n",
       "\n",
       "\u001b[1;36m2\u001b[0m. Strong Performance: Tesla has consistently shown strong financial performance, with steady revenue growth and \n",
       "increasing market share in the electric vehicle industry. Its stock price has also experienced significant growth \n",
       "over the years, making it an attractive investment option.\n",
       "\n",
       "\u001b[1;36m3\u001b[0m. Environmental Benefits: By investing in Tesla, you are supporting a company that is committed to sustainability \n",
       "and reducing carbon emissions. Electric vehicles have a lower environmental impact compared to traditional \n",
       "gasoline-powered vehicles, which is becoming increasingly important as the world strives to combat climate change.\n",
       "\n",
       "\u001b[1;36m4\u001b[0m. Growth Potential: Tesla has ambitious plans for expansion, including the construction of new Gigafactories in \n",
       "different parts of the world and the development of new products such as electric trucks and self-driving \n",
       "technology. This growth potential can lead to increased revenue and profits in the future, making Tesla a promising\n",
       "long-term investment.\n",
       "\n",
       "\u001b[1;36m5\u001b[0m. Industry Leader: Tesla is a recognized leader in the electric vehicle market, with a strong brand and loyal \n",
       "customer base. By investing in Tesla, you are investing in a company that is well-positioned to capitalize on the \n",
       "growing demand for electric vehicles and other renewable energy solutions. This makes Tesla a solid investment \n",
       "choice for those looking to make a positive impact on the environment while earning a potentially lucrative return.\n"
      ]
     },
     "metadata": {},
     "output_type": "display_data"
    }
   ],
   "source": [
    "print(invoke(\"Argue logically in 5 points why to invest in TESLA\"))"
   ]
  },
  {
   "cell_type": "code",
   "execution_count": 13,
   "metadata": {},
   "outputs": [
    {
     "data": {
      "text/html": [
       "<pre style=\"white-space:pre;overflow-x:auto;line-height:normal;font-family:Menlo,'DejaVu Sans Mono',consolas,'Courier New',monospace\"><span style=\"color: #008080; text-decoration-color: #008080; font-weight: bold\">1</span>. High volatility: Tesla stock has been known for its high volatility, which can lead to significant fluctuations \n",
       "in the price of the stock. This can make it risky for investors, as sudden drops in price can result in substantial\n",
       "losses.\n",
       "\n",
       "<span style=\"color: #008080; text-decoration-color: #008080; font-weight: bold\">2</span>. Limited profitability: Tesla has struggled to maintain consistent profitability, with the company reporting \n",
       "losses in several quarters. This lack of profitability can be concerning for investors, as it raises questions \n",
       "about the company's long-term sustainability.\n",
       "\n",
       "<span style=\"color: #008080; text-decoration-color: #008080; font-weight: bold\">3</span>. Competition: The electric vehicle market is becoming increasingly crowded, with several major automakers \n",
       "entering the space. This increased competition could impact Tesla's market share and profitability, as it may \n",
       "struggle to differentiate itself from competitors.\n",
       "\n",
       "<span style=\"color: #008080; text-decoration-color: #008080; font-weight: bold\">4</span>. Regulatory risks: Tesla operates in a heavily regulated industry, which subjects it to potential regulatory \n",
       "risks. Changes in regulations, such as stricter emissions standards or government incentives for electric vehicles,\n",
       "could impact Tesla's business and financial performance.\n",
       "\n",
       "<span style=\"color: #008080; text-decoration-color: #008080; font-weight: bold\">5</span>. Overvaluation: Some analysts argue that Tesla's stock is overvalued, given its high price-to-earnings ratio and \n",
       "other valuation metrics. An investment in Tesla at its current valuation may not provide a sufficient return for \n",
       "investors, as the stock may be trading at a premium relative to its intrinsic value.\n",
       "</pre>\n"
      ],
      "text/plain": [
       "\u001b[1;36m1\u001b[0m. High volatility: Tesla stock has been known for its high volatility, which can lead to significant fluctuations \n",
       "in the price of the stock. This can make it risky for investors, as sudden drops in price can result in substantial\n",
       "losses.\n",
       "\n",
       "\u001b[1;36m2\u001b[0m. Limited profitability: Tesla has struggled to maintain consistent profitability, with the company reporting \n",
       "losses in several quarters. This lack of profitability can be concerning for investors, as it raises questions \n",
       "about the company's long-term sustainability.\n",
       "\n",
       "\u001b[1;36m3\u001b[0m. Competition: The electric vehicle market is becoming increasingly crowded, with several major automakers \n",
       "entering the space. This increased competition could impact Tesla's market share and profitability, as it may \n",
       "struggle to differentiate itself from competitors.\n",
       "\n",
       "\u001b[1;36m4\u001b[0m. Regulatory risks: Tesla operates in a heavily regulated industry, which subjects it to potential regulatory \n",
       "risks. Changes in regulations, such as stricter emissions standards or government incentives for electric vehicles,\n",
       "could impact Tesla's business and financial performance.\n",
       "\n",
       "\u001b[1;36m5\u001b[0m. Overvaluation: Some analysts argue that Tesla's stock is overvalued, given its high price-to-earnings ratio and \n",
       "other valuation metrics. An investment in Tesla at its current valuation may not provide a sufficient return for \n",
       "investors, as the stock may be trading at a premium relative to its intrinsic value.\n"
      ]
     },
     "metadata": {},
     "output_type": "display_data"
    }
   ],
   "source": [
    "print(invoke(\"Argue logically in 5 points why not to invest in TESLA\"))"
   ]
  }
 ],
 "metadata": {
  "kernelspec": {
   "display_name": ".venv",
   "language": "python",
   "name": "python3"
  },
  "language_info": {
   "codemirror_mode": {
    "name": "ipython",
    "version": 3
   },
   "file_extension": ".py",
   "mimetype": "text/x-python",
   "name": "python",
   "nbconvert_exporter": "python",
   "pygments_lexer": "ipython3",
   "version": "3.13.2"
  }
 },
 "nbformat": 4,
 "nbformat_minor": 2
}
