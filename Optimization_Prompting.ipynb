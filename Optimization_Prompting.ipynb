{
 "cells": [
  {
   "cell_type": "code",
   "execution_count": 1,
   "metadata": {},
   "outputs": [
    {
     "data": {
      "text/html": [
       "<pre style=\"white-space:pre;overflow-x:auto;line-height:normal;font-family:Menlo,'DejaVu Sans Mono',consolas,'Courier New',monospace\">sk-proj-N9\n",
       "</pre>\n"
      ],
      "text/plain": [
       "sk-proj-N9\n"
      ]
     },
     "metadata": {},
     "output_type": "display_data"
    }
   ],
   "source": [
    "from openai import OpenAI\n",
    "from rich import print\n",
    "import os\n",
    "USING_DOTENV = True\n",
    "\n",
    "if(USING_DOTENV):\n",
    "    import dotenv\n",
    "    dotenv.load_dotenv()\n",
    "else:\n",
    "    print(\"hard coded\")\n",
    "    os.environ[\"OPENAI_API_KEY\"] = 'skh-asdfgsadgasdgasdga' # replace with your API key\n",
    "\n",
    "print(os.environ.get(\"OPENAI_API_KEY\")[:10])\n",
    "\n",
    "client = OpenAI()"
   ]
  },
  {
   "cell_type": "markdown",
   "metadata": {},
   "source": [
    "# Prompt Engineering"
   ]
  },
  {
   "cell_type": "markdown",
   "metadata": {},
   "source": [
    "\n",
    "<div style=\"text-align: left; margin-top: 40px; margin-bottom: 40px;\">\n",
    "\n",
    "<img src=\"https://drive.google.com/thumbnail?id=1u9SWgjdTQ68zvulpOF25gMAQ7Otwx53P\" alt=\"Description of Image\">\n",
    "</div>\n",
    "<span style=\"color:#eb323c\">\n",
    "\n",
    "\n",
    "- Notebook property of: LATENT Engineering Firm ltd.\n",
    "\n",
    "- Website: www.reachlatent.com\n",
    "\n",
    "- For similar talks / workshops reach out to: info@reachlatent.com\n",
    "</span>"
   ]
  },
  {
   "cell_type": "code",
   "execution_count": 2,
   "metadata": {},
   "outputs": [],
   "source": [
    "def invoke(prompt):\n",
    "    response = client.chat.completions.create(\n",
    "        model=\"gpt-3.5-turbo\",\n",
    "        messages=[{\"role\": \"user\", \"content\": prompt}]\n",
    "    )\n",
    "    return response.choices[0].message.content"
   ]
  },
  {
   "cell_type": "markdown",
   "metadata": {},
   "source": [
    "# A way out"
   ]
  },
  {
   "cell_type": "code",
   "execution_count": 5,
   "metadata": {},
   "outputs": [
    {
     "data": {
      "text/html": [
       "<pre style=\"white-space:pre;overflow-x:auto;line-height:normal;font-family:Menlo,'DejaVu Sans Mono',consolas,'Courier New',monospace\">The capital of Micauaw is Palikir.\n",
       "</pre>\n"
      ],
      "text/plain": [
       "The capital of Micauaw is Palikir.\n"
      ]
     },
     "metadata": {},
     "output_type": "display_data"
    }
   ],
   "source": [
    "print(invoke(\"What is the capital of Mikauaw?\"))"
   ]
  },
  {
   "cell_type": "code",
   "execution_count": 8,
   "metadata": {},
   "outputs": [
    {
     "data": {
      "text/html": [
       "<pre style=\"white-space:pre;overflow-x:auto;line-height:normal;font-family:Menlo,'DejaVu Sans Mono',consolas,'Courier New',monospace\">I don't know.\n",
       "</pre>\n"
      ],
      "text/plain": [
       "I don't know.\n"
      ]
     },
     "metadata": {},
     "output_type": "display_data"
    }
   ],
   "source": [
    "print(invoke(\"What is the capital of Mikauaw?\" + \"if you don't know, say 'I don't know.'\"))"
   ]
  },
  {
   "cell_type": "markdown",
   "metadata": {},
   "source": [
    "# Cheap chain of thought"
   ]
  },
  {
   "cell_type": "code",
   "execution_count": 8,
   "metadata": {},
   "outputs": [
    {
     "data": {
      "text/html": [
       "<pre style=\"white-space:pre;overflow-x:auto;line-height:normal;font-family:Menlo,'DejaVu Sans Mono',consolas,'Courier New',monospace\">Step <span style=\"color: #008080; text-decoration-color: #008080; font-weight: bold\">1</span>: Start with <span style=\"color: #008080; text-decoration-color: #008080; font-weight: bold\">23</span> apples\n",
       "Step <span style=\"color: #008080; text-decoration-color: #008080; font-weight: bold\">2</span>: Use <span style=\"color: #008080; text-decoration-color: #008080; font-weight: bold\">20</span> apples for lunch \n",
       "Step <span style=\"color: #008080; text-decoration-color: #008080; font-weight: bold\">3</span>: Subtract <span style=\"color: #008080; text-decoration-color: #008080; font-weight: bold\">20</span> from <span style=\"color: #008080; text-decoration-color: #008080; font-weight: bold\">23</span>: <span style=\"color: #008080; text-decoration-color: #008080; font-weight: bold\">23</span> - <span style=\"color: #008080; text-decoration-color: #008080; font-weight: bold\">20</span> = <span style=\"color: #008080; text-decoration-color: #008080; font-weight: bold\">3</span>\n",
       "Step <span style=\"color: #008080; text-decoration-color: #008080; font-weight: bold\">4</span>: Buy <span style=\"color: #008080; text-decoration-color: #008080; font-weight: bold\">6</span> more apples\n",
       "Step <span style=\"color: #008080; text-decoration-color: #008080; font-weight: bold\">5</span>: Add <span style=\"color: #008080; text-decoration-color: #008080; font-weight: bold\">6</span> to <span style=\"color: #008080; text-decoration-color: #008080; font-weight: bold\">3</span>: <span style=\"color: #008080; text-decoration-color: #008080; font-weight: bold\">6</span> + <span style=\"color: #008080; text-decoration-color: #008080; font-weight: bold\">3</span> = <span style=\"color: #008080; text-decoration-color: #008080; font-weight: bold\">9</span>\n",
       "\n",
       "Therefore, the cafeteria has <span style=\"color: #008080; text-decoration-color: #008080; font-weight: bold\">9</span> apples now.\n",
       "</pre>\n"
      ],
      "text/plain": [
       "Step \u001b[1;36m1\u001b[0m: Start with \u001b[1;36m23\u001b[0m apples\n",
       "Step \u001b[1;36m2\u001b[0m: Use \u001b[1;36m20\u001b[0m apples for lunch \n",
       "Step \u001b[1;36m3\u001b[0m: Subtract \u001b[1;36m20\u001b[0m from \u001b[1;36m23\u001b[0m: \u001b[1;36m23\u001b[0m - \u001b[1;36m20\u001b[0m = \u001b[1;36m3\u001b[0m\n",
       "Step \u001b[1;36m4\u001b[0m: Buy \u001b[1;36m6\u001b[0m more apples\n",
       "Step \u001b[1;36m5\u001b[0m: Add \u001b[1;36m6\u001b[0m to \u001b[1;36m3\u001b[0m: \u001b[1;36m6\u001b[0m + \u001b[1;36m3\u001b[0m = \u001b[1;36m9\u001b[0m\n",
       "\n",
       "Therefore, the cafeteria has \u001b[1;36m9\u001b[0m apples now.\n"
      ]
     },
     "metadata": {},
     "output_type": "display_data"
    }
   ],
   "source": [
    "prompt_without_cot =   \"\"\"Q: Roger has 5 tennis balls. He buys 2 more cans of\n",
    "                        tennis balls. Each can has 3 tennis balls. How many\n",
    "                        tennis balls does he have now?\n",
    "\n",
    "                        A: The answer is 11.\n",
    "                        \n",
    "                        Q: The cafeteria had 23 apples. If they used 20 to\n",
    "                        make lunch and bought 6 more, how many apples\n",
    "                        do they have?\n",
    "                        A:\"\"\"\n",
    "prompt_with_cheap_cot = prompt_without_cot + \"Let's think this step by step\"\n",
    "print(invoke(prompt_with_cheap_cot))"
   ]
  },
  {
   "cell_type": "markdown",
   "metadata": {},
   "source": [
    "# Don't tell the model what not to do!"
   ]
  },
  {
   "cell_type": "code",
   "execution_count": null,
   "metadata": {},
   "outputs": [
    {
     "data": {
      "text/html": [
       "<pre style=\"white-space:pre;overflow-x:auto;line-height:normal;font-family:Menlo,'DejaVu Sans Mono',consolas,'Courier New',monospace\"><span style=\"color: #008000; text-decoration-color: #008000\">\"The Godfather\"</span> is a timeless classic that has become a mainstay in the realm of cinema. Directed by Francis Ford \n",
       "Coppola, this movie tells the story of the powerful Corleone crime family and their rise to power in the world of \n",
       "organized crime.\n",
       "\n",
       "Marlon Brando delivers an unforgettable performance as Don Vito Corleone, the head of the family, while Al Pacino \n",
       "shines as his youngest son, Michael Corleone, who reluctantly gets drawn into the family business. The film's \n",
       "impeccable pacing, stellar performances, and intricate storytelling make it an absolute masterpiece.\n",
       "\n",
       "<span style=\"color: #008000; text-decoration-color: #008000\">\"The Godfather\"</span> is a cinematic marvel that continues to captivate audiences with its themes of loyalty, betrayal, \n",
       "and family. It's a must-watch for any film enthusiast and a true testament to the power of storytelling in film.\n",
       "</pre>\n"
      ],
      "text/plain": [
       "\u001b[32m\"The Godfather\"\u001b[0m is a timeless classic that has become a mainstay in the realm of cinema. Directed by Francis Ford \n",
       "Coppola, this movie tells the story of the powerful Corleone crime family and their rise to power in the world of \n",
       "organized crime.\n",
       "\n",
       "Marlon Brando delivers an unforgettable performance as Don Vito Corleone, the head of the family, while Al Pacino \n",
       "shines as his youngest son, Michael Corleone, who reluctantly gets drawn into the family business. The film's \n",
       "impeccable pacing, stellar performances, and intricate storytelling make it an absolute masterpiece.\n",
       "\n",
       "\u001b[32m\"The Godfather\"\u001b[0m is a cinematic marvel that continues to captivate audiences with its themes of loyalty, betrayal, \n",
       "and family. It's a must-watch for any film enthusiast and a true testament to the power of storytelling in film.\n"
      ]
     },
     "metadata": {},
     "output_type": "display_data"
    }
   ],
   "source": [
    "prompt = \"\"\"<role> You are a movie critic. </role>\n",
    "        <task> Don't write a short review of the movie \"The Godfather\".</task>\"\"\" \n",
    "print(invoke(prompt))"
   ]
  },
  {
   "cell_type": "markdown",
   "metadata": {},
   "source": [
    "# Emotional stimuli"
   ]
  },
  {
   "cell_type": "code",
   "execution_count": null,
   "metadata": {},
   "outputs": [
    {
     "data": {
      "text/html": [
       "<pre style=\"white-space:pre;overflow-x:auto;line-height:normal;font-family:Menlo,'DejaVu Sans Mono',consolas,'Courier New',monospace\">Whether or not to invest in CVS Health Corporation is a decision that should be based on thorough research and \n",
       "personal financial goals. Some factors to consider when determining if CVS is a good investment include the \n",
       "company's financial performance, competitive position in the market, growth potential, and future outlook. It is \n",
       "also important to consider the risks associated with investing in the healthcare sector and to consult with a \n",
       "financial advisor before making any investment decisions.\n",
       "</pre>\n"
      ],
      "text/plain": [
       "Whether or not to invest in CVS Health Corporation is a decision that should be based on thorough research and \n",
       "personal financial goals. Some factors to consider when determining if CVS is a good investment include the \n",
       "company's financial performance, competitive position in the market, growth potential, and future outlook. It is \n",
       "also important to consider the risks associated with investing in the healthcare sector and to consult with a \n",
       "financial advisor before making any investment decisions.\n"
      ]
     },
     "metadata": {},
     "output_type": "display_data"
    }
   ],
   "source": [
    "prompt_without_stimuli = \"\"\"\"Should I invest in CVS\n",
    "\"\"\"\n",
    "\n",
    "print(invoke(prompt_without_stimuli))"
   ]
  },
  {
   "cell_type": "code",
   "execution_count": null,
   "metadata": {},
   "outputs": [
    {
     "data": {
      "text/html": [
       "<pre style=\"white-space:pre;overflow-x:auto;line-height:normal;font-family:Menlo,'DejaVu Sans Mono',consolas,'Courier New',monospace\">As of the current state of the economy, there are several key factors that should be taken into consideration when \n",
       "deciding whether to invest in CVS. \n",
       "\n",
       "<span style=\"color: #008080; text-decoration-color: #008080; font-weight: bold\">1</span>. Overall Economic Performance: The economy is currently experiencing a period of moderate growth, with GDP \n",
       "increasing steadily over the past few quarters. Unemployment rates are also relatively low, indicating a healthy \n",
       "job market. Consumer confidence remains strong, with spending on goods and services continuing to rise.\n",
       "\n",
       "<span style=\"color: #008080; text-decoration-color: #008080; font-weight: bold\">2</span>. Healthcare Industry Performance: The healthcare industry is a key sector of the economy, and CVS Health \n",
       "Corporation is a major player in this industry. Healthcare spending in the United States continues to grow, driven \n",
       "by factors such as an aging population, increasing prevalence of chronic diseases, and technological advancements \n",
       "in medical treatments. CVS's diverse business portfolio, which includes retail pharmacy, healthcare services, and \n",
       "health insurance, positions the company well to benefit from these trends.\n",
       "\n",
       "<span style=\"color: #008080; text-decoration-color: #008080; font-weight: bold\">3</span>. Competitor Analysis: CVS faces competition from other major healthcare companies such as Walgreens, Rite Aid, \n",
       "and Walmart, as well as from online pharmacy retailers like Amazon. It is important to assess how CVS compares to \n",
       "its competitors in terms of market share, pricing strategies, and product offerings in order to determine its \n",
       "strength in the market.\n",
       "\n",
       "<span style=\"color: #008080; text-decoration-color: #008080; font-weight: bold\">4</span>. Regulatory Environment: Healthcare is a highly regulated industry, and changes in regulations can have a \n",
       "significant impact on companies operating in this sector. It is important to monitor regulatory developments, such \n",
       "as changes in healthcare policy, drug pricing regulations, and government healthcare programs, that could affect \n",
       "CVS's business operations and financial performance.\n",
       "\n",
       "<span style=\"color: #008080; text-decoration-color: #008080; font-weight: bold\">5</span>. Financial Performance: In evaluating whether to invest in CVS, it is important to analyze the company's \n",
       "financial performance, including revenue growth, profit margins, and cash flow. Investors should also consider \n",
       "factors such as debt levels, dividend payouts, and stock performance in assessing the company's overall financial \n",
       "health.\n",
       "\n",
       "Based on the current state of the economy and the factors mentioned above, it appears that CVS is well positioned \n",
       "to capitalize on the opportunities presented by the growing healthcare industry. However, investors should conduct \n",
       "further research and analysis to evaluate the company's performance relative to its competitors and to assess the \n",
       "potential risks and challenges facing the business. It is recommended to consult with a financial advisor or \n",
       "investment professional before making any investment decisions.\n",
       "</pre>\n"
      ],
      "text/plain": [
       "As of the current state of the economy, there are several key factors that should be taken into consideration when \n",
       "deciding whether to invest in CVS. \n",
       "\n",
       "\u001b[1;36m1\u001b[0m. Overall Economic Performance: The economy is currently experiencing a period of moderate growth, with GDP \n",
       "increasing steadily over the past few quarters. Unemployment rates are also relatively low, indicating a healthy \n",
       "job market. Consumer confidence remains strong, with spending on goods and services continuing to rise.\n",
       "\n",
       "\u001b[1;36m2\u001b[0m. Healthcare Industry Performance: The healthcare industry is a key sector of the economy, and CVS Health \n",
       "Corporation is a major player in this industry. Healthcare spending in the United States continues to grow, driven \n",
       "by factors such as an aging population, increasing prevalence of chronic diseases, and technological advancements \n",
       "in medical treatments. CVS's diverse business portfolio, which includes retail pharmacy, healthcare services, and \n",
       "health insurance, positions the company well to benefit from these trends.\n",
       "\n",
       "\u001b[1;36m3\u001b[0m. Competitor Analysis: CVS faces competition from other major healthcare companies such as Walgreens, Rite Aid, \n",
       "and Walmart, as well as from online pharmacy retailers like Amazon. It is important to assess how CVS compares to \n",
       "its competitors in terms of market share, pricing strategies, and product offerings in order to determine its \n",
       "strength in the market.\n",
       "\n",
       "\u001b[1;36m4\u001b[0m. Regulatory Environment: Healthcare is a highly regulated industry, and changes in regulations can have a \n",
       "significant impact on companies operating in this sector. It is important to monitor regulatory developments, such \n",
       "as changes in healthcare policy, drug pricing regulations, and government healthcare programs, that could affect \n",
       "CVS's business operations and financial performance.\n",
       "\n",
       "\u001b[1;36m5\u001b[0m. Financial Performance: In evaluating whether to invest in CVS, it is important to analyze the company's \n",
       "financial performance, including revenue growth, profit margins, and cash flow. Investors should also consider \n",
       "factors such as debt levels, dividend payouts, and stock performance in assessing the company's overall financial \n",
       "health.\n",
       "\n",
       "Based on the current state of the economy and the factors mentioned above, it appears that CVS is well positioned \n",
       "to capitalize on the opportunities presented by the growing healthcare industry. However, investors should conduct \n",
       "further research and analysis to evaluate the company's performance relative to its competitors and to assess the \n",
       "potential risks and challenges facing the business. It is recommended to consult with a financial advisor or \n",
       "investment professional before making any investment decisions.\n"
      ]
     },
     "metadata": {},
     "output_type": "display_data"
    }
   ],
   "source": [
    "prompt_without_stimuli = \"\"\"\"Should I invest in CVS\n",
    "\"\"\"\n",
    "\n",
    "print(invoke(prompt_without_stimuli + \" My job depends on this\"))"
   ]
  },
  {
   "cell_type": "markdown",
   "metadata": {},
   "source": [
    "# Ranking\n"
   ]
  },
  {
   "cell_type": "code",
   "execution_count": 3,
   "metadata": {},
   "outputs": [
    {
     "data": {
      "text/html": [
       "<pre style=\"white-space:pre;overflow-x:auto;line-height:normal;font-family:Menlo,'DejaVu Sans Mono',consolas,'Courier New',monospace\">I would rate this result a <span style=\"color: #008080; text-decoration-color: #008080; font-weight: bold\">7</span> out of <span style=\"color: #008080; text-decoration-color: #008080; font-weight: bold\">10</span>. It shows a good mix of programming languages and web development skills. \n",
       "However, it could be improved by providing more detail about the level of proficiency in each language.\n",
       "</pre>\n"
      ],
      "text/plain": [
       "I would rate this result a \u001b[1;36m7\u001b[0m out of \u001b[1;36m10\u001b[0m. It shows a good mix of programming languages and web development skills. \n",
       "However, it could be improved by providing more detail about the level of proficiency in each language.\n"
      ]
     },
     "metadata": {},
     "output_type": "display_data"
    }
   ],
   "source": [
    "print(invoke(\"Score this result from 1 to 10. <result> CV: python, C, HTML, CSS </result>\"))"
   ]
  },
  {
   "cell_type": "code",
   "execution_count": 4,
   "metadata": {},
   "outputs": [
    {
     "data": {
      "text/html": [
       "<pre style=\"white-space:pre;overflow-x:auto;line-height:normal;font-family:Menlo,'DejaVu Sans Mono',consolas,'Courier New',monospace\">I would rate this result a <span style=\"color: #008080; text-decoration-color: #008080; font-weight: bold\">9</span>. The candidate is proficient in Python and C, which are highly valuable skills. \n",
       "However, they do not mention any experience with HTML or CSS, which could be important depending on the specific \n",
       "job requirements.\n",
       "</pre>\n"
      ],
      "text/plain": [
       "I would rate this result a \u001b[1;36m9\u001b[0m. The candidate is proficient in Python and C, which are highly valuable skills. \n",
       "However, they do not mention any experience with HTML or CSS, which could be important depending on the specific \n",
       "job requirements.\n"
      ]
     },
     "metadata": {},
     "output_type": "display_data"
    }
   ],
   "source": [
    "print(invoke(\"Score this result from 1 to 10.\" + \n",
    "             \"<result> CV: python, C, HTML, CSS </result>\" +\n",
    "             \"rank according to the following instructions:\" +\n",
    "             \"candidate that knows C or Python is a 10\"))"
   ]
  },
  {
   "cell_type": "markdown",
   "metadata": {},
   "source": [
    "# Never trust blindly"
   ]
  },
  {
   "cell_type": "code",
   "execution_count": 5,
   "metadata": {},
   "outputs": [
    {
     "data": {
      "text/html": [
       "<pre style=\"white-space:pre;overflow-x:auto;line-height:normal;font-family:Menlo,'DejaVu Sans Mono',consolas,'Courier New',monospace\"><span style=\"color: #008080; text-decoration-color: #008080; font-weight: bold\">1</span>. High demand for electric vehicles: With increasing concerns about climate change and the shift towards renewable\n",
       "energy sources, there is a growing demand for electric vehicles. Tesla is at the forefront of this movement, with \n",
       "its innovative electric car models that have gained popularity among consumers.\n",
       "\n",
       "<span style=\"color: #008080; text-decoration-color: #008080; font-weight: bold\">2</span>. Leading technology and innovation: Tesla is known for its cutting-edge technology and constant innovation in the\n",
       "electric vehicle industry. The company continues to push boundaries with advancements in battery technology, \n",
       "self-driving capabilities, and renewable energy solutions.\n",
       "\n",
       "<span style=\"color: #008080; text-decoration-color: #008080; font-weight: bold\">3</span>. Strong brand reputation: Tesla has built a strong brand reputation as a pioneer in the electric vehicle market. \n",
       "The company's focus on sustainability, performance, and design has attracted a loyal customer base and positive \n",
       "public perception.\n",
       "\n",
       "<span style=\"color: #008080; text-decoration-color: #008080; font-weight: bold\">4</span>. Market dominance: Tesla currently dominates the electric vehicle market, accounting for a significant share of \n",
       "global electric vehicle sales. As the demand for electric vehicles continues to grow, Tesla is well-positioned to \n",
       "capitalize on this trend and maintain its market leadership.\n",
       "\n",
       "<span style=\"color: #008080; text-decoration-color: #008080; font-weight: bold\">5</span>. Potential for long-term growth: With the increasing regulatory pressure to reduce carbon emissions and \n",
       "transition to electric vehicles, Tesla has significant growth potential in the long term. As the company expands \n",
       "its product offerings, enters new markets, and continues to innovate, there are opportunities for continued growth \n",
       "and profitability for investors.\n",
       "</pre>\n"
      ],
      "text/plain": [
       "\u001b[1;36m1\u001b[0m. High demand for electric vehicles: With increasing concerns about climate change and the shift towards renewable\n",
       "energy sources, there is a growing demand for electric vehicles. Tesla is at the forefront of this movement, with \n",
       "its innovative electric car models that have gained popularity among consumers.\n",
       "\n",
       "\u001b[1;36m2\u001b[0m. Leading technology and innovation: Tesla is known for its cutting-edge technology and constant innovation in the\n",
       "electric vehicle industry. The company continues to push boundaries with advancements in battery technology, \n",
       "self-driving capabilities, and renewable energy solutions.\n",
       "\n",
       "\u001b[1;36m3\u001b[0m. Strong brand reputation: Tesla has built a strong brand reputation as a pioneer in the electric vehicle market. \n",
       "The company's focus on sustainability, performance, and design has attracted a loyal customer base and positive \n",
       "public perception.\n",
       "\n",
       "\u001b[1;36m4\u001b[0m. Market dominance: Tesla currently dominates the electric vehicle market, accounting for a significant share of \n",
       "global electric vehicle sales. As the demand for electric vehicles continues to grow, Tesla is well-positioned to \n",
       "capitalize on this trend and maintain its market leadership.\n",
       "\n",
       "\u001b[1;36m5\u001b[0m. Potential for long-term growth: With the increasing regulatory pressure to reduce carbon emissions and \n",
       "transition to electric vehicles, Tesla has significant growth potential in the long term. As the company expands \n",
       "its product offerings, enters new markets, and continues to innovate, there are opportunities for continued growth \n",
       "and profitability for investors.\n"
      ]
     },
     "metadata": {},
     "output_type": "display_data"
    }
   ],
   "source": [
    "print(invoke(\"Argue logically in 5 points why to invest in TESLA\"))"
   ]
  },
  {
   "cell_type": "code",
   "execution_count": 6,
   "metadata": {},
   "outputs": [
    {
     "data": {
      "text/html": [
       "<pre style=\"white-space:pre;overflow-x:auto;line-height:normal;font-family:Menlo,'DejaVu Sans Mono',consolas,'Courier New',monospace\"><span style=\"color: #008080; text-decoration-color: #008080; font-weight: bold\">1</span>. Tesla has a history of erratic stock prices: Tesla's stock prices have been known to fluctuate widely, \n",
       "presenting a risky investment opportunity for both short-term and long-term investors.\n",
       "\n",
       "<span style=\"color: #008080; text-decoration-color: #008080; font-weight: bold\">2</span>. Questionable profitability: Despite the company's growth and innovation in the electric vehicle market, Tesla \n",
       "has struggled to consistently turn a profit. This raises concerns about the company's long-term financial stability\n",
       "and ability to sustain growth.\n",
       "\n",
       "<span style=\"color: #008080; text-decoration-color: #008080; font-weight: bold\">3</span>. Competition from established automakers: Tesla now faces increased competition from traditional automakers who \n",
       "are entering the electric vehicle market. This could potentially erode Tesla's market share and impact future \n",
       "profitability.\n",
       "\n",
       "<span style=\"color: #008080; text-decoration-color: #008080; font-weight: bold\">4</span>. Technological risks: Investing in Tesla carries inherent technological risks, as the company heavily relies on \n",
       "advancements in battery technology and autonomous driving systems. Any setbacks in these areas could negatively \n",
       "impact Tesla's future growth prospects.\n",
       "\n",
       "<span style=\"color: #008080; text-decoration-color: #008080; font-weight: bold\">5</span>. Regulatory challenges: Tesla's operations are subject to various regulatory challenges, including concerns over \n",
       "vehicle safety, production capacity, and labor practices. These challenges could lead to increased scrutiny, fines,\n",
       "or restrictions that could impact Tesla's financial performance.\n",
       "</pre>\n"
      ],
      "text/plain": [
       "\u001b[1;36m1\u001b[0m. Tesla has a history of erratic stock prices: Tesla's stock prices have been known to fluctuate widely, \n",
       "presenting a risky investment opportunity for both short-term and long-term investors.\n",
       "\n",
       "\u001b[1;36m2\u001b[0m. Questionable profitability: Despite the company's growth and innovation in the electric vehicle market, Tesla \n",
       "has struggled to consistently turn a profit. This raises concerns about the company's long-term financial stability\n",
       "and ability to sustain growth.\n",
       "\n",
       "\u001b[1;36m3\u001b[0m. Competition from established automakers: Tesla now faces increased competition from traditional automakers who \n",
       "are entering the electric vehicle market. This could potentially erode Tesla's market share and impact future \n",
       "profitability.\n",
       "\n",
       "\u001b[1;36m4\u001b[0m. Technological risks: Investing in Tesla carries inherent technological risks, as the company heavily relies on \n",
       "advancements in battery technology and autonomous driving systems. Any setbacks in these areas could negatively \n",
       "impact Tesla's future growth prospects.\n",
       "\n",
       "\u001b[1;36m5\u001b[0m. Regulatory challenges: Tesla's operations are subject to various regulatory challenges, including concerns over \n",
       "vehicle safety, production capacity, and labor practices. These challenges could lead to increased scrutiny, fines,\n",
       "or restrictions that could impact Tesla's financial performance.\n"
      ]
     },
     "metadata": {},
     "output_type": "display_data"
    }
   ],
   "source": [
    "print(invoke(\"Argue logically in 5 points why not to invest in TESLA\"))"
   ]
  }
 ],
 "metadata": {
  "kernelspec": {
   "display_name": ".venv",
   "language": "python",
   "name": "python3"
  },
  "language_info": {
   "codemirror_mode": {
    "name": "ipython",
    "version": 3
   },
   "file_extension": ".py",
   "mimetype": "text/x-python",
   "name": "python",
   "nbconvert_exporter": "python",
   "pygments_lexer": "ipython3",
   "version": "3.13.2"
  }
 },
 "nbformat": 4,
 "nbformat_minor": 2
}
