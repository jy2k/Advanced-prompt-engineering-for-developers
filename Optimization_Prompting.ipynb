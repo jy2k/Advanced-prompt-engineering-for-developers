{
 "cells": [
  {
   "cell_type": "code",
   "metadata": {
    "ExecuteTime": {
     "end_time": "2025-07-10T06:31:35.599713Z",
     "start_time": "2025-07-10T06:31:35.303427Z"
    }
   },
   "source": [
    "from openai import OpenAI\n",
    "from rich import print\n",
    "import os\n",
    "USING_DOTENV = True\n",
    "\n",
    "if(USING_DOTENV):\n",
    "    import dotenv\n",
    "    dotenv.load_dotenv()\n",
    "else:\n",
    "    print(\"hard coded\")\n",
    "    os.environ[\"OPENAI_API_KEY\"] = 'skh-asdfgsadgasdgasdga' # replace with your API key\n",
    "\n",
    "print(os.environ.get(\"OPENAI_API_KEY\")[:10])\n",
    "\n",
    "client = OpenAI()"
   ],
   "outputs": [
    {
     "data": {
      "text/plain": [
       "sk-proj-D-\n"
      ],
      "text/html": [
       "<pre style=\"white-space:pre;overflow-x:auto;line-height:normal;font-family:Menlo,'DejaVu Sans Mono',consolas,'Courier New',monospace\">sk-proj-D-\n",
       "</pre>\n"
      ]
     },
     "metadata": {},
     "output_type": "display_data"
    }
   ],
   "execution_count": 2
  },
  {
   "cell_type": "markdown",
   "metadata": {},
   "source": [
    "# Prompt Engineering"
   ]
  },
  {
   "cell_type": "markdown",
   "metadata": {},
   "source": [
    "\n",
    "<div style=\"text-align: left; margin-top: 40px; margin-bottom: 40px;\">\n",
    "\n",
    "<img src=\"https://drive.google.com/thumbnail?id=1u9SWgjdTQ68zvulpOF25gMAQ7Otwx53P\" alt=\"Description of Image\">\n",
    "</div>\n",
    "<span style=\"color:#eb323c\">\n",
    "\n",
    "\n",
    "- Notebook property of: LATENT Engineering Firm ltd.\n",
    "\n",
    "- Website: www.reachlatent.com\n",
    "\n",
    "- For similar talks / workshops reach out to: info@reachlatent.com\n",
    "</span>"
   ]
  },
  {
   "cell_type": "code",
   "metadata": {
    "ExecuteTime": {
     "end_time": "2025-07-10T06:31:38.221830Z",
     "start_time": "2025-07-10T06:31:38.219397Z"
    }
   },
   "source": [
    "def invoke(prompt):\n",
    "    response = client.chat.completions.create(\n",
    "        model=\"gpt-3.5-turbo\",\n",
    "        messages=[{\"role\": \"user\", \"content\": prompt}]\n",
    "    )\n",
    "    return response.choices[0].message.content"
   ],
   "outputs": [],
   "execution_count": 3
  },
  {
   "cell_type": "markdown",
   "metadata": {},
   "source": [
    "# A way out"
   ]
  },
  {
   "cell_type": "code",
   "execution_count": 6,
   "metadata": {},
   "outputs": [
    {
     "data": {
      "text/html": [
       "<pre style=\"white-space:pre;overflow-x:auto;line-height:normal;font-family:Menlo,'DejaVu Sans Mono',consolas,'Courier New',monospace\">The capital of Mikauawer is Yerevan.\n",
       "</pre>\n"
      ],
      "text/plain": [
       "The capital of Mikauawer is Yerevan.\n"
      ]
     },
     "metadata": {},
     "output_type": "display_data"
    }
   ],
   "source": [
    "print(invoke(\"What is the capital of Mikauawer?\"))"
   ]
  },
  {
   "cell_type": "code",
   "execution_count": 7,
   "metadata": {},
   "outputs": [
    {
     "data": {
      "text/html": [
       "<pre style=\"white-space:pre;overflow-x:auto;line-height:normal;font-family:Menlo,'DejaVu Sans Mono',consolas,'Courier New',monospace\">I don't know.\n",
       "</pre>\n"
      ],
      "text/plain": [
       "I don't know.\n"
      ]
     },
     "metadata": {},
     "output_type": "display_data"
    }
   ],
   "source": [
    "print(invoke(\"What is the capital of Mikauawer?\" + \"if you don't know, say 'I don't know.'\"))"
   ]
  },
  {
   "cell_type": "markdown",
   "metadata": {},
   "source": [
    "# Cheap chain of thought"
   ]
  },
  {
   "cell_type": "code",
   "execution_count": 6,
   "metadata": {},
   "outputs": [
    {
     "data": {
      "text/html": [
       "<pre style=\"white-space:pre;overflow-x:auto;line-height:normal;font-family:Menlo,'DejaVu Sans Mono',consolas,'Courier New',monospace\">Step <span style=\"color: #008080; text-decoration-color: #008080; font-weight: bold\">1</span>: Start with the initial number of apples, which is <span style=\"color: #008080; text-decoration-color: #008080; font-weight: bold\">23</span>.\n",
       "Step <span style=\"color: #008080; text-decoration-color: #008080; font-weight: bold\">2</span>: Subtract the number of apples used to make lunch, which is <span style=\"color: #008080; text-decoration-color: #008080; font-weight: bold\">20</span>. \n",
       "<span style=\"color: #008080; text-decoration-color: #008080; font-weight: bold\">23</span> - <span style=\"color: #008080; text-decoration-color: #008080; font-weight: bold\">20</span> = <span style=\"color: #008080; text-decoration-color: #008080; font-weight: bold\">3</span>\n",
       "Step <span style=\"color: #008080; text-decoration-color: #008080; font-weight: bold\">3</span>: Add the number of apples bought, which is <span style=\"color: #008080; text-decoration-color: #008080; font-weight: bold\">6</span>.\n",
       "<span style=\"color: #008080; text-decoration-color: #008080; font-weight: bold\">3</span> + <span style=\"color: #008080; text-decoration-color: #008080; font-weight: bold\">6</span> = <span style=\"color: #008080; text-decoration-color: #008080; font-weight: bold\">9</span>\n",
       "Answer: The cafeteria now has <span style=\"color: #008080; text-decoration-color: #008080; font-weight: bold\">9</span> apples.\n",
       "</pre>\n"
      ],
      "text/plain": [
       "Step \u001B[1;36m1\u001B[0m: Start with the initial number of apples, which is \u001B[1;36m23\u001B[0m.\n",
       "Step \u001B[1;36m2\u001B[0m: Subtract the number of apples used to make lunch, which is \u001B[1;36m20\u001B[0m. \n",
       "\u001B[1;36m23\u001B[0m - \u001B[1;36m20\u001B[0m = \u001B[1;36m3\u001B[0m\n",
       "Step \u001B[1;36m3\u001B[0m: Add the number of apples bought, which is \u001B[1;36m6\u001B[0m.\n",
       "\u001B[1;36m3\u001B[0m + \u001B[1;36m6\u001B[0m = \u001B[1;36m9\u001B[0m\n",
       "Answer: The cafeteria now has \u001B[1;36m9\u001B[0m apples.\n"
      ]
     },
     "metadata": {},
     "output_type": "display_data"
    }
   ],
   "source": [
    "prompt_without_cot =   \"\"\"Q: Roger has 5 tennis balls. He buys 2 more cans of\n",
    "                        tennis balls. Each can has 3 tennis balls. How many\n",
    "                        tennis balls does he have now?\n",
    "\n",
    "                        A: The answer is 11.\n",
    "                        \n",
    "                        Q: The cafeteria had 23 apples. If they used 20 to\n",
    "                        make lunch and bought 6 more, how many apples\n",
    "                        do they have?\n",
    "                        A:\"\"\"\n",
    "prompt_with_cheap_cot = prompt_without_cot + \"Let's think this step by step\"\n",
    "print(invoke(prompt_with_cheap_cot))"
   ]
  },
  {
   "cell_type": "markdown",
   "metadata": {},
   "source": [
    "# Don't tell the model what not to do!"
   ]
  },
  {
   "cell_type": "code",
   "execution_count": 7,
   "metadata": {},
   "outputs": [
    {
     "data": {
      "text/html": [
       "<pre style=\"white-space:pre;overflow-x:auto;line-height:normal;font-family:Menlo,'DejaVu Sans Mono',consolas,'Courier New',monospace\"><span style=\"color: #008000; text-decoration-color: #008000\">\"The Godfather\"</span> is a cinematic masterpiece that has stood the test of time since its release in <span style=\"color: #008080; text-decoration-color: #008080; font-weight: bold\">1972</span>. Directed by \n",
       "Francis Ford Coppola, the film follows the powerful Corleone family as they navigate the treacherous world of \n",
       "organized crime in 1940s New York. With its stellar cast including Marlon Brando, Al Pacino, and James Caan, <span style=\"color: #008000; text-decoration-color: #008000\">\"The </span>\n",
       "<span style=\"color: #008000; text-decoration-color: #008000\">Godfather\"</span> is a gripping tale of loyalty, betrayal, and the price of power. From its iconic performances to its \n",
       "sweeping score and intricate storytelling, this film remains a classic in the world of cinema.\n",
       "</pre>\n"
      ],
      "text/plain": [
       "\u001B[32m\"The Godfather\"\u001B[0m is a cinematic masterpiece that has stood the test of time since its release in \u001B[1;36m1972\u001B[0m. Directed by \n",
       "Francis Ford Coppola, the film follows the powerful Corleone family as they navigate the treacherous world of \n",
       "organized crime in 1940s New York. With its stellar cast including Marlon Brando, Al Pacino, and James Caan, \u001B[32m\"The \u001B[0m\n",
       "\u001B[32mGodfather\"\u001B[0m is a gripping tale of loyalty, betrayal, and the price of power. From its iconic performances to its \n",
       "sweeping score and intricate storytelling, this film remains a classic in the world of cinema.\n"
      ]
     },
     "metadata": {},
     "output_type": "display_data"
    }
   ],
   "source": [
    "prompt = \"\"\"<role> You are a movie critic. </role>\n",
    "        <task> Don't write a short review of the movie \"The Godfather\".</task>\"\"\" \n",
    "print(invoke(prompt))"
   ]
  },
  {
   "cell_type": "markdown",
   "metadata": {},
   "source": [
    "# Emotional stimuli"
   ]
  },
  {
   "cell_type": "code",
   "execution_count": 8,
   "metadata": {},
   "outputs": [
    {
     "data": {
      "text/html": [
       "<pre style=\"white-space:pre;overflow-x:auto;line-height:normal;font-family:Menlo,'DejaVu Sans Mono',consolas,'Courier New',monospace\">As an AI language model, I cannot provide personalized investment advice. However, before investing in CVS or any \n",
       "other stock, it is important to conduct thorough research on the company, its financial performance, market \n",
       "conditions, and future growth potential. Additionally, consider seeking guidance from a financial advisor to help \n",
       "you make informed investment decisions based on your financial goals and risk tolerance.\n",
       "</pre>\n"
      ],
      "text/plain": [
       "As an AI language model, I cannot provide personalized investment advice. However, before investing in CVS or any \n",
       "other stock, it is important to conduct thorough research on the company, its financial performance, market \n",
       "conditions, and future growth potential. Additionally, consider seeking guidance from a financial advisor to help \n",
       "you make informed investment decisions based on your financial goals and risk tolerance.\n"
      ]
     },
     "metadata": {},
     "output_type": "display_data"
    }
   ],
   "source": [
    "prompt_without_stimuli = \"\"\"\"Should I invest in CVS\n",
    "\"\"\"\n",
    "\n",
    "print(invoke(prompt_without_stimuli))"
   ]
  },
  {
   "cell_type": "code",
   "execution_count": 9,
   "metadata": {},
   "outputs": [
    {
     "data": {
      "text/html": [
       "<pre style=\"white-space:pre;overflow-x:auto;line-height:normal;font-family:Menlo,'DejaVu Sans Mono',consolas,'Courier New',monospace\">Investing in any stock carries risk and it is important to carefully consider your financial situation and goals \n",
       "before making any investment decisions. It is also important to diversify your investments to reduce risk.\n",
       "\n",
       "As for CVS specifically, it is a well-known retail pharmacy and healthcare company with a strong presence in the US\n",
       "market. They have been expanding their services beyond traditional retail pharmacy, including through their \n",
       "acquisition of the health insurance company Aetna.\n",
       "\n",
       "However, the healthcare industry can be complex and subject to regulatory changes, which could impact the \n",
       "performance of CVS stock. Additionally, the company faces competition from other pharmacies and online retailers.\n",
       "\n",
       "If your job depends on the success of CVS, it may not be wise to invest all of your savings in the company's stock.\n",
       "Consider consulting with a financial advisor to determine the best investment strategy for your situation.\n",
       "</pre>\n"
      ],
      "text/plain": [
       "Investing in any stock carries risk and it is important to carefully consider your financial situation and goals \n",
       "before making any investment decisions. It is also important to diversify your investments to reduce risk.\n",
       "\n",
       "As for CVS specifically, it is a well-known retail pharmacy and healthcare company with a strong presence in the US\n",
       "market. They have been expanding their services beyond traditional retail pharmacy, including through their \n",
       "acquisition of the health insurance company Aetna.\n",
       "\n",
       "However, the healthcare industry can be complex and subject to regulatory changes, which could impact the \n",
       "performance of CVS stock. Additionally, the company faces competition from other pharmacies and online retailers.\n",
       "\n",
       "If your job depends on the success of CVS, it may not be wise to invest all of your savings in the company's stock.\n",
       "Consider consulting with a financial advisor to determine the best investment strategy for your situation.\n"
      ]
     },
     "metadata": {},
     "output_type": "display_data"
    }
   ],
   "source": [
    "prompt_without_stimuli = \"\"\"\"Should I invest in CVS\n",
    "\"\"\"\n",
    "\n",
    "print(invoke(prompt_without_stimuli + \" My job depends on this\"))"
   ]
  },
  {
   "cell_type": "markdown",
   "metadata": {},
   "source": [
    "# Ranking\n"
   ]
  },
  {
   "cell_type": "code",
   "execution_count": 10,
   "metadata": {},
   "outputs": [
    {
     "data": {
      "text/html": [
       "<pre style=\"white-space:pre;overflow-x:auto;line-height:normal;font-family:Menlo,'DejaVu Sans Mono',consolas,'Courier New',monospace\">I would rate this result a <span style=\"color: #008080; text-decoration-color: #008080; font-weight: bold\">7</span> out of <span style=\"color: #008080; text-decoration-color: #008080; font-weight: bold\">10</span>. Having experience with Python, C, HTML, and CSS is a strong set of skills, \n",
       "but there may be room for improvement or expansion in terms of languages or technologies.\n",
       "</pre>\n"
      ],
      "text/plain": [
       "I would rate this result a \u001B[1;36m7\u001B[0m out of \u001B[1;36m10\u001B[0m. Having experience with Python, C, HTML, and CSS is a strong set of skills, \n",
       "but there may be room for improvement or expansion in terms of languages or technologies.\n"
      ]
     },
     "metadata": {},
     "output_type": "display_data"
    }
   ],
   "source": [
    "print(invoke(\"Score this result from 1 to 10. <result> CV: python, C, HTML, CSS </result>\"))"
   ]
  },
  {
   "cell_type": "code",
   "execution_count": 16,
   "metadata": {},
   "outputs": [
    {
     "data": {
      "text/html": [
       "<pre style=\"white-space:pre;overflow-x:auto;line-height:normal;font-family:Menlo,'DejaVu Sans Mono',consolas,'Courier New',monospace\">I would rate this result as a <span style=\"color: #008080; text-decoration-color: #008080; font-weight: bold\">7</span> - Staff Engineer. The individual shows expertise in various technical areas, leads \n",
       "high-impact projects, and mentors junior engineers, but may not have the same level of influence or recognition as \n",
       "a Principal Engineer/Architect or higher-ranking roles.\n",
       "</pre>\n"
      ],
      "text/plain": [
       "I would rate this result as a \u001B[1;36m7\u001B[0m - Staff Engineer. The individual shows expertise in various technical areas, leads \n",
       "high-impact projects, and mentors junior engineers, but may not have the same level of influence or recognition as \n",
       "a Principal Engineer/Architect or higher-ranking roles.\n"
      ]
     },
     "metadata": {},
     "output_type": "display_data"
    }
   ],
   "source": [
    "print(invoke(\"Score this result from 1 to 10.\" + \n",
    "             \"<result> Principal Engineer/Architect** level, with 10+ years of experience.---**John Doe**Principal Engineer / ArchitectEmail: [johndoe@example.com](mailto:johndoe@example.com) | LinkedIn: linkedin.com/in/johndoe | GitHub: github.com/johndoe | Location: New York, NY---### **Professional Summary**A highly skilled and experienced Principal Engineer/Architect with over 10 years in designing, developing, and delivering complex software systems. Proven track record of leading high-impact technical projects and initiatives that have shaped product roadmaps, improved architecture, and optimized processes across multiple teams. Expertise in distributed systems, cloud-native architectures, and performance optimization. Passionate about mentoring and fostering innovation while delivering technical solutions that drive business success.---### **Core Competencies*** Software Architecture & System Design* Cloud-Native Solutions (AWS, GCP, Azure)* Microservices Architecture & APIs* Distributed Systems & High Availability* Performance Tuning & Scalability* Leadership & Mentorship* Agile Methodologies & DevOps Practices* Cross-Functional Collaboration* Open-Source Contributions* Machine Learning & AI Systems Integration---### **Professional Experience**#### **Principal Engineer / Architect***XYZ Corp | New York, NY**January 2020 – Present** Lead the design and development of a multi-region distributed microservices architecture supporting over 100 million monthly active users.* Drove the transition from monolithic to microservices architecture, resulting in a 40% reduction in deployment time and improved system scalability.* Collaborated with product teams to define long-term technical strategies and aligned product features with technical capabilities.* Mentored and led a team of 15 engineers, providing technical guidance and fostering an environment of continuous learning.* Architected a serverless platform for real-time data processing, reducing infrastructure costs by 30%.* Delivered high-performance algorithms that optimized data storage and retrieval times, improving user experience.* Actively contributed to the open-source community with several widely used repositories for building cloud-native applications.#### **Senior Software Engineer***ABC Technologies | San Francisco, CA**July 2015 – December 2019** Architected and developed scalable APIs and microservices that served over 50 million monthly requests.* Led the integration of machine learning models for predictive analytics, significantly improving the platform's recommendation engine.* Optimized system performance, reducing latency by 20% through the use of in-memory caching and efficient query processing.* Worked closely with cross-functional teams to define the technical roadmap and ensure alignment with business objectives.* Trained and mentored junior engineers, helping them to grow in their technical careers.#### **Software Engineer***Tech Solutions | Austin, TX**August 2010 – June 2015** Designed and implemented new features for a large-scale e-commerce platform, supporting over 10 million customers.* Contributed to the backend design and optimization, leading to a 25% increase in transaction throughput.* Collaborated with front-end engineers to deliver seamless user experiences through robust API integrations.* Participated in code reviews and introduced best practices for clean, maintainable code.---### **Education****Master of Science in Computer Science***University of California, Berkeley | Berkeley, CA**Graduated: May 2010***Bachelor of Science in Software Engineering***University of Texas, Austin | Austin, TX**Graduated: May 2008*---### **Certifications*** AWS Certified Solutions Architect – Professional* Google Cloud Professional Cloud Architect* Microsoft Certified: Azure Solutions Architect Expert* Certified Kubernetes Administrator (CKA)---### **Technical Skills*** **Languages:** Python, Java, Go, C++, </result>\" +\n",
    "             \"rank according to the following instructions:\" +\n",
    "             \"Rank 1 - Intern/Trainee: Little to no professional experience. Focus on academic projects, personal projects, and foundational programming skills. Rank 2 - Junior Developer: 0-2 years of experience. Demonstrates understanding of basic programming concepts and tools. Has contributed to smaller features or bug fixes under supervision. Rank 3 - Developer: 2-4 years of experience. Proficient in at least one programming language/stack. Can work independently on moderately complex tasks and features. Rank 4 - Senior Developer: 4-7 years of experience. Deep expertise in one or more areas. Can lead small projects, mentor junior developers, and make significant technical contributions. Responsible for system design and architecture of components. Rank 5 - Lead Developer/Tech Lead: 7+ years of experience. Leads a team of developers. Responsible for technical direction, code quality, and project delivery. Strong architectural and problem-solving skills. Rank 6 - Principal Engineer/Architect: 10+ years of experience. Recognized technical expert within the organization or community. Drives long-term technical strategy and innovation. Solves the most complex technical challenges. Rank 7 - Staff Engineer: Similar to Principal, often with a broader scope of influence across multiple teams or a critical company-wide system. Focuses on high-impact technical work and mentorship. Rank 8 - Senior Staff/Distinguished Engineer: Highly experienced and influential individual contributor. Shapes technical direction at a company or even industry level. Often has a strong external presence (e.g., open-source contributions, conference talks). Rank 9 - Engineering Manager (with strong technical background): Manages teams of engineers while retaining significant technical depth. Focuses on people management, project execution, and technical strategy alignment. CV would highlight both leadership and technical accomplishments. Rank 10 - CTO/VP of Engineering (for smaller companies/startups): Highest technical leadership role, responsible for the entire engineering organization, technology vision, and execution. CV would show a progression through many of the prior ranks and significant leadership/impact.\"))"
   ]
  },
  {
   "cell_type": "markdown",
   "metadata": {},
   "source": [
    "# Never trust blindly"
   ]
  },
  {
   "cell_type": "code",
   "execution_count": 12,
   "metadata": {},
   "outputs": [
    {
     "data": {
      "text/html": [
       "<pre style=\"white-space:pre;overflow-x:auto;line-height:normal;font-family:Menlo,'DejaVu Sans Mono',consolas,'Courier New',monospace\"><span style=\"color: #008080; text-decoration-color: #008080; font-weight: bold\">1</span>. Innovation and Technology: Tesla is at the forefront of electric vehicle technology and is constantly innovating\n",
       "and improving its products. Investing in Tesla means investing in cutting-edge technology that is shaping the \n",
       "future of transportation.\n",
       "\n",
       "<span style=\"color: #008080; text-decoration-color: #008080; font-weight: bold\">2</span>. Strong Performance: Tesla has consistently shown strong financial performance, with steady revenue growth and \n",
       "increasing market share in the electric vehicle industry. Its stock price has also experienced significant growth \n",
       "over the years, making it an attractive investment option.\n",
       "\n",
       "<span style=\"color: #008080; text-decoration-color: #008080; font-weight: bold\">3</span>. Environmental Benefits: By investing in Tesla, you are supporting a company that is committed to sustainability \n",
       "and reducing carbon emissions. Electric vehicles have a lower environmental impact compared to traditional \n",
       "gasoline-powered vehicles, which is becoming increasingly important as the world strives to combat climate change.\n",
       "\n",
       "<span style=\"color: #008080; text-decoration-color: #008080; font-weight: bold\">4</span>. Growth Potential: Tesla has ambitious plans for expansion, including the construction of new Gigafactories in \n",
       "different parts of the world and the development of new products such as electric trucks and self-driving \n",
       "technology. This growth potential can lead to increased revenue and profits in the future, making Tesla a promising\n",
       "long-term investment.\n",
       "\n",
       "<span style=\"color: #008080; text-decoration-color: #008080; font-weight: bold\">5</span>. Industry Leader: Tesla is a recognized leader in the electric vehicle market, with a strong brand and loyal \n",
       "customer base. By investing in Tesla, you are investing in a company that is well-positioned to capitalize on the \n",
       "growing demand for electric vehicles and other renewable energy solutions. This makes Tesla a solid investment \n",
       "choice for those looking to make a positive impact on the environment while earning a potentially lucrative return.\n",
       "</pre>\n"
      ],
      "text/plain": [
       "\u001B[1;36m1\u001B[0m. Innovation and Technology: Tesla is at the forefront of electric vehicle technology and is constantly innovating\n",
       "and improving its products. Investing in Tesla means investing in cutting-edge technology that is shaping the \n",
       "future of transportation.\n",
       "\n",
       "\u001B[1;36m2\u001B[0m. Strong Performance: Tesla has consistently shown strong financial performance, with steady revenue growth and \n",
       "increasing market share in the electric vehicle industry. Its stock price has also experienced significant growth \n",
       "over the years, making it an attractive investment option.\n",
       "\n",
       "\u001B[1;36m3\u001B[0m. Environmental Benefits: By investing in Tesla, you are supporting a company that is committed to sustainability \n",
       "and reducing carbon emissions. Electric vehicles have a lower environmental impact compared to traditional \n",
       "gasoline-powered vehicles, which is becoming increasingly important as the world strives to combat climate change.\n",
       "\n",
       "\u001B[1;36m4\u001B[0m. Growth Potential: Tesla has ambitious plans for expansion, including the construction of new Gigafactories in \n",
       "different parts of the world and the development of new products such as electric trucks and self-driving \n",
       "technology. This growth potential can lead to increased revenue and profits in the future, making Tesla a promising\n",
       "long-term investment.\n",
       "\n",
       "\u001B[1;36m5\u001B[0m. Industry Leader: Tesla is a recognized leader in the electric vehicle market, with a strong brand and loyal \n",
       "customer base. By investing in Tesla, you are investing in a company that is well-positioned to capitalize on the \n",
       "growing demand for electric vehicles and other renewable energy solutions. This makes Tesla a solid investment \n",
       "choice for those looking to make a positive impact on the environment while earning a potentially lucrative return.\n"
      ]
     },
     "metadata": {},
     "output_type": "display_data"
    }
   ],
   "source": [
    "print(invoke(\"Argue logically in 5 points why to invest in TESLA\"))"
   ]
  },
  {
   "cell_type": "code",
   "execution_count": 13,
   "metadata": {},
   "outputs": [
    {
     "data": {
      "text/html": [
       "<pre style=\"white-space:pre;overflow-x:auto;line-height:normal;font-family:Menlo,'DejaVu Sans Mono',consolas,'Courier New',monospace\"><span style=\"color: #008080; text-decoration-color: #008080; font-weight: bold\">1</span>. High volatility: Tesla stock has been known for its high volatility, which can lead to significant fluctuations \n",
       "in the price of the stock. This can make it risky for investors, as sudden drops in price can result in substantial\n",
       "losses.\n",
       "\n",
       "<span style=\"color: #008080; text-decoration-color: #008080; font-weight: bold\">2</span>. Limited profitability: Tesla has struggled to maintain consistent profitability, with the company reporting \n",
       "losses in several quarters. This lack of profitability can be concerning for investors, as it raises questions \n",
       "about the company's long-term sustainability.\n",
       "\n",
       "<span style=\"color: #008080; text-decoration-color: #008080; font-weight: bold\">3</span>. Competition: The electric vehicle market is becoming increasingly crowded, with several major automakers \n",
       "entering the space. This increased competition could impact Tesla's market share and profitability, as it may \n",
       "struggle to differentiate itself from competitors.\n",
       "\n",
       "<span style=\"color: #008080; text-decoration-color: #008080; font-weight: bold\">4</span>. Regulatory risks: Tesla operates in a heavily regulated industry, which subjects it to potential regulatory \n",
       "risks. Changes in regulations, such as stricter emissions standards or government incentives for electric vehicles,\n",
       "could impact Tesla's business and financial performance.\n",
       "\n",
       "<span style=\"color: #008080; text-decoration-color: #008080; font-weight: bold\">5</span>. Overvaluation: Some analysts argue that Tesla's stock is overvalued, given its high price-to-earnings ratio and \n",
       "other valuation metrics. An investment in Tesla at its current valuation may not provide a sufficient return for \n",
       "investors, as the stock may be trading at a premium relative to its intrinsic value.\n",
       "</pre>\n"
      ],
      "text/plain": [
       "\u001B[1;36m1\u001B[0m. High volatility: Tesla stock has been known for its high volatility, which can lead to significant fluctuations \n",
       "in the price of the stock. This can make it risky for investors, as sudden drops in price can result in substantial\n",
       "losses.\n",
       "\n",
       "\u001B[1;36m2\u001B[0m. Limited profitability: Tesla has struggled to maintain consistent profitability, with the company reporting \n",
       "losses in several quarters. This lack of profitability can be concerning for investors, as it raises questions \n",
       "about the company's long-term sustainability.\n",
       "\n",
       "\u001B[1;36m3\u001B[0m. Competition: The electric vehicle market is becoming increasingly crowded, with several major automakers \n",
       "entering the space. This increased competition could impact Tesla's market share and profitability, as it may \n",
       "struggle to differentiate itself from competitors.\n",
       "\n",
       "\u001B[1;36m4\u001B[0m. Regulatory risks: Tesla operates in a heavily regulated industry, which subjects it to potential regulatory \n",
       "risks. Changes in regulations, such as stricter emissions standards or government incentives for electric vehicles,\n",
       "could impact Tesla's business and financial performance.\n",
       "\n",
       "\u001B[1;36m5\u001B[0m. Overvaluation: Some analysts argue that Tesla's stock is overvalued, given its high price-to-earnings ratio and \n",
       "other valuation metrics. An investment in Tesla at its current valuation may not provide a sufficient return for \n",
       "investors, as the stock may be trading at a premium relative to its intrinsic value.\n"
      ]
     },
     "metadata": {},
     "output_type": "display_data"
    }
   ],
   "source": [
    "print(invoke(\"Argue logically in 5 points why not to invest in TESLA\"))"
   ]
  },
  {
   "metadata": {},
   "cell_type": "markdown",
   "source": "# Guardrails"
  },
  {
   "metadata": {},
   "cell_type": "code",
   "outputs": [],
   "execution_count": null,
   "source": ""
  },
  {
   "metadata": {
    "ExecuteTime": {
     "end_time": "2025-07-10T06:31:43.796521Z",
     "start_time": "2025-07-10T06:31:42.242183Z"
    }
   },
   "cell_type": "code",
   "source": "print(invoke(\"What are the most common fruits to eat?\"))",
   "outputs": [
    {
     "data": {
      "text/plain": [
       "Some of the most common fruits to eat include:\n",
       "\n",
       "\u001B[1;36m1\u001B[0m. Apples\n",
       "\u001B[1;36m2\u001B[0m. Bananas\n",
       "\u001B[1;36m3\u001B[0m. Oranges\n",
       "\u001B[1;36m4\u001B[0m. Grapes\n",
       "\u001B[1;36m5\u001B[0m. Strawberries\n",
       "\u001B[1;36m6\u001B[0m. Watermelon\n",
       "\u001B[1;36m7\u001B[0m. Kiwi\n",
       "\u001B[1;36m8\u001B[0m. Pineapple\n",
       "\u001B[1;36m9\u001B[0m. Mango\n",
       "\u001B[1;36m10\u001B[0m. Blueberries\n",
       "\n",
       "These fruits are widely available and popular choices for snacking and incorporating into meals and desserts.\n"
      ],
      "text/html": [
       "<pre style=\"white-space:pre;overflow-x:auto;line-height:normal;font-family:Menlo,'DejaVu Sans Mono',consolas,'Courier New',monospace\">Some of the most common fruits to eat include:\n",
       "\n",
       "<span style=\"color: #008080; text-decoration-color: #008080; font-weight: bold\">1</span>. Apples\n",
       "<span style=\"color: #008080; text-decoration-color: #008080; font-weight: bold\">2</span>. Bananas\n",
       "<span style=\"color: #008080; text-decoration-color: #008080; font-weight: bold\">3</span>. Oranges\n",
       "<span style=\"color: #008080; text-decoration-color: #008080; font-weight: bold\">4</span>. Grapes\n",
       "<span style=\"color: #008080; text-decoration-color: #008080; font-weight: bold\">5</span>. Strawberries\n",
       "<span style=\"color: #008080; text-decoration-color: #008080; font-weight: bold\">6</span>. Watermelon\n",
       "<span style=\"color: #008080; text-decoration-color: #008080; font-weight: bold\">7</span>. Kiwi\n",
       "<span style=\"color: #008080; text-decoration-color: #008080; font-weight: bold\">8</span>. Pineapple\n",
       "<span style=\"color: #008080; text-decoration-color: #008080; font-weight: bold\">9</span>. Mango\n",
       "<span style=\"color: #008080; text-decoration-color: #008080; font-weight: bold\">10</span>. Blueberries\n",
       "\n",
       "These fruits are widely available and popular choices for snacking and incorporating into meals and desserts.\n",
       "</pre>\n"
      ]
     },
     "metadata": {},
     "output_type": "display_data"
    }
   ],
   "execution_count": 4
  },
  {
   "metadata": {
    "ExecuteTime": {
     "end_time": "2025-07-10T06:32:21.390672Z",
     "start_time": "2025-07-10T06:32:19.360119Z"
    }
   },
   "cell_type": "code",
   "source": [
    "print(invoke(\"What are the most common fruits to eat? \\\n",
    "              Don't mention apples\"))\n"
   ],
   "outputs": [
    {
     "data": {
      "text/plain": [
       "Bananas, oranges, grapes, berries, watermelon, pineapple, peaches, pears, cherries, mangoes.\n"
      ],
      "text/html": [
       "<pre style=\"white-space:pre;overflow-x:auto;line-height:normal;font-family:Menlo,'DejaVu Sans Mono',consolas,'Courier New',monospace\">Bananas, oranges, grapes, berries, watermelon, pineapple, peaches, pears, cherries, mangoes.\n",
       "</pre>\n"
      ]
     },
     "metadata": {},
     "output_type": "display_data"
    }
   ],
   "execution_count": 5
  },
  {
   "metadata": {},
   "cell_type": "code",
   "outputs": [],
   "execution_count": null,
   "source": ""
  }
 ],
 "metadata": {
  "kernelspec": {
   "display_name": ".venv",
   "language": "python",
   "name": "python3"
  },
  "language_info": {
   "codemirror_mode": {
    "name": "ipython",
    "version": 3
   },
   "file_extension": ".py",
   "mimetype": "text/x-python",
   "name": "python",
   "nbconvert_exporter": "python",
   "pygments_lexer": "ipython3",
   "version": "3.13.2"
  }
 },
 "nbformat": 4,
 "nbformat_minor": 2
}
